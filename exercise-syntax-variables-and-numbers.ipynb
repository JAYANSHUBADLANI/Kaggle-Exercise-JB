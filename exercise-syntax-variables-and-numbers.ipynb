{
 "cells": [
  {
   "cell_type": "markdown",
   "id": "e7267453",
   "metadata": {
    "papermill": {
     "duration": 0.006732,
     "end_time": "2024-06-02T08:59:46.288486",
     "exception": false,
     "start_time": "2024-06-02T08:59:46.281754",
     "status": "completed"
    },
    "tags": []
   },
   "source": [
    "**This notebook is an exercise in the [Python](https://www.kaggle.com/learn/python) course.  You can reference the tutorial at [this link](https://www.kaggle.com/colinmorris/hello-python).**\n",
    "\n",
    "---\n"
   ]
  },
  {
   "cell_type": "markdown",
   "id": "289aa652",
   "metadata": {
    "papermill": {
     "duration": 0.005764,
     "end_time": "2024-06-02T08:59:46.300737",
     "exception": false,
     "start_time": "2024-06-02T08:59:46.294973",
     "status": "completed"
    },
    "tags": []
   },
   "source": [
    "Welcome to your first set of Python coding problems.  If this is your first time using Kaggle Notebooks, welcome! \n",
    "\n",
    "Notebooks are composed of blocks (called \"cells\") of text and code. Each of these is editable, though you'll mainly be editing the code cells to answer some questions.\n",
    "\n",
    "To get started, try running the code cell below (by pressing the ► button, or clicking on the cell and pressing ctrl+enter on your keyboard)."
   ]
  },
  {
   "cell_type": "code",
   "execution_count": 1,
   "id": "f9f8a0fd",
   "metadata": {
    "execution": {
     "iopub.execute_input": "2024-06-02T08:59:46.314435Z",
     "iopub.status.busy": "2024-06-02T08:59:46.314047Z",
     "iopub.status.idle": "2024-06-02T08:59:46.326286Z",
     "shell.execute_reply": "2024-06-02T08:59:46.325067Z"
    },
    "papermill": {
     "duration": 0.022019,
     "end_time": "2024-06-02T08:59:46.328742",
     "exception": false,
     "start_time": "2024-06-02T08:59:46.306723",
     "status": "completed"
    },
    "tags": []
   },
   "outputs": [
    {
     "name": "stdout",
     "output_type": "stream",
     "text": [
      "You've successfully run some Python code\n",
      "Congratulations!\n"
     ]
    }
   ],
   "source": [
    "print(\"You've successfully run some Python code\")\n",
    "print(\"Congratulations!\")"
   ]
  },
  {
   "cell_type": "markdown",
   "id": "0dcbcc9d",
   "metadata": {
    "papermill": {
     "duration": 0.005831,
     "end_time": "2024-06-02T08:59:46.340999",
     "exception": false,
     "start_time": "2024-06-02T08:59:46.335168",
     "status": "completed"
    },
    "tags": []
   },
   "source": [
    "Try adding another line of code in the cell above and re-running it. \n",
    "\n",
    "Now let's get a little fancier:  Add a new code cell by clicking on an existing code cell, hitting the escape key, and then hitting the `a` or `b` key.  The `a` key will add a cell above the current cell, and `b` adds a cell below.\n",
    "\n",
    "Great! Now you know how to use Notebooks.\n",
    "\n",
    "Each hands-on exercise starts by setting up our feedback and code checking mechanism. Run the code cell below to do that. Then you'll be ready to move on to question 0."
   ]
  },
  {
   "cell_type": "code",
   "execution_count": 2,
   "id": "86f63e46",
   "metadata": {
    "_kg_hide-input": true,
    "_kg_hide-output": true,
    "execution": {
     "iopub.execute_input": "2024-06-02T08:59:46.354881Z",
     "iopub.status.busy": "2024-06-02T08:59:46.354506Z",
     "iopub.status.idle": "2024-06-02T08:59:47.270321Z",
     "shell.execute_reply": "2024-06-02T08:59:47.269090Z"
    },
    "papermill": {
     "duration": 0.927181,
     "end_time": "2024-06-02T08:59:47.274265",
     "exception": false,
     "start_time": "2024-06-02T08:59:46.347084",
     "status": "completed"
    },
    "tags": []
   },
   "outputs": [
    {
     "name": "stdout",
     "output_type": "stream",
     "text": [
      "Setup complete! You're ready to start question 0.\n"
     ]
    }
   ],
   "source": [
    "from learntools.core import binder; binder.bind(globals())\n",
    "from learntools.python.ex1 import *\n",
    "print(\"Setup complete! You're ready to start question 0.\")"
   ]
  },
  {
   "cell_type": "markdown",
   "id": "0fdbecda",
   "metadata": {
    "papermill": {
     "duration": 0.00614,
     "end_time": "2024-06-02T08:59:47.287370",
     "exception": false,
     "start_time": "2024-06-02T08:59:47.281230",
     "status": "completed"
    },
    "tags": []
   },
   "source": [
    "# 0.\n",
    "\n",
    "*This is a silly question intended as an introduction to the format we use for hands-on exercises throughout all Kaggle courses.*\n",
    "\n",
    "**What is your favorite color? **\n",
    "\n",
    "To complete this question, create a variable called `color` in the cell below with an appropriate value. The function call `q0.check()` (which we've already provided in the cell below) will check your answer."
   ]
  },
  {
   "cell_type": "code",
   "execution_count": 3,
   "id": "faf837f6",
   "metadata": {
    "execution": {
     "iopub.execute_input": "2024-06-02T08:59:47.301727Z",
     "iopub.status.busy": "2024-06-02T08:59:47.301254Z",
     "iopub.status.idle": "2024-06-02T08:59:47.311384Z",
     "shell.execute_reply": "2024-06-02T08:59:47.310181Z"
    },
    "papermill": {
     "duration": 0.020008,
     "end_time": "2024-06-02T08:59:47.313752",
     "exception": false,
     "start_time": "2024-06-02T08:59:47.293744",
     "status": "completed"
    },
    "tags": []
   },
   "outputs": [
    {
     "data": {
      "application/javascript": [
       "parent.postMessage({\"jupyterEvent\": \"custom.exercise_interaction\", \"data\": {\"outcomeType\": 1, \"valueTowardsCompletion\": 0.25, \"interactionType\": 1, \"questionType\": 2, \"questionId\": \"0_ExerciseFormatTutorial\", \"learnToolsVersion\": \"0.3.4\", \"failureMessage\": \"\", \"exceptionClass\": \"\", \"trace\": \"\"}}, \"*\")"
      ],
      "text/plain": [
       "<IPython.core.display.Javascript object>"
      ]
     },
     "metadata": {},
     "output_type": "display_data"
    },
    {
     "data": {
      "text/markdown": [
       "<span style=\"color:#33cc33\">Correct:</span> What?! You got it right without needing a hint or anything? Drats. Well hey, you should still continue to the next step to get some practice asking for a hint and checking solutions. (Even though you obviously don't need any help here.)"
      ],
      "text/plain": [
       "Correct: What?! You got it right without needing a hint or anything? Drats. Well hey, you should still continue to the next step to get some practice asking for a hint and checking solutions. (Even though you obviously don't need any help here.)"
      ]
     },
     "metadata": {},
     "output_type": "display_data"
    }
   ],
   "source": [
    "# create a variable called color with an appropriate value on the line below\n",
    "# (Remember, strings in Python must be enclosed in 'single' or \"double\" quotes)\n",
    "color = \"blue\"\n",
    "\n",
    "# Check your answer\n",
    "q0.check()\n"
   ]
  },
  {
   "cell_type": "markdown",
   "id": "ec8489bb",
   "metadata": {
    "papermill": {
     "duration": 0.007081,
     "end_time": "2024-06-02T08:59:47.327465",
     "exception": false,
     "start_time": "2024-06-02T08:59:47.320384",
     "status": "completed"
    },
    "tags": []
   },
   "source": [
    "Didn't get the right answer? How do you not even know your own favorite color?!\n",
    "\n",
    "Delete the `#` in the line below to make one of the lines run. You can choose between getting a hint or the full answer by choosing which line to remove the `#` from. \n",
    "\n",
    "Removing the `#` is called uncommenting, because it changes that line from a \"comment\" which Python doesn't run to code, which Python does run."
   ]
  },
  {
   "cell_type": "code",
   "execution_count": 4,
   "id": "a3f6c196",
   "metadata": {
    "execution": {
     "iopub.execute_input": "2024-06-02T08:59:47.342714Z",
     "iopub.status.busy": "2024-06-02T08:59:47.342324Z",
     "iopub.status.idle": "2024-06-02T08:59:47.346838Z",
     "shell.execute_reply": "2024-06-02T08:59:47.345802Z"
    },
    "papermill": {
     "duration": 0.014834,
     "end_time": "2024-06-02T08:59:47.349176",
     "exception": false,
     "start_time": "2024-06-02T08:59:47.334342",
     "status": "completed"
    },
    "tags": []
   },
   "outputs": [],
   "source": [
    "#q0.hint()\n",
    "#q0.solution()"
   ]
  },
  {
   "cell_type": "markdown",
   "id": "0f06e63f",
   "metadata": {
    "papermill": {
     "duration": 0.006383,
     "end_time": "2024-06-02T08:59:47.362236",
     "exception": false,
     "start_time": "2024-06-02T08:59:47.355853",
     "status": "completed"
    },
    "tags": []
   },
   "source": [
    "The upcoming questions work the same way. The only thing that will change are the question numbers. For the next question, you'll call `q1.check()`, `q1.hint()`, `q1.solution()`, for question 2, you'll call `q2.check()`, and so on."
   ]
  },
  {
   "cell_type": "markdown",
   "id": "3584e2e5",
   "metadata": {
    "papermill": {
     "duration": 0.006481,
     "end_time": "2024-06-02T08:59:47.375304",
     "exception": false,
     "start_time": "2024-06-02T08:59:47.368823",
     "status": "completed"
    },
    "tags": []
   },
   "source": [
    "<hr/>\n",
    "\n",
    "# 1.\n",
    "\n",
    "Complete the code below. In case it's helpful, here is the table of available arithmetic operations:\n",
    "\n",
    "\n",
    "\n",
    "| Operator     | Name           | Description                                            |\n",
    "|--------------|----------------|--------------------------------------------------------|\n",
    "| ``a + b``    | Addition       | Sum of ``a`` and ``b``                                 |\n",
    "| ``a - b``    | Subtraction    | Difference of ``a`` and ``b``                          |\n",
    "| ``a * b``    | Multiplication | Product of ``a`` and ``b``                             |\n",
    "| ``a / b``    | True division  | Quotient of ``a`` and ``b``                            |\n",
    "| ``a // b``   | Floor division | Quotient of ``a`` and ``b``, removing fractional parts |\n",
    "| ``a % b``    | Modulus        | Integer remainder after division of ``a`` by ``b``     |\n",
    "| ``a ** b``   | Exponentiation | ``a`` raised to the power of ``b``                     |\n",
    "| ``-a``       | Negation       | The negative of ``a``                                  |\n",
    "\n",
    "<span style=\"display:none\"></span>\n"
   ]
  },
  {
   "cell_type": "code",
   "execution_count": 5,
   "id": "7049babe",
   "metadata": {
    "execution": {
     "iopub.execute_input": "2024-06-02T08:59:47.390731Z",
     "iopub.status.busy": "2024-06-02T08:59:47.389790Z",
     "iopub.status.idle": "2024-06-02T08:59:47.400119Z",
     "shell.execute_reply": "2024-06-02T08:59:47.399110Z"
    },
    "papermill": {
     "duration": 0.021195,
     "end_time": "2024-06-02T08:59:47.403031",
     "exception": false,
     "start_time": "2024-06-02T08:59:47.381836",
     "status": "completed"
    },
    "tags": []
   },
   "outputs": [
    {
     "name": "stdout",
     "output_type": "stream",
     "text": [
      "Radius: 1.5\n",
      "Area: 7.0685775\n"
     ]
    },
    {
     "data": {
      "application/javascript": [
       "parent.postMessage({\"jupyterEvent\": \"custom.exercise_interaction\", \"data\": {\"outcomeType\": 1, \"valueTowardsCompletion\": 0.25, \"interactionType\": 1, \"questionType\": 1, \"questionId\": \"1_CircleArea\", \"learnToolsVersion\": \"0.3.4\", \"failureMessage\": \"\", \"exceptionClass\": \"\", \"trace\": \"\"}}, \"*\")"
      ],
      "text/plain": [
       "<IPython.core.display.Javascript object>"
      ]
     },
     "metadata": {},
     "output_type": "display_data"
    },
    {
     "data": {
      "text/markdown": [
       "<span style=\"color:#33cc33\">Correct</span>"
      ],
      "text/plain": [
       "Correct"
      ]
     },
     "metadata": {},
     "output_type": "display_data"
    }
   ],
   "source": [
    "pi = 3.14159 # approximate\n",
    "diameter = 3\n",
    "\n",
    "# Create a variable called 'radius' equal to half the diameter\n",
    "radius = diameter / 2\n",
    "\n",
    "# Create a variable called 'area', using the formula for the area of a circle: pi times the radius squared\n",
    "area = pi * (radius ** 2)\n",
    "\n",
    "# Print the values for verification\n",
    "print(\"Radius:\", radius)\n",
    "print(\"Area:\", area)\n",
    "\n",
    "# Check your answer\n",
    "q1.check()\n"
   ]
  },
  {
   "cell_type": "code",
   "execution_count": 6,
   "id": "84aa342c",
   "metadata": {
    "execution": {
     "iopub.execute_input": "2024-06-02T08:59:47.418810Z",
     "iopub.status.busy": "2024-06-02T08:59:47.417866Z",
     "iopub.status.idle": "2024-06-02T08:59:47.422597Z",
     "shell.execute_reply": "2024-06-02T08:59:47.421602Z"
    },
    "papermill": {
     "duration": 0.014795,
     "end_time": "2024-06-02T08:59:47.424623",
     "exception": false,
     "start_time": "2024-06-02T08:59:47.409828",
     "status": "completed"
    },
    "tags": []
   },
   "outputs": [],
   "source": [
    "# Uncomment and run the lines below if you need help.\n",
    "#q1.hint()\n",
    "#q1.solution()"
   ]
  },
  {
   "cell_type": "markdown",
   "id": "df2cf540",
   "metadata": {
    "papermill": {
     "duration": 0.007173,
     "end_time": "2024-06-02T08:59:47.438792",
     "exception": false,
     "start_time": "2024-06-02T08:59:47.431619",
     "status": "completed"
    },
    "tags": []
   },
   "source": [
    "<hr/>\n",
    "\n",
    "# 2.\n",
    "\n",
    "Add code to the following cell to swap variables `a` and `b` (so that `a` refers to the object previously referred to by `b` and vice versa)."
   ]
  },
  {
   "cell_type": "code",
   "execution_count": 7,
   "id": "78ef5e5c",
   "metadata": {
    "execution": {
     "iopub.execute_input": "2024-06-02T08:59:47.454209Z",
     "iopub.status.busy": "2024-06-02T08:59:47.453808Z",
     "iopub.status.idle": "2024-06-02T08:59:47.463715Z",
     "shell.execute_reply": "2024-06-02T08:59:47.462626Z"
    },
    "papermill": {
     "duration": 0.020242,
     "end_time": "2024-06-02T08:59:47.465890",
     "exception": false,
     "start_time": "2024-06-02T08:59:47.445648",
     "status": "completed"
    },
    "tags": []
   },
   "outputs": [
    {
     "data": {
      "application/javascript": [
       "parent.postMessage({\"jupyterEvent\": \"custom.exercise_interaction\", \"data\": {\"outcomeType\": 1, \"valueTowardsCompletion\": 0.25, \"interactionType\": 1, \"questionType\": 2, \"questionId\": \"2_VariableSwap\", \"learnToolsVersion\": \"0.3.4\", \"failureMessage\": \"\", \"exceptionClass\": \"\", \"trace\": \"\"}}, \"*\")"
      ],
      "text/plain": [
       "<IPython.core.display.Javascript object>"
      ]
     },
     "metadata": {},
     "output_type": "display_data"
    },
    {
     "data": {
      "text/markdown": [
       "<span style=\"color:#33cc33\">Correct:</span> \n",
       "\n",
       "The most straightforward solution is to use a third variable to temporarily store one of the old values. e.g.:\n",
       "\n",
       "    tmp = a\n",
       "    a = b\n",
       "    b = tmp\n",
       "\n",
       "If you've read lots of Python code, you might have seen the following trick to swap two variables in one line:\n",
       "\n",
       "    a, b = b, a\n",
       "\n",
       "We'll demystify this bit of Python magic later when we talk about *tuples*."
      ],
      "text/plain": [
       "Correct: \n",
       "\n",
       "The most straightforward solution is to use a third variable to temporarily store one of the old values. e.g.:\n",
       "\n",
       "    tmp = a\n",
       "    a = b\n",
       "    b = tmp\n",
       "\n",
       "If you've read lots of Python code, you might have seen the following trick to swap two variables in one line:\n",
       "\n",
       "    a, b = b, a\n",
       "\n",
       "We'll demystify this bit of Python magic later when we talk about *tuples*."
      ]
     },
     "metadata": {},
     "output_type": "display_data"
    }
   ],
   "source": [
    "########### Setup code - don't touch this part ######################\n",
    "# If you're curious, these are examples of lists. We'll talk about \n",
    "# them in depth a few lessons from now. For now, just know that they're\n",
    "# yet another type of Python object, like int or float.\n",
    "a = [1, 2, 3]\n",
    "b = [3, 2, 1]\n",
    "q2.store_original_ids()\n",
    "######################################################################\n",
    "\n",
    "# Your code goes here. Swap the values to which a and b refer.\n",
    "a, b = b, a\n",
    "\n",
    "######################################################################\n",
    "\n",
    "# Check your answer\n",
    "q2.check()\n"
   ]
  },
  {
   "cell_type": "code",
   "execution_count": 8,
   "id": "96f0be1e",
   "metadata": {
    "execution": {
     "iopub.execute_input": "2024-06-02T08:59:47.482445Z",
     "iopub.status.busy": "2024-06-02T08:59:47.481728Z",
     "iopub.status.idle": "2024-06-02T08:59:47.486717Z",
     "shell.execute_reply": "2024-06-02T08:59:47.485623Z"
    },
    "papermill": {
     "duration": 0.015773,
     "end_time": "2024-06-02T08:59:47.489056",
     "exception": false,
     "start_time": "2024-06-02T08:59:47.473283",
     "status": "completed"
    },
    "tags": []
   },
   "outputs": [],
   "source": [
    "#q2.hint()"
   ]
  },
  {
   "cell_type": "code",
   "execution_count": 9,
   "id": "637e05b7",
   "metadata": {
    "execution": {
     "iopub.execute_input": "2024-06-02T08:59:47.505710Z",
     "iopub.status.busy": "2024-06-02T08:59:47.505349Z",
     "iopub.status.idle": "2024-06-02T08:59:47.509867Z",
     "shell.execute_reply": "2024-06-02T08:59:47.508791Z"
    },
    "papermill": {
     "duration": 0.015306,
     "end_time": "2024-06-02T08:59:47.511998",
     "exception": false,
     "start_time": "2024-06-02T08:59:47.496692",
     "status": "completed"
    },
    "tags": []
   },
   "outputs": [],
   "source": [
    "#q2.solution()"
   ]
  },
  {
   "cell_type": "markdown",
   "id": "d8baa98b",
   "metadata": {
    "papermill": {
     "duration": 0.006944,
     "end_time": "2024-06-02T08:59:47.526313",
     "exception": false,
     "start_time": "2024-06-02T08:59:47.519369",
     "status": "completed"
    },
    "tags": []
   },
   "source": [
    "<hr/>\n",
    "\n",
    "# 3a.\n",
    "\n",
    "Add parentheses to the following expression so that it evaluates to 1."
   ]
  },
  {
   "cell_type": "code",
   "execution_count": 10,
   "id": "9fddb097",
   "metadata": {
    "execution": {
     "iopub.execute_input": "2024-06-02T08:59:47.542797Z",
     "iopub.status.busy": "2024-06-02T08:59:47.542061Z",
     "iopub.status.idle": "2024-06-02T08:59:47.548816Z",
     "shell.execute_reply": "2024-06-02T08:59:47.547689Z"
    },
    "papermill": {
     "duration": 0.017824,
     "end_time": "2024-06-02T08:59:47.551391",
     "exception": false,
     "start_time": "2024-06-02T08:59:47.533567",
     "status": "completed"
    },
    "tags": []
   },
   "outputs": [
    {
     "data": {
      "text/plain": [
       "1"
      ]
     },
     "execution_count": 10,
     "metadata": {},
     "output_type": "execute_result"
    }
   ],
   "source": [
    "(5 - 3) // 2"
   ]
  },
  {
   "cell_type": "code",
   "execution_count": 11,
   "id": "0546ff5d",
   "metadata": {
    "execution": {
     "iopub.execute_input": "2024-06-02T08:59:47.568100Z",
     "iopub.status.busy": "2024-06-02T08:59:47.567700Z",
     "iopub.status.idle": "2024-06-02T08:59:47.572452Z",
     "shell.execute_reply": "2024-06-02T08:59:47.571208Z"
    },
    "papermill": {
     "duration": 0.016002,
     "end_time": "2024-06-02T08:59:47.574895",
     "exception": false,
     "start_time": "2024-06-02T08:59:47.558893",
     "status": "completed"
    },
    "tags": []
   },
   "outputs": [],
   "source": [
    "#q3.a.hint()"
   ]
  },
  {
   "cell_type": "code",
   "execution_count": 12,
   "id": "f2bc14f8",
   "metadata": {
    "execution": {
     "iopub.execute_input": "2024-06-02T08:59:47.592090Z",
     "iopub.status.busy": "2024-06-02T08:59:47.591664Z",
     "iopub.status.idle": "2024-06-02T08:59:47.600282Z",
     "shell.execute_reply": "2024-06-02T08:59:47.599225Z"
    },
    "papermill": {
     "duration": 0.019537,
     "end_time": "2024-06-02T08:59:47.602418",
     "exception": false,
     "start_time": "2024-06-02T08:59:47.582881",
     "status": "completed"
    },
    "tags": []
   },
   "outputs": [
    {
     "data": {
      "application/javascript": [
       "parent.postMessage({\"jupyterEvent\": \"custom.exercise_interaction\", \"data\": {\"interactionType\": 3, \"questionType\": 4, \"questionId\": \"3.1_ArithmeticParensEasy\", \"learnToolsVersion\": \"0.3.4\", \"valueTowardsCompletion\": 0.0, \"failureMessage\": \"\", \"exceptionClass\": \"\", \"trace\": \"\", \"outcomeType\": 4}}, \"*\")"
      ],
      "text/plain": [
       "<IPython.core.display.Javascript object>"
      ]
     },
     "metadata": {},
     "output_type": "display_data"
    },
    {
     "data": {
      "text/markdown": [
       "<span style=\"color:#33cc99\">Solution:</span> \n",
       "```python\n",
       "(5 - 3) // 2\n",
       "```"
      ],
      "text/plain": [
       "Solution: \n",
       "```python\n",
       "(5 - 3) // 2\n",
       "```"
      ]
     },
     "metadata": {},
     "output_type": "display_data"
    }
   ],
   "source": [
    "# Check your answer (Run this code cell to receive credit!)\n",
    "q3.a.solution()"
   ]
  },
  {
   "cell_type": "markdown",
   "id": "8126f39d",
   "metadata": {
    "papermill": {
     "duration": 0.007257,
     "end_time": "2024-06-02T08:59:47.617395",
     "exception": false,
     "start_time": "2024-06-02T08:59:47.610138",
     "status": "completed"
    },
    "tags": []
   },
   "source": [
    "# 3b.  <span title=\"A bit spicy\" style=\"color: darkgreen \">🌶️</span>\n",
    "\n",
    "<small>Questions, like this one, marked a spicy pepper are a bit harder.</small>\n",
    "\n",
    "Add parentheses to the following expression so that it evaluates to 0."
   ]
  },
  {
   "cell_type": "code",
   "execution_count": 13,
   "id": "ccd94db3",
   "metadata": {
    "execution": {
     "iopub.execute_input": "2024-06-02T08:59:47.634308Z",
     "iopub.status.busy": "2024-06-02T08:59:47.633904Z",
     "iopub.status.idle": "2024-06-02T08:59:47.640554Z",
     "shell.execute_reply": "2024-06-02T08:59:47.639359Z"
    },
    "papermill": {
     "duration": 0.017828,
     "end_time": "2024-06-02T08:59:47.642777",
     "exception": false,
     "start_time": "2024-06-02T08:59:47.624949",
     "status": "completed"
    },
    "tags": []
   },
   "outputs": [
    {
     "data": {
      "text/plain": [
       "0"
      ]
     },
     "execution_count": 13,
     "metadata": {},
     "output_type": "execute_result"
    }
   ],
   "source": [
    "8 - (3 * 2) - (1 + 1)"
   ]
  },
  {
   "cell_type": "code",
   "execution_count": 14,
   "id": "8e00a63f",
   "metadata": {
    "execution": {
     "iopub.execute_input": "2024-06-02T08:59:47.660750Z",
     "iopub.status.busy": "2024-06-02T08:59:47.659767Z",
     "iopub.status.idle": "2024-06-02T08:59:47.664632Z",
     "shell.execute_reply": "2024-06-02T08:59:47.663571Z"
    },
    "papermill": {
     "duration": 0.016192,
     "end_time": "2024-06-02T08:59:47.666853",
     "exception": false,
     "start_time": "2024-06-02T08:59:47.650661",
     "status": "completed"
    },
    "tags": []
   },
   "outputs": [],
   "source": [
    "#q3.b.hint()"
   ]
  },
  {
   "cell_type": "code",
   "execution_count": 15,
   "id": "071329e8",
   "metadata": {
    "execution": {
     "iopub.execute_input": "2024-06-02T08:59:47.684557Z",
     "iopub.status.busy": "2024-06-02T08:59:47.684162Z",
     "iopub.status.idle": "2024-06-02T08:59:47.693034Z",
     "shell.execute_reply": "2024-06-02T08:59:47.691956Z"
    },
    "papermill": {
     "duration": 0.02079,
     "end_time": "2024-06-02T08:59:47.695809",
     "exception": false,
     "start_time": "2024-06-02T08:59:47.675019",
     "status": "completed"
    },
    "tags": []
   },
   "outputs": [
    {
     "data": {
      "application/javascript": [
       "parent.postMessage({\"jupyterEvent\": \"custom.exercise_interaction\", \"data\": {\"interactionType\": 3, \"questionType\": 4, \"questionId\": \"3.2_ArithmeticParensHard\", \"learnToolsVersion\": \"0.3.4\", \"valueTowardsCompletion\": 0.0, \"failureMessage\": \"\", \"exceptionClass\": \"\", \"trace\": \"\", \"outcomeType\": 4}}, \"*\")"
      ],
      "text/plain": [
       "<IPython.core.display.Javascript object>"
      ]
     },
     "metadata": {},
     "output_type": "display_data"
    },
    {
     "data": {
      "text/markdown": [
       "<span style=\"color:#33cc99\">Solution:</span> `(8 - 3) * (2 - (1 + 1))` is one solution. There may be others."
      ],
      "text/plain": [
       "Solution: `(8 - 3) * (2 - (1 + 1))` is one solution. There may be others."
      ]
     },
     "metadata": {},
     "output_type": "display_data"
    }
   ],
   "source": [
    "# Check your answer (Run this code cell to receive credit!)\n",
    "q3.b.solution()"
   ]
  },
  {
   "cell_type": "markdown",
   "id": "657a7f23",
   "metadata": {
    "papermill": {
     "duration": 0.007932,
     "end_time": "2024-06-02T08:59:47.712047",
     "exception": false,
     "start_time": "2024-06-02T08:59:47.704115",
     "status": "completed"
    },
    "tags": []
   },
   "source": [
    "<hr/>\n",
    "\n",
    "# 4. \n",
    "Alice, Bob and Carol have agreed to pool their Halloween candy and split it evenly among themselves.\n",
    "For the sake of their friendship, any candies left over will be smashed. For example, if they collectively\n",
    "bring home 91 candies, they'll take 30 each and smash 1.\n",
    "\n",
    "Write an arithmetic expression below to calculate how many candies they must smash for a given haul."
   ]
  },
  {
   "cell_type": "code",
   "execution_count": 16,
   "id": "efbda5ec",
   "metadata": {
    "execution": {
     "iopub.execute_input": "2024-06-02T08:59:47.730740Z",
     "iopub.status.busy": "2024-06-02T08:59:47.729771Z",
     "iopub.status.idle": "2024-06-02T08:59:47.740326Z",
     "shell.execute_reply": "2024-06-02T08:59:47.739293Z"
    },
    "papermill": {
     "duration": 0.022483,
     "end_time": "2024-06-02T08:59:47.742563",
     "exception": false,
     "start_time": "2024-06-02T08:59:47.720080",
     "status": "completed"
    },
    "tags": []
   },
   "outputs": [
    {
     "name": "stdout",
     "output_type": "stream",
     "text": [
      "1\n"
     ]
    },
    {
     "data": {
      "application/javascript": [
       "parent.postMessage({\"jupyterEvent\": \"custom.exercise_interaction\", \"data\": {\"outcomeType\": 1, \"valueTowardsCompletion\": 0.25, \"interactionType\": 1, \"questionType\": 1, \"questionId\": \"4_CandySplitting\", \"learnToolsVersion\": \"0.3.4\", \"failureMessage\": \"\", \"exceptionClass\": \"\", \"trace\": \"\"}}, \"*\")"
      ],
      "text/plain": [
       "<IPython.core.display.Javascript object>"
      ]
     },
     "metadata": {},
     "output_type": "display_data"
    },
    {
     "data": {
      "text/markdown": [
       "<span style=\"color:#33cc33\">Correct</span>"
      ],
      "text/plain": [
       "Correct"
      ]
     },
     "metadata": {},
     "output_type": "display_data"
    }
   ],
   "source": [
    "# Variables representing the number of candies collected by alice, bob, and carol\n",
    "alice_candies = 121\n",
    "bob_candies = 77\n",
    "carol_candies = 109\n",
    "\n",
    "# Calculate the total number of candies\n",
    "total_candies = alice_candies + bob_candies + carol_candies\n",
    "\n",
    "# Calculate the number of candies to be smashed\n",
    "to_smash = total_candies % 3\n",
    "\n",
    "# Print the result to verify\n",
    "print(to_smash)\n",
    "\n",
    "# Check your answer\n",
    "q4.check()"
   ]
  },
  {
   "cell_type": "code",
   "execution_count": 17,
   "id": "6efd015b",
   "metadata": {
    "execution": {
     "iopub.execute_input": "2024-06-02T08:59:47.761698Z",
     "iopub.status.busy": "2024-06-02T08:59:47.760821Z",
     "iopub.status.idle": "2024-06-02T08:59:47.765736Z",
     "shell.execute_reply": "2024-06-02T08:59:47.764406Z"
    },
    "papermill": {
     "duration": 0.016828,
     "end_time": "2024-06-02T08:59:47.767986",
     "exception": false,
     "start_time": "2024-06-02T08:59:47.751158",
     "status": "completed"
    },
    "tags": []
   },
   "outputs": [],
   "source": [
    "#q4.hint()\n",
    "#q4.solution()"
   ]
  },
  {
   "cell_type": "markdown",
   "id": "b37ad91f",
   "metadata": {
    "papermill": {
     "duration": 0.008208,
     "end_time": "2024-06-02T08:59:47.784784",
     "exception": false,
     "start_time": "2024-06-02T08:59:47.776576",
     "status": "completed"
    },
    "tags": []
   },
   "source": [
    "# Keep Going\n",
    "\n",
    "Next up, you'll **[learn to write new functions and understand functions others write](https://www.kaggle.com/colinmorris/functions-and-getting-help)**. This will make you at least 10 times more productive as a Python programmer. "
   ]
  },
  {
   "cell_type": "markdown",
   "id": "6ed3975a",
   "metadata": {
    "papermill": {
     "duration": 0.008663,
     "end_time": "2024-06-02T08:59:47.801843",
     "exception": false,
     "start_time": "2024-06-02T08:59:47.793180",
     "status": "completed"
    },
    "tags": []
   },
   "source": [
    "---\n",
    "\n",
    "\n",
    "\n",
    "\n",
    "*Have questions or comments? Visit the [course discussion forum](https://www.kaggle.com/learn/python/discussion) to chat with other learners.*"
   ]
  }
 ],
 "metadata": {
  "kaggle": {
   "accelerator": "none",
   "dataSources": [],
   "isGpuEnabled": false,
   "isInternetEnabled": false,
   "language": "python",
   "sourceType": "notebook"
  },
  "kernelspec": {
   "display_name": "Python 3",
   "language": "python",
   "name": "python3"
  },
  "language_info": {
   "codemirror_mode": {
    "name": "ipython",
    "version": 3
   },
   "file_extension": ".py",
   "mimetype": "text/x-python",
   "name": "python",
   "nbconvert_exporter": "python",
   "pygments_lexer": "ipython3",
   "version": "3.10.13"
  },
  "learntools_metadata": {
   "lesson_index": 0,
   "type": "exercise"
  },
  "papermill": {
   "default_parameters": {},
   "duration": 4.664316,
   "end_time": "2024-06-02T08:59:48.230877",
   "environment_variables": {},
   "exception": null,
   "input_path": "__notebook__.ipynb",
   "output_path": "__notebook__.ipynb",
   "parameters": {},
   "start_time": "2024-06-02T08:59:43.566561",
   "version": "2.5.0"
  }
 },
 "nbformat": 4,
 "nbformat_minor": 5
}
