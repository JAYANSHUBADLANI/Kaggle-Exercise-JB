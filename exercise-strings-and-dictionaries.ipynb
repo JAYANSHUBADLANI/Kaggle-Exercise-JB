{
 "cells": [
  {
   "cell_type": "markdown",
   "id": "9152e81d",
   "metadata": {
    "papermill": {
     "duration": 0.005821,
     "end_time": "2024-06-02T13:31:25.711709",
     "exception": false,
     "start_time": "2024-06-02T13:31:25.705888",
     "status": "completed"
    },
    "tags": []
   },
   "source": [
    "**This notebook is an exercise in the [Python](https://www.kaggle.com/learn/python) course.  You can reference the tutorial at [this link](https://www.kaggle.com/colinmorris/strings-and-dictionaries).**\n",
    "\n",
    "---\n"
   ]
  },
  {
   "cell_type": "markdown",
   "id": "9fb95bab",
   "metadata": {
    "papermill": {
     "duration": 0.004773,
     "end_time": "2024-06-02T13:31:25.722074",
     "exception": false,
     "start_time": "2024-06-02T13:31:25.717301",
     "status": "completed"
    },
    "tags": []
   },
   "source": [
    "You are almost done with the course. Nice job!\n",
    "\n",
    "We have a couple more interesting problems for you before you go. \n",
    "\n",
    "As always, run the setup code below before working on the questions."
   ]
  },
  {
   "cell_type": "code",
   "execution_count": 1,
   "id": "6e594c14",
   "metadata": {
    "execution": {
     "iopub.execute_input": "2024-06-02T13:31:25.733977Z",
     "iopub.status.busy": "2024-06-02T13:31:25.733502Z",
     "iopub.status.idle": "2024-06-02T13:31:26.608224Z",
     "shell.execute_reply": "2024-06-02T13:31:26.607045Z"
    },
    "papermill": {
     "duration": 0.884203,
     "end_time": "2024-06-02T13:31:26.611702",
     "exception": false,
     "start_time": "2024-06-02T13:31:25.727499",
     "status": "completed"
    },
    "tags": []
   },
   "outputs": [
    {
     "name": "stdout",
     "output_type": "stream",
     "text": [
      "Setup complete.\n"
     ]
    }
   ],
   "source": [
    "from learntools.core import binder; binder.bind(globals())\n",
    "from learntools.python.ex6 import *\n",
    "print('Setup complete.')"
   ]
  },
  {
   "cell_type": "markdown",
   "id": "4c6ac39f",
   "metadata": {
    "papermill": {
     "duration": 0.005708,
     "end_time": "2024-06-02T13:31:26.623063",
     "exception": false,
     "start_time": "2024-06-02T13:31:26.617355",
     "status": "completed"
    },
    "tags": []
   },
   "source": [
    "Let's start with a string lightning round to warm up. What are the lengths of the strings below?\n",
    "\n",
    "For each of the five strings below, predict what `len()` would return when passed that string. Use the variable `length` to record your answer, then run the cell to check whether you were right.  \n",
    "\n",
    "# 0a."
   ]
  },
  {
   "cell_type": "code",
   "execution_count": 2,
   "id": "c47b523f",
   "metadata": {
    "execution": {
     "iopub.execute_input": "2024-06-02T13:31:26.635368Z",
     "iopub.status.busy": "2024-06-02T13:31:26.634888Z",
     "iopub.status.idle": "2024-06-02T13:31:26.643967Z",
     "shell.execute_reply": "2024-06-02T13:31:26.643122Z"
    },
    "papermill": {
     "duration": 0.019127,
     "end_time": "2024-06-02T13:31:26.647361",
     "exception": false,
     "start_time": "2024-06-02T13:31:26.628234",
     "status": "completed"
    },
    "tags": []
   },
   "outputs": [
    {
     "name": "stdout",
     "output_type": "stream",
     "text": [
      "0\n"
     ]
    },
    {
     "data": {
      "application/javascript": [
       "parent.postMessage({\"jupyterEvent\": \"custom.exercise_interaction\", \"data\": {\"outcomeType\": 1, \"valueTowardsCompletion\": 0.3333333333333333, \"interactionType\": 1, \"questionType\": 1, \"questionId\": \"0.1_ZA\", \"learnToolsVersion\": \"0.3.4\", \"failureMessage\": \"\", \"exceptionClass\": \"\", \"trace\": \"\"}}, \"*\")"
      ],
      "text/plain": [
       "<IPython.core.display.Javascript object>"
      ]
     },
     "metadata": {},
     "output_type": "display_data"
    },
    {
     "data": {
      "text/markdown": [
       "<span style=\"color:#33cc33\">Correct:</span> \n",
       "\n",
       "The empty string has length zero. Note that the empty string is also the only string that Python considers as False when converting to boolean."
      ],
      "text/plain": [
       "Correct: \n",
       "\n",
       "The empty string has length zero. Note that the empty string is also the only string that Python considers as False when converting to boolean."
      ]
     },
     "metadata": {},
     "output_type": "display_data"
    }
   ],
   "source": [
    "a = \"\"\n",
    "length = len(a)\n",
    "print(length)\n",
    "q0.a.check()"
   ]
  },
  {
   "cell_type": "markdown",
   "id": "bdcabb22",
   "metadata": {
    "papermill": {
     "duration": 0.005364,
     "end_time": "2024-06-02T13:31:26.658331",
     "exception": false,
     "start_time": "2024-06-02T13:31:26.652967",
     "status": "completed"
    },
    "tags": []
   },
   "source": [
    "# 0b."
   ]
  },
  {
   "cell_type": "code",
   "execution_count": 3,
   "id": "69043817",
   "metadata": {
    "execution": {
     "iopub.execute_input": "2024-06-02T13:31:26.671577Z",
     "iopub.status.busy": "2024-06-02T13:31:26.670866Z",
     "iopub.status.idle": "2024-06-02T13:31:26.679927Z",
     "shell.execute_reply": "2024-06-02T13:31:26.678612Z"
    },
    "papermill": {
     "duration": 0.018167,
     "end_time": "2024-06-02T13:31:26.682054",
     "exception": false,
     "start_time": "2024-06-02T13:31:26.663887",
     "status": "completed"
    },
    "tags": []
   },
   "outputs": [
    {
     "name": "stdout",
     "output_type": "stream",
     "text": [
      "7\n"
     ]
    },
    {
     "data": {
      "application/javascript": [
       "parent.postMessage({\"jupyterEvent\": \"custom.exercise_interaction\", \"data\": {\"outcomeType\": 1, \"valueTowardsCompletion\": 0.3333333333333333, \"interactionType\": 1, \"questionType\": 1, \"questionId\": \"0.2_ZB\", \"learnToolsVersion\": \"0.3.4\", \"failureMessage\": \"\", \"exceptionClass\": \"\", \"trace\": \"\"}}, \"*\")"
      ],
      "text/plain": [
       "<IPython.core.display.Javascript object>"
      ]
     },
     "metadata": {},
     "output_type": "display_data"
    },
    {
     "data": {
      "text/markdown": [
       "<span style=\"color:#33cc33\">Correct:</span> \n",
       "\n",
       "Keep in mind Python includes spaces (and punctuation) when counting string length."
      ],
      "text/plain": [
       "Correct: \n",
       "\n",
       "Keep in mind Python includes spaces (and punctuation) when counting string length."
      ]
     },
     "metadata": {},
     "output_type": "display_data"
    }
   ],
   "source": [
    "b = \"it's ok\"\n",
    "length = len(b)\n",
    "print(length)\n",
    "q0.b.check()"
   ]
  },
  {
   "cell_type": "markdown",
   "id": "9068f671",
   "metadata": {
    "papermill": {
     "duration": 0.005656,
     "end_time": "2024-06-02T13:31:26.693514",
     "exception": false,
     "start_time": "2024-06-02T13:31:26.687858",
     "status": "completed"
    },
    "tags": []
   },
   "source": [
    "# 0c."
   ]
  },
  {
   "cell_type": "code",
   "execution_count": 4,
   "id": "b54463bf",
   "metadata": {
    "execution": {
     "iopub.execute_input": "2024-06-02T13:31:26.706762Z",
     "iopub.status.busy": "2024-06-02T13:31:26.706404Z",
     "iopub.status.idle": "2024-06-02T13:31:26.716023Z",
     "shell.execute_reply": "2024-06-02T13:31:26.714816Z"
    },
    "papermill": {
     "duration": 0.018801,
     "end_time": "2024-06-02T13:31:26.718144",
     "exception": false,
     "start_time": "2024-06-02T13:31:26.699343",
     "status": "completed"
    },
    "tags": []
   },
   "outputs": [
    {
     "name": "stdout",
     "output_type": "stream",
     "text": [
      "7\n"
     ]
    },
    {
     "data": {
      "application/javascript": [
       "parent.postMessage({\"jupyterEvent\": \"custom.exercise_interaction\", \"data\": {\"outcomeType\": 1, \"valueTowardsCompletion\": 0.3333333333333333, \"interactionType\": 1, \"questionType\": 1, \"questionId\": \"0.3_ZC\", \"learnToolsVersion\": \"0.3.4\", \"failureMessage\": \"\", \"exceptionClass\": \"\", \"trace\": \"\"}}, \"*\")"
      ],
      "text/plain": [
       "<IPython.core.display.Javascript object>"
      ]
     },
     "metadata": {},
     "output_type": "display_data"
    },
    {
     "data": {
      "text/markdown": [
       "<span style=\"color:#33cc33\">Correct:</span> \n",
       "\n",
       "Even though we use different syntax to create it, the string `c` is identical to `b`. In particular, note that the backslash is not part of the string, so it doesn't contribute to its length."
      ],
      "text/plain": [
       "Correct: \n",
       "\n",
       "Even though we use different syntax to create it, the string `c` is identical to `b`. In particular, note that the backslash is not part of the string, so it doesn't contribute to its length."
      ]
     },
     "metadata": {},
     "output_type": "display_data"
    }
   ],
   "source": [
    "c = 'it\\'s ok'\n",
    "length = len(c)\n",
    "print(length)\n",
    "q0.c.check()"
   ]
  },
  {
   "cell_type": "markdown",
   "id": "349f5d6a",
   "metadata": {
    "papermill": {
     "duration": 0.007002,
     "end_time": "2024-06-02T13:31:26.731818",
     "exception": false,
     "start_time": "2024-06-02T13:31:26.724816",
     "status": "completed"
    },
    "tags": []
   },
   "source": [
    "# 0d."
   ]
  },
  {
   "cell_type": "code",
   "execution_count": 5,
   "id": "dd23cff4",
   "metadata": {
    "execution": {
     "iopub.execute_input": "2024-06-02T13:31:26.746669Z",
     "iopub.status.busy": "2024-06-02T13:31:26.745582Z",
     "iopub.status.idle": "2024-06-02T13:31:26.756026Z",
     "shell.execute_reply": "2024-06-02T13:31:26.754772Z"
    },
    "papermill": {
     "duration": 0.020011,
     "end_time": "2024-06-02T13:31:26.758074",
     "exception": false,
     "start_time": "2024-06-02T13:31:26.738063",
     "status": "completed"
    },
    "tags": []
   },
   "outputs": [
    {
     "name": "stdout",
     "output_type": "stream",
     "text": [
      "3\n"
     ]
    },
    {
     "data": {
      "application/javascript": [
       "parent.postMessage({\"jupyterEvent\": \"custom.exercise_interaction\", \"data\": {\"outcomeType\": 1, \"valueTowardsCompletion\": 0.3333333333333333, \"interactionType\": 1, \"questionType\": 1, \"questionId\": \"0.4_ZD\", \"learnToolsVersion\": \"0.3.4\", \"failureMessage\": \"\", \"exceptionClass\": \"\", \"trace\": \"\"}}, \"*\")"
      ],
      "text/plain": [
       "<IPython.core.display.Javascript object>"
      ]
     },
     "metadata": {},
     "output_type": "display_data"
    },
    {
     "data": {
      "text/markdown": [
       "<span style=\"color:#33cc33\">Correct:</span> \n",
       "\n",
       "The fact that this string was created using triple-quote syntax doesn't make any difference in terms of its content or length. This string is exactly the same as `'hey'`."
      ],
      "text/plain": [
       "Correct: \n",
       "\n",
       "The fact that this string was created using triple-quote syntax doesn't make any difference in terms of its content or length. This string is exactly the same as `'hey'`."
      ]
     },
     "metadata": {},
     "output_type": "display_data"
    }
   ],
   "source": [
    "d = \"\"\"hey\"\"\"\n",
    "length = len(d)\n",
    "print(length)\n",
    "q0.d.check()"
   ]
  },
  {
   "cell_type": "markdown",
   "id": "f48ec0bb",
   "metadata": {
    "papermill": {
     "duration": 0.006023,
     "end_time": "2024-06-02T13:31:26.770522",
     "exception": false,
     "start_time": "2024-06-02T13:31:26.764499",
     "status": "completed"
    },
    "tags": []
   },
   "source": [
    "# 0e."
   ]
  },
  {
   "cell_type": "code",
   "execution_count": 6,
   "id": "bbe5c311",
   "metadata": {
    "execution": {
     "iopub.execute_input": "2024-06-02T13:31:26.784649Z",
     "iopub.status.busy": "2024-06-02T13:31:26.784293Z",
     "iopub.status.idle": "2024-06-02T13:31:26.793140Z",
     "shell.execute_reply": "2024-06-02T13:31:26.792183Z"
    },
    "papermill": {
     "duration": 0.018552,
     "end_time": "2024-06-02T13:31:26.795337",
     "exception": false,
     "start_time": "2024-06-02T13:31:26.776785",
     "status": "completed"
    },
    "tags": []
   },
   "outputs": [
    {
     "name": "stdout",
     "output_type": "stream",
     "text": [
      "1\n"
     ]
    },
    {
     "data": {
      "application/javascript": [
       "parent.postMessage({\"jupyterEvent\": \"custom.exercise_interaction\", \"data\": {\"outcomeType\": 1, \"valueTowardsCompletion\": 0.3333333333333333, \"interactionType\": 1, \"questionType\": 1, \"questionId\": \"0.5_ZE\", \"learnToolsVersion\": \"0.3.4\", \"failureMessage\": \"\", \"exceptionClass\": \"\", \"trace\": \"\"}}, \"*\")"
      ],
      "text/plain": [
       "<IPython.core.display.Javascript object>"
      ]
     },
     "metadata": {},
     "output_type": "display_data"
    },
    {
     "data": {
      "text/markdown": [
       "<span style=\"color:#33cc33\">Correct:</span> \n",
       "\n",
       "The newline character is just a single character! (Even though we represent it to Python using a combination of two characters.)"
      ],
      "text/plain": [
       "Correct: \n",
       "\n",
       "The newline character is just a single character! (Even though we represent it to Python using a combination of two characters.)"
      ]
     },
     "metadata": {},
     "output_type": "display_data"
    }
   ],
   "source": [
    "e = '\\n'\n",
    "length = len(e)\n",
    "print(length)\n",
    "q0.e.check()"
   ]
  },
  {
   "cell_type": "markdown",
   "id": "6ff3ce5c",
   "metadata": {
    "papermill": {
     "duration": 0.006358,
     "end_time": "2024-06-02T13:31:26.808332",
     "exception": false,
     "start_time": "2024-06-02T13:31:26.801974",
     "status": "completed"
    },
    "tags": []
   },
   "source": [
    "# 1.\n",
    "\n",
    "There is a saying that \"Data scientists spend 80% of their time cleaning data, and 20% of their time complaining about cleaning data.\" Let's see if you can write a function to help clean US zip code data. Given a string, it should return whether or not that string represents a valid zip code. For our purposes, a valid zip code is any string consisting of exactly 5 digits.\n",
    "\n",
    "HINT: `str` has a method that will be useful here. Use `help(str)` to review a list of string methods."
   ]
  },
  {
   "cell_type": "code",
   "execution_count": 7,
   "id": "fbd48a8c",
   "metadata": {
    "execution": {
     "iopub.execute_input": "2024-06-02T13:31:26.823306Z",
     "iopub.status.busy": "2024-06-02T13:31:26.822939Z",
     "iopub.status.idle": "2024-06-02T13:31:26.831603Z",
     "shell.execute_reply": "2024-06-02T13:31:26.830678Z"
    },
    "papermill": {
     "duration": 0.018758,
     "end_time": "2024-06-02T13:31:26.833612",
     "exception": false,
     "start_time": "2024-06-02T13:31:26.814854",
     "status": "completed"
    },
    "tags": []
   },
   "outputs": [
    {
     "data": {
      "application/javascript": [
       "parent.postMessage({\"jupyterEvent\": \"custom.exercise_interaction\", \"data\": {\"outcomeType\": 1, \"valueTowardsCompletion\": 0.3333333333333333, \"interactionType\": 1, \"questionType\": 2, \"questionId\": \"1_ZipValidator\", \"learnToolsVersion\": \"0.3.4\", \"failureMessage\": \"\", \"exceptionClass\": \"\", \"trace\": \"\"}}, \"*\")"
      ],
      "text/plain": [
       "<IPython.core.display.Javascript object>"
      ]
     },
     "metadata": {},
     "output_type": "display_data"
    },
    {
     "data": {
      "text/markdown": [
       "<span style=\"color:#33cc33\">Correct</span>"
      ],
      "text/plain": [
       "Correct"
      ]
     },
     "metadata": {},
     "output_type": "display_data"
    }
   ],
   "source": [
    "def is_valid_zip(zip_code):\n",
    "    \"\"\"Returns whether the input string is a valid (5 digit) zip code\"\"\"\n",
    "    return len(zip_code) == 5 and zip_code.isdigit()\n",
    "\n",
    "# Check your answer\n",
    "q1.check()"
   ]
  },
  {
   "cell_type": "code",
   "execution_count": 8,
   "id": "2acc8d30",
   "metadata": {
    "execution": {
     "iopub.execute_input": "2024-06-02T13:31:26.849878Z",
     "iopub.status.busy": "2024-06-02T13:31:26.849083Z",
     "iopub.status.idle": "2024-06-02T13:31:26.853174Z",
     "shell.execute_reply": "2024-06-02T13:31:26.852293Z"
    },
    "papermill": {
     "duration": 0.01423,
     "end_time": "2024-06-02T13:31:26.855305",
     "exception": false,
     "start_time": "2024-06-02T13:31:26.841075",
     "status": "completed"
    },
    "tags": []
   },
   "outputs": [],
   "source": [
    "#q1.hint()\n",
    "#q1.solution()"
   ]
  },
  {
   "cell_type": "markdown",
   "id": "6463ccd7",
   "metadata": {
    "papermill": {
     "duration": 0.006774,
     "end_time": "2024-06-02T13:31:26.869148",
     "exception": false,
     "start_time": "2024-06-02T13:31:26.862374",
     "status": "completed"
    },
    "tags": []
   },
   "source": [
    "# 2.\n",
    "\n",
    "A researcher has gathered thousands of news articles. But she wants to focus her attention on articles including a specific word. Complete the function below to help her filter her list of articles.\n",
    "\n",
    "Your function should meet the following criteria:\n",
    "\n",
    "- Do not include documents where the keyword string shows up only as a part of a larger word. For example, if she were looking for the keyword “closed”, you would not include the string “enclosed.” \n",
    "- She does not want you to distinguish upper case from lower case letters. So the phrase “Closed the case.” would be included when the keyword is “closed”\n",
    "- Do not let periods or commas affect what is matched. “It is closed.” would be included when the keyword is “closed”. But you can assume there are no other types of punctuation."
   ]
  },
  {
   "cell_type": "code",
   "execution_count": 9,
   "id": "046b6570",
   "metadata": {
    "execution": {
     "iopub.execute_input": "2024-06-02T13:31:26.884740Z",
     "iopub.status.busy": "2024-06-02T13:31:26.884363Z",
     "iopub.status.idle": "2024-06-02T13:31:26.892914Z",
     "shell.execute_reply": "2024-06-02T13:31:26.891683Z"
    },
    "papermill": {
     "duration": 0.01868,
     "end_time": "2024-06-02T13:31:26.895004",
     "exception": false,
     "start_time": "2024-06-02T13:31:26.876324",
     "status": "completed"
    },
    "tags": []
   },
   "outputs": [
    {
     "data": {
      "application/javascript": [
       "parent.postMessage({\"jupyterEvent\": \"custom.exercise_interaction\", \"data\": {\"outcomeType\": 4, \"interactionType\": 1, \"questionType\": 2, \"questionId\": \"2_WordSearch\", \"learnToolsVersion\": \"0.3.4\", \"valueTowardsCompletion\": 0.0, \"failureMessage\": \"\", \"exceptionClass\": \"\", \"trace\": \"\"}}, \"*\")"
      ],
      "text/plain": [
       "<IPython.core.display.Javascript object>"
      ]
     },
     "metadata": {},
     "output_type": "display_data"
    },
    {
     "data": {
      "text/markdown": [
       "<span style=\"color:#ccaa33\">Check:</span> When you've updated the starter code, `check()` will tell you whether your code is correct. "
      ],
      "text/plain": [
       "Check: When you've updated the starter code, `check()` will tell you whether your code is correct. "
      ]
     },
     "metadata": {},
     "output_type": "display_data"
    }
   ],
   "source": [
    "def word_search(doc_list, keyword):\n",
    "    \"\"\"\n",
    "    Takes a list of documents (each document is a string) and a keyword. \n",
    "    Returns list of the index values into the original list for all documents \n",
    "    containing the keyword.\n",
    "\n",
    "    Example:\n",
    "    doc_list = [\"The Learn Python Challenge Casino.\", \"They bought a car\", \"Casinoville\"]\n",
    "    >>> word_search(doc_list, 'casino')\n",
    "    >>> [0]\n",
    "    \"\"\"\n",
    "    pass\n",
    "\n",
    "# Check your answer\n",
    "q2.check()"
   ]
  },
  {
   "cell_type": "code",
   "execution_count": 10,
   "id": "5d024be1",
   "metadata": {
    "execution": {
     "iopub.execute_input": "2024-06-02T13:31:26.911187Z",
     "iopub.status.busy": "2024-06-02T13:31:26.910833Z",
     "iopub.status.idle": "2024-06-02T13:31:26.915321Z",
     "shell.execute_reply": "2024-06-02T13:31:26.914060Z"
    },
    "papermill": {
     "duration": 0.015314,
     "end_time": "2024-06-02T13:31:26.917469",
     "exception": false,
     "start_time": "2024-06-02T13:31:26.902155",
     "status": "completed"
    },
    "tags": []
   },
   "outputs": [],
   "source": [
    "#q2.hint()\n",
    "#q2.solution()"
   ]
  },
  {
   "cell_type": "markdown",
   "id": "b71ce4a2",
   "metadata": {
    "papermill": {
     "duration": 0.006976,
     "end_time": "2024-06-02T13:31:26.931822",
     "exception": false,
     "start_time": "2024-06-02T13:31:26.924846",
     "status": "completed"
    },
    "tags": []
   },
   "source": [
    "# 3.\n",
    "\n",
    "Now the researcher wants to supply multiple keywords to search for. Complete the function below to help her.\n",
    "\n",
    "(You're encouraged to use the `word_search` function you just wrote when implementing this function. Reusing code in this way makes your programs more robust and readable - and it saves typing!)"
   ]
  },
  {
   "cell_type": "code",
   "execution_count": 11,
   "id": "e1965d27",
   "metadata": {
    "execution": {
     "iopub.execute_input": "2024-06-02T13:31:26.948252Z",
     "iopub.status.busy": "2024-06-02T13:31:26.947540Z",
     "iopub.status.idle": "2024-06-02T13:31:26.956296Z",
     "shell.execute_reply": "2024-06-02T13:31:26.955504Z"
    },
    "papermill": {
     "duration": 0.019239,
     "end_time": "2024-06-02T13:31:26.958328",
     "exception": false,
     "start_time": "2024-06-02T13:31:26.939089",
     "status": "completed"
    },
    "tags": []
   },
   "outputs": [
    {
     "data": {
      "application/javascript": [
       "parent.postMessage({\"jupyterEvent\": \"custom.exercise_interaction\", \"data\": {\"outcomeType\": 2, \"failureMessage\": \"Expected return value of `{'casino': [0]}` given `documents=['The Learn Python Challenge Casino', 'They bought a car', 'Casinoville?']`, `keywords=['casino']`, but got `{'casino': None}` instead.\", \"interactionType\": 1, \"questionType\": 2, \"questionId\": \"3_MultiWordSearch\", \"learnToolsVersion\": \"0.3.4\", \"valueTowardsCompletion\": 0.0, \"exceptionClass\": \"\", \"trace\": \"\"}}, \"*\")"
      ],
      "text/plain": [
       "<IPython.core.display.Javascript object>"
      ]
     },
     "metadata": {},
     "output_type": "display_data"
    },
    {
     "data": {
      "text/markdown": [
       "<span style=\"color:#cc3333\">Incorrect:</span> Expected return value of `{'casino': [0]}` given `documents=['The Learn Python Challenge Casino', 'They bought a car', 'Casinoville?']`, `keywords=['casino']`, but got `{'casino': None}` instead."
      ],
      "text/plain": [
       "Incorrect: Expected return value of `{'casino': [0]}` given `documents=['The Learn Python Challenge Casino', 'They bought a car', 'Casinoville?']`, `keywords=['casino']`, but got `{'casino': None}` instead."
      ]
     },
     "metadata": {},
     "output_type": "display_data"
    }
   ],
   "source": [
    "def multi_word_search(documents, keywords):\n",
    "    keyword_to_indices = {}\n",
    "    for keyword in keywords:\n",
    "        keyword_to_indices[keyword] = word_search(documents, keyword)\n",
    "    return keyword_to_indices\n",
    "    pass\n",
    "\n",
    "# Check your answer\n",
    "q3.check()"
   ]
  },
  {
   "cell_type": "code",
   "execution_count": 12,
   "id": "1b8f41fb",
   "metadata": {
    "execution": {
     "iopub.execute_input": "2024-06-02T13:31:26.975891Z",
     "iopub.status.busy": "2024-06-02T13:31:26.974940Z",
     "iopub.status.idle": "2024-06-02T13:31:26.981668Z",
     "shell.execute_reply": "2024-06-02T13:31:26.980909Z"
    },
    "papermill": {
     "duration": 0.017531,
     "end_time": "2024-06-02T13:31:26.983644",
     "exception": false,
     "start_time": "2024-06-02T13:31:26.966113",
     "status": "completed"
    },
    "tags": []
   },
   "outputs": [
    {
     "data": {
      "application/javascript": [
       "parent.postMessage({\"jupyterEvent\": \"custom.exercise_interaction\", \"data\": {\"interactionType\": 3, \"questionType\": 2, \"questionId\": \"3_MultiWordSearch\", \"learnToolsVersion\": \"0.3.4\", \"valueTowardsCompletion\": 0.0, \"failureMessage\": \"\", \"exceptionClass\": \"\", \"trace\": \"\", \"outcomeType\": 4}}, \"*\")"
      ],
      "text/plain": [
       "<IPython.core.display.Javascript object>"
      ]
     },
     "metadata": {},
     "output_type": "display_data"
    },
    {
     "data": {
      "text/markdown": [
       "<span style=\"color:#33cc99\">Solution:</span> \n",
       "```python\n",
       "def multi_word_search(documents, keywords):\n",
       "    keyword_to_indices = {}\n",
       "    for keyword in keywords:\n",
       "        keyword_to_indices[keyword] = word_search(documents, keyword)\n",
       "    return keyword_to_indices\n",
       "```"
      ],
      "text/plain": [
       "Solution: \n",
       "```python\n",
       "def multi_word_search(documents, keywords):\n",
       "    keyword_to_indices = {}\n",
       "    for keyword in keywords:\n",
       "        keyword_to_indices[keyword] = word_search(documents, keyword)\n",
       "    return keyword_to_indices\n",
       "```"
      ]
     },
     "metadata": {},
     "output_type": "display_data"
    }
   ],
   "source": [
    "q3.solution()"
   ]
  },
  {
   "cell_type": "markdown",
   "id": "e888e1b7",
   "metadata": {
    "papermill": {
     "duration": 0.007746,
     "end_time": "2024-06-02T13:31:26.999323",
     "exception": false,
     "start_time": "2024-06-02T13:31:26.991577",
     "status": "completed"
    },
    "tags": []
   },
   "source": [
    "# Keep Going\n",
    "\n",
    "You've learned a lot. But even the best programmers rely heavily on \"libraries\" of code from other programmers. You'll learn about that in **[the last lesson](https://www.kaggle.com/colinmorris/working-with-external-libraries)**.\n"
   ]
  },
  {
   "cell_type": "markdown",
   "id": "b7d82953",
   "metadata": {
    "papermill": {
     "duration": 0.007598,
     "end_time": "2024-06-02T13:31:27.014747",
     "exception": false,
     "start_time": "2024-06-02T13:31:27.007149",
     "status": "completed"
    },
    "tags": []
   },
   "source": [
    "---\n",
    "\n",
    "\n",
    "\n",
    "\n",
    "*Have questions or comments? Visit the [course discussion forum](https://www.kaggle.com/learn/python/discussion) to chat with other learners.*"
   ]
  }
 ],
 "metadata": {
  "kaggle": {
   "accelerator": "none",
   "dataSources": [],
   "isGpuEnabled": false,
   "isInternetEnabled": false,
   "language": "python",
   "sourceType": "notebook"
  },
  "kernelspec": {
   "display_name": "Python 3",
   "language": "python",
   "name": "python3"
  },
  "language_info": {
   "codemirror_mode": {
    "name": "ipython",
    "version": 3
   },
   "file_extension": ".py",
   "mimetype": "text/x-python",
   "name": "python",
   "nbconvert_exporter": "python",
   "pygments_lexer": "ipython3",
   "version": "3.10.13"
  },
  "learntools_metadata": {
   "lesson_index": 5,
   "type": "exercise"
  },
  "papermill": {
   "default_parameters": {},
   "duration": 4.436497,
   "end_time": "2024-06-02T13:31:27.443517",
   "environment_variables": {},
   "exception": null,
   "input_path": "__notebook__.ipynb",
   "output_path": "__notebook__.ipynb",
   "parameters": {},
   "start_time": "2024-06-02T13:31:23.007020",
   "version": "2.5.0"
  }
 },
 "nbformat": 4,
 "nbformat_minor": 5
}
