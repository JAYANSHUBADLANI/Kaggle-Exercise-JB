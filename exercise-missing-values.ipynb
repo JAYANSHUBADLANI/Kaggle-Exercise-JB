{
 "cells": [
  {
   "cell_type": "markdown",
   "id": "a77dfeec",
   "metadata": {
    "papermill": {
     "duration": 0.012187,
     "end_time": "2024-07-14T07:51:17.637338",
     "exception": false,
     "start_time": "2024-07-14T07:51:17.625151",
     "status": "completed"
    },
    "tags": []
   },
   "source": [
    "**This notebook is an exercise in the [Intermediate Machine Learning](https://www.kaggle.com/learn/intermediate-machine-learning) course.  You can reference the tutorial at [this link](https://www.kaggle.com/alexisbcook/missing-values).**\n",
    "\n",
    "---\n"
   ]
  },
  {
   "cell_type": "markdown",
   "id": "6df7a193",
   "metadata": {
    "papermill": {
     "duration": 0.011166,
     "end_time": "2024-07-14T07:51:17.660317",
     "exception": false,
     "start_time": "2024-07-14T07:51:17.649151",
     "status": "completed"
    },
    "tags": []
   },
   "source": [
    "Now it's your turn to test your new knowledge of **missing values** handling. You'll probably find it makes a big difference.\n",
    "\n",
    "# Setup\n",
    "\n",
    "The questions will give you feedback on your work. Run the following cell to set up the feedback system."
   ]
  },
  {
   "cell_type": "code",
   "execution_count": 1,
   "id": "9049646c",
   "metadata": {
    "execution": {
     "iopub.execute_input": "2024-07-14T07:51:17.686124Z",
     "iopub.status.busy": "2024-07-14T07:51:17.685596Z",
     "iopub.status.idle": "2024-07-14T07:51:18.862675Z",
     "shell.execute_reply": "2024-07-14T07:51:18.861156Z"
    },
    "papermill": {
     "duration": 1.193321,
     "end_time": "2024-07-14T07:51:18.865439",
     "exception": false,
     "start_time": "2024-07-14T07:51:17.672118",
     "status": "completed"
    },
    "tags": []
   },
   "outputs": [
    {
     "name": "stdout",
     "output_type": "stream",
     "text": [
      "Setup Complete\n"
     ]
    }
   ],
   "source": [
    "# Set up code checking\n",
    "import os\n",
    "if not os.path.exists(\"../input/train.csv\"):\n",
    "    os.symlink(\"../input/home-data-for-ml-course/train.csv\", \"../input/train.csv\")  \n",
    "    os.symlink(\"../input/home-data-for-ml-course/test.csv\", \"../input/test.csv\") \n",
    "from learntools.core import binder\n",
    "binder.bind(globals())\n",
    "from learntools.ml_intermediate.ex2 import *\n",
    "print(\"Setup Complete\")"
   ]
  },
  {
   "cell_type": "markdown",
   "id": "a06dea9b",
   "metadata": {
    "papermill": {
     "duration": 0.011741,
     "end_time": "2024-07-14T07:51:18.890713",
     "exception": false,
     "start_time": "2024-07-14T07:51:18.878972",
     "status": "completed"
    },
    "tags": []
   },
   "source": [
    "In this exercise, you will work with data from the [Housing Prices Competition for Kaggle Learn Users](https://www.kaggle.com/c/home-data-for-ml-course). \n",
    "\n",
    "![Ames Housing dataset image](https://storage.googleapis.com/kaggle-media/learn/images/lTJVG4e.png)\n",
    "\n",
    "Run the next code cell without changes to load the training and validation sets in `X_train`, `X_valid`, `y_train`, and `y_valid`.  The test set is loaded in `X_test`."
   ]
  },
  {
   "cell_type": "code",
   "execution_count": 2,
   "id": "cf111b50",
   "metadata": {
    "execution": {
     "iopub.execute_input": "2024-07-14T07:51:18.917857Z",
     "iopub.status.busy": "2024-07-14T07:51:18.917283Z",
     "iopub.status.idle": "2024-07-14T07:51:20.675770Z",
     "shell.execute_reply": "2024-07-14T07:51:20.674488Z"
    },
    "papermill": {
     "duration": 1.775226,
     "end_time": "2024-07-14T07:51:20.678685",
     "exception": false,
     "start_time": "2024-07-14T07:51:18.903459",
     "status": "completed"
    },
    "tags": []
   },
   "outputs": [],
   "source": [
    "import pandas as pd\n",
    "from sklearn.model_selection import train_test_split\n",
    "\n",
    "# Read the data\n",
    "X_full = pd.read_csv('../input/train.csv', index_col='Id')\n",
    "X_test_full = pd.read_csv('../input/test.csv', index_col='Id')\n",
    "\n",
    "# Remove rows with missing target, separate target from predictors\n",
    "X_full.dropna(axis=0, subset=['SalePrice'], inplace=True)\n",
    "y = X_full.SalePrice\n",
    "X_full.drop(['SalePrice'], axis=1, inplace=True)\n",
    "\n",
    "# To keep things simple, we'll use only numerical predictors\n",
    "X = X_full.select_dtypes(exclude=['object'])\n",
    "X_test = X_test_full.select_dtypes(exclude=['object'])\n",
    "\n",
    "# Break off validation set from training data\n",
    "X_train, X_valid, y_train, y_valid = train_test_split(X, y, train_size=0.8, test_size=0.2,\n",
    "                                                      random_state=0)"
   ]
  },
  {
   "cell_type": "markdown",
   "id": "f05dbda6",
   "metadata": {
    "papermill": {
     "duration": 0.012647,
     "end_time": "2024-07-14T07:51:20.703924",
     "exception": false,
     "start_time": "2024-07-14T07:51:20.691277",
     "status": "completed"
    },
    "tags": []
   },
   "source": [
    "Use the next code cell to print the first five rows of the data."
   ]
  },
  {
   "cell_type": "code",
   "execution_count": 3,
   "id": "4f66d04d",
   "metadata": {
    "execution": {
     "iopub.execute_input": "2024-07-14T07:51:20.730154Z",
     "iopub.status.busy": "2024-07-14T07:51:20.729751Z",
     "iopub.status.idle": "2024-07-14T07:51:20.762814Z",
     "shell.execute_reply": "2024-07-14T07:51:20.761727Z"
    },
    "papermill": {
     "duration": 0.048816,
     "end_time": "2024-07-14T07:51:20.765365",
     "exception": false,
     "start_time": "2024-07-14T07:51:20.716549",
     "status": "completed"
    },
    "tags": []
   },
   "outputs": [
    {
     "data": {
      "text/html": [
       "<div>\n",
       "<style scoped>\n",
       "    .dataframe tbody tr th:only-of-type {\n",
       "        vertical-align: middle;\n",
       "    }\n",
       "\n",
       "    .dataframe tbody tr th {\n",
       "        vertical-align: top;\n",
       "    }\n",
       "\n",
       "    .dataframe thead th {\n",
       "        text-align: right;\n",
       "    }\n",
       "</style>\n",
       "<table border=\"1\" class=\"dataframe\">\n",
       "  <thead>\n",
       "    <tr style=\"text-align: right;\">\n",
       "      <th></th>\n",
       "      <th>MSSubClass</th>\n",
       "      <th>LotFrontage</th>\n",
       "      <th>LotArea</th>\n",
       "      <th>OverallQual</th>\n",
       "      <th>OverallCond</th>\n",
       "      <th>YearBuilt</th>\n",
       "      <th>YearRemodAdd</th>\n",
       "      <th>MasVnrArea</th>\n",
       "      <th>BsmtFinSF1</th>\n",
       "      <th>BsmtFinSF2</th>\n",
       "      <th>...</th>\n",
       "      <th>GarageArea</th>\n",
       "      <th>WoodDeckSF</th>\n",
       "      <th>OpenPorchSF</th>\n",
       "      <th>EnclosedPorch</th>\n",
       "      <th>3SsnPorch</th>\n",
       "      <th>ScreenPorch</th>\n",
       "      <th>PoolArea</th>\n",
       "      <th>MiscVal</th>\n",
       "      <th>MoSold</th>\n",
       "      <th>YrSold</th>\n",
       "    </tr>\n",
       "    <tr>\n",
       "      <th>Id</th>\n",
       "      <th></th>\n",
       "      <th></th>\n",
       "      <th></th>\n",
       "      <th></th>\n",
       "      <th></th>\n",
       "      <th></th>\n",
       "      <th></th>\n",
       "      <th></th>\n",
       "      <th></th>\n",
       "      <th></th>\n",
       "      <th></th>\n",
       "      <th></th>\n",
       "      <th></th>\n",
       "      <th></th>\n",
       "      <th></th>\n",
       "      <th></th>\n",
       "      <th></th>\n",
       "      <th></th>\n",
       "      <th></th>\n",
       "      <th></th>\n",
       "      <th></th>\n",
       "    </tr>\n",
       "  </thead>\n",
       "  <tbody>\n",
       "    <tr>\n",
       "      <th>619</th>\n",
       "      <td>20</td>\n",
       "      <td>90.0</td>\n",
       "      <td>11694</td>\n",
       "      <td>9</td>\n",
       "      <td>5</td>\n",
       "      <td>2007</td>\n",
       "      <td>2007</td>\n",
       "      <td>452.0</td>\n",
       "      <td>48</td>\n",
       "      <td>0</td>\n",
       "      <td>...</td>\n",
       "      <td>774</td>\n",
       "      <td>0</td>\n",
       "      <td>108</td>\n",
       "      <td>0</td>\n",
       "      <td>0</td>\n",
       "      <td>260</td>\n",
       "      <td>0</td>\n",
       "      <td>0</td>\n",
       "      <td>7</td>\n",
       "      <td>2007</td>\n",
       "    </tr>\n",
       "    <tr>\n",
       "      <th>871</th>\n",
       "      <td>20</td>\n",
       "      <td>60.0</td>\n",
       "      <td>6600</td>\n",
       "      <td>5</td>\n",
       "      <td>5</td>\n",
       "      <td>1962</td>\n",
       "      <td>1962</td>\n",
       "      <td>0.0</td>\n",
       "      <td>0</td>\n",
       "      <td>0</td>\n",
       "      <td>...</td>\n",
       "      <td>308</td>\n",
       "      <td>0</td>\n",
       "      <td>0</td>\n",
       "      <td>0</td>\n",
       "      <td>0</td>\n",
       "      <td>0</td>\n",
       "      <td>0</td>\n",
       "      <td>0</td>\n",
       "      <td>8</td>\n",
       "      <td>2009</td>\n",
       "    </tr>\n",
       "    <tr>\n",
       "      <th>93</th>\n",
       "      <td>30</td>\n",
       "      <td>80.0</td>\n",
       "      <td>13360</td>\n",
       "      <td>5</td>\n",
       "      <td>7</td>\n",
       "      <td>1921</td>\n",
       "      <td>2006</td>\n",
       "      <td>0.0</td>\n",
       "      <td>713</td>\n",
       "      <td>0</td>\n",
       "      <td>...</td>\n",
       "      <td>432</td>\n",
       "      <td>0</td>\n",
       "      <td>0</td>\n",
       "      <td>44</td>\n",
       "      <td>0</td>\n",
       "      <td>0</td>\n",
       "      <td>0</td>\n",
       "      <td>0</td>\n",
       "      <td>8</td>\n",
       "      <td>2009</td>\n",
       "    </tr>\n",
       "    <tr>\n",
       "      <th>818</th>\n",
       "      <td>20</td>\n",
       "      <td>NaN</td>\n",
       "      <td>13265</td>\n",
       "      <td>8</td>\n",
       "      <td>5</td>\n",
       "      <td>2002</td>\n",
       "      <td>2002</td>\n",
       "      <td>148.0</td>\n",
       "      <td>1218</td>\n",
       "      <td>0</td>\n",
       "      <td>...</td>\n",
       "      <td>857</td>\n",
       "      <td>150</td>\n",
       "      <td>59</td>\n",
       "      <td>0</td>\n",
       "      <td>0</td>\n",
       "      <td>0</td>\n",
       "      <td>0</td>\n",
       "      <td>0</td>\n",
       "      <td>7</td>\n",
       "      <td>2008</td>\n",
       "    </tr>\n",
       "    <tr>\n",
       "      <th>303</th>\n",
       "      <td>20</td>\n",
       "      <td>118.0</td>\n",
       "      <td>13704</td>\n",
       "      <td>7</td>\n",
       "      <td>5</td>\n",
       "      <td>2001</td>\n",
       "      <td>2002</td>\n",
       "      <td>150.0</td>\n",
       "      <td>0</td>\n",
       "      <td>0</td>\n",
       "      <td>...</td>\n",
       "      <td>843</td>\n",
       "      <td>468</td>\n",
       "      <td>81</td>\n",
       "      <td>0</td>\n",
       "      <td>0</td>\n",
       "      <td>0</td>\n",
       "      <td>0</td>\n",
       "      <td>0</td>\n",
       "      <td>1</td>\n",
       "      <td>2006</td>\n",
       "    </tr>\n",
       "  </tbody>\n",
       "</table>\n",
       "<p>5 rows × 36 columns</p>\n",
       "</div>"
      ],
      "text/plain": [
       "     MSSubClass  LotFrontage  LotArea  OverallQual  OverallCond  YearBuilt  \\\n",
       "Id                                                                           \n",
       "619          20         90.0    11694            9            5       2007   \n",
       "871          20         60.0     6600            5            5       1962   \n",
       "93           30         80.0    13360            5            7       1921   \n",
       "818          20          NaN    13265            8            5       2002   \n",
       "303          20        118.0    13704            7            5       2001   \n",
       "\n",
       "     YearRemodAdd  MasVnrArea  BsmtFinSF1  BsmtFinSF2  ...  GarageArea  \\\n",
       "Id                                                     ...               \n",
       "619          2007       452.0          48           0  ...         774   \n",
       "871          1962         0.0           0           0  ...         308   \n",
       "93           2006         0.0         713           0  ...         432   \n",
       "818          2002       148.0        1218           0  ...         857   \n",
       "303          2002       150.0           0           0  ...         843   \n",
       "\n",
       "     WoodDeckSF  OpenPorchSF  EnclosedPorch  3SsnPorch  ScreenPorch  PoolArea  \\\n",
       "Id                                                                              \n",
       "619           0          108              0          0          260         0   \n",
       "871           0            0              0          0            0         0   \n",
       "93            0            0             44          0            0         0   \n",
       "818         150           59              0          0            0         0   \n",
       "303         468           81              0          0            0         0   \n",
       "\n",
       "     MiscVal  MoSold  YrSold  \n",
       "Id                            \n",
       "619        0       7    2007  \n",
       "871        0       8    2009  \n",
       "93         0       8    2009  \n",
       "818        0       7    2008  \n",
       "303        0       1    2006  \n",
       "\n",
       "[5 rows x 36 columns]"
      ]
     },
     "execution_count": 3,
     "metadata": {},
     "output_type": "execute_result"
    }
   ],
   "source": [
    "X_train.head()"
   ]
  },
  {
   "cell_type": "markdown",
   "id": "be684418",
   "metadata": {
    "papermill": {
     "duration": 0.01273,
     "end_time": "2024-07-14T07:51:20.791362",
     "exception": false,
     "start_time": "2024-07-14T07:51:20.778632",
     "status": "completed"
    },
    "tags": []
   },
   "source": [
    "You can already see a few missing values in the first several rows.  In the next step, you'll obtain a more comprehensive understanding of the missing values in the dataset.\n",
    "\n",
    "# Step 1: Preliminary investigation\n",
    "\n",
    "Run the code cell below without changes."
   ]
  },
  {
   "cell_type": "code",
   "execution_count": 4,
   "id": "c9203595",
   "metadata": {
    "execution": {
     "iopub.execute_input": "2024-07-14T07:51:20.821711Z",
     "iopub.status.busy": "2024-07-14T07:51:20.821303Z",
     "iopub.status.idle": "2024-07-14T07:51:20.830347Z",
     "shell.execute_reply": "2024-07-14T07:51:20.828830Z"
    },
    "papermill": {
     "duration": 0.027772,
     "end_time": "2024-07-14T07:51:20.833543",
     "exception": false,
     "start_time": "2024-07-14T07:51:20.805771",
     "status": "completed"
    },
    "tags": []
   },
   "outputs": [
    {
     "name": "stdout",
     "output_type": "stream",
     "text": [
      "(1168, 36)\n",
      "LotFrontage    212\n",
      "MasVnrArea       6\n",
      "GarageYrBlt     58\n",
      "dtype: int64\n"
     ]
    }
   ],
   "source": [
    "# Shape of training data (num_rows, num_columns)\n",
    "print(X_train.shape)\n",
    "\n",
    "# Number of missing values in each column of training data\n",
    "missing_val_count_by_column = (X_train.isnull().sum())\n",
    "print(missing_val_count_by_column[missing_val_count_by_column > 0])"
   ]
  },
  {
   "cell_type": "markdown",
   "id": "3d6c5ee5",
   "metadata": {
    "papermill": {
     "duration": 0.011973,
     "end_time": "2024-07-14T07:51:20.858053",
     "exception": false,
     "start_time": "2024-07-14T07:51:20.846080",
     "status": "completed"
    },
    "tags": []
   },
   "source": [
    "### Part A\n",
    "\n",
    "Use the above output to answer the questions below."
   ]
  },
  {
   "cell_type": "code",
   "execution_count": 5,
   "id": "d49f99e2",
   "metadata": {
    "execution": {
     "iopub.execute_input": "2024-07-14T07:51:20.886333Z",
     "iopub.status.busy": "2024-07-14T07:51:20.885907Z",
     "iopub.status.idle": "2024-07-14T07:51:20.898257Z",
     "shell.execute_reply": "2024-07-14T07:51:20.896299Z"
    },
    "papermill": {
     "duration": 0.030795,
     "end_time": "2024-07-14T07:51:20.901277",
     "exception": false,
     "start_time": "2024-07-14T07:51:20.870482",
     "status": "completed"
    },
    "tags": []
   },
   "outputs": [
    {
     "data": {
      "application/javascript": [
       "parent.postMessage({\"jupyterEvent\": \"custom.exercise_interaction\", \"data\": {\"outcomeType\": 1, \"valueTowardsCompletion\": 1.0, \"interactionType\": 1, \"questionType\": 1, \"questionId\": \"1.1_InvestigateEquality\", \"learnToolsVersion\": \"0.3.4\", \"failureMessage\": \"\", \"exceptionClass\": \"\", \"trace\": \"\"}}, \"*\")"
      ],
      "text/plain": [
       "<IPython.core.display.Javascript object>"
      ]
     },
     "metadata": {},
     "output_type": "display_data"
    },
    {
     "data": {
      "text/markdown": [
       "<span style=\"color:#33cc33\">Correct</span>"
      ],
      "text/plain": [
       "Correct"
      ]
     },
     "metadata": {},
     "output_type": "display_data"
    }
   ],
   "source": [
    "# Fill in the line below: How many rows are in the training data?\n",
    "num_rows = 1168\n",
    "\n",
    "# Fill in the line below: How many columns in the training data\n",
    "# have missing values?\n",
    "num_cols_with_missing = 3\n",
    "\n",
    "# Fill in the line below: How many missing entries are contained in\n",
    "# all of the training data?\n",
    "tot_missing = 276\n",
    "\n",
    "\n",
    "# Check your answers\n",
    "step_1.a.check()"
   ]
  },
  {
   "cell_type": "code",
   "execution_count": 6,
   "id": "c1920811",
   "metadata": {
    "execution": {
     "iopub.execute_input": "2024-07-14T07:51:20.929410Z",
     "iopub.status.busy": "2024-07-14T07:51:20.928988Z",
     "iopub.status.idle": "2024-07-14T07:51:20.934249Z",
     "shell.execute_reply": "2024-07-14T07:51:20.932922Z"
    },
    "papermill": {
     "duration": 0.022896,
     "end_time": "2024-07-14T07:51:20.937125",
     "exception": false,
     "start_time": "2024-07-14T07:51:20.914229",
     "status": "completed"
    },
    "tags": []
   },
   "outputs": [],
   "source": [
    "# Lines below will give you a hint or solution code\n",
    "#step_1.a.hint()\n",
    "#step_1.a.solution()"
   ]
  },
  {
   "cell_type": "markdown",
   "id": "f0cb0be6",
   "metadata": {
    "papermill": {
     "duration": 0.012683,
     "end_time": "2024-07-14T07:51:20.962796",
     "exception": false,
     "start_time": "2024-07-14T07:51:20.950113",
     "status": "completed"
    },
    "tags": []
   },
   "source": [
    "### Part B\n",
    "Considering your answers above, what do you think is likely the best approach to dealing with the missing values?"
   ]
  },
  {
   "cell_type": "code",
   "execution_count": 7,
   "id": "328ee722",
   "metadata": {
    "execution": {
     "iopub.execute_input": "2024-07-14T07:51:20.990162Z",
     "iopub.status.busy": "2024-07-14T07:51:20.989737Z",
     "iopub.status.idle": "2024-07-14T07:51:20.999888Z",
     "shell.execute_reply": "2024-07-14T07:51:20.998742Z"
    },
    "papermill": {
     "duration": 0.027065,
     "end_time": "2024-07-14T07:51:21.002771",
     "exception": false,
     "start_time": "2024-07-14T07:51:20.975706",
     "status": "completed"
    },
    "tags": []
   },
   "outputs": [
    {
     "data": {
      "application/javascript": [
       "parent.postMessage({\"jupyterEvent\": \"custom.exercise_interaction\", \"data\": {\"outcomeType\": 1, \"valueTowardsCompletion\": 1.0, \"interactionType\": 1, \"questionType\": 4, \"questionId\": \"1.2_InvestigateThought\", \"learnToolsVersion\": \"0.3.4\", \"failureMessage\": \"\", \"exceptionClass\": \"\", \"trace\": \"\"}}, \"*\")"
      ],
      "text/plain": [
       "<IPython.core.display.Javascript object>"
      ]
     },
     "metadata": {},
     "output_type": "display_data"
    },
    {
     "data": {
      "text/markdown": [
       "<span style=\"color:#33cc33\">Correct:</span> \n",
       "\n",
       "Since there are relatively few missing entries in the data (the column with the greatest percentage of missing values is missing less than 20% of its entries), we can expect that dropping columns is unlikely to yield good results.  This is because we'd be throwing away a lot of valuable data, and so imputation will likely perform better."
      ],
      "text/plain": [
       "Correct: \n",
       "\n",
       "Since there are relatively few missing entries in the data (the column with the greatest percentage of missing values is missing less than 20% of its entries), we can expect that dropping columns is unlikely to yield good results.  This is because we'd be throwing away a lot of valuable data, and so imputation will likely perform better."
      ]
     },
     "metadata": {},
     "output_type": "display_data"
    }
   ],
   "source": [
    "# Check your answer (Run this code cell to receive credit!)\n",
    "step_1.b.check()"
   ]
  },
  {
   "cell_type": "code",
   "execution_count": 8,
   "id": "4145c4bc",
   "metadata": {
    "execution": {
     "iopub.execute_input": "2024-07-14T07:51:21.031897Z",
     "iopub.status.busy": "2024-07-14T07:51:21.031079Z",
     "iopub.status.idle": "2024-07-14T07:51:21.036168Z",
     "shell.execute_reply": "2024-07-14T07:51:21.034908Z"
    },
    "papermill": {
     "duration": 0.022194,
     "end_time": "2024-07-14T07:51:21.038775",
     "exception": false,
     "start_time": "2024-07-14T07:51:21.016581",
     "status": "completed"
    },
    "tags": []
   },
   "outputs": [],
   "source": [
    "#step_1.b.hint()"
   ]
  },
  {
   "cell_type": "markdown",
   "id": "f6eb3fd0",
   "metadata": {
    "papermill": {
     "duration": 0.012935,
     "end_time": "2024-07-14T07:51:21.065076",
     "exception": false,
     "start_time": "2024-07-14T07:51:21.052141",
     "status": "completed"
    },
    "tags": []
   },
   "source": [
    "To compare different approaches to dealing with missing values, you'll use the same `score_dataset()` function from the tutorial.  This function reports the [mean absolute error](https://en.wikipedia.org/wiki/Mean_absolute_error) (MAE) from a random forest model."
   ]
  },
  {
   "cell_type": "code",
   "execution_count": 9,
   "id": "84ed0e25",
   "metadata": {
    "execution": {
     "iopub.execute_input": "2024-07-14T07:51:21.093572Z",
     "iopub.status.busy": "2024-07-14T07:51:21.092496Z",
     "iopub.status.idle": "2024-07-14T07:51:21.501962Z",
     "shell.execute_reply": "2024-07-14T07:51:21.500729Z"
    },
    "papermill": {
     "duration": 0.426679,
     "end_time": "2024-07-14T07:51:21.504828",
     "exception": false,
     "start_time": "2024-07-14T07:51:21.078149",
     "status": "completed"
    },
    "tags": []
   },
   "outputs": [],
   "source": [
    "from sklearn.ensemble import RandomForestRegressor\n",
    "from sklearn.metrics import mean_absolute_error\n",
    "\n",
    "# Function for comparing different approaches\n",
    "def score_dataset(X_train, X_valid, y_train, y_valid):\n",
    "    model = RandomForestRegressor(n_estimators=100, random_state=0)\n",
    "    model.fit(X_train, y_train)\n",
    "    preds = model.predict(X_valid)\n",
    "    return mean_absolute_error(y_valid, preds)"
   ]
  },
  {
   "cell_type": "markdown",
   "id": "9cf748c1",
   "metadata": {
    "papermill": {
     "duration": 0.013255,
     "end_time": "2024-07-14T07:51:21.531425",
     "exception": false,
     "start_time": "2024-07-14T07:51:21.518170",
     "status": "completed"
    },
    "tags": []
   },
   "source": [
    "# Step 2: Drop columns with missing values\n",
    "\n",
    "In this step, you'll preprocess the data in `X_train` and `X_valid` to remove columns with missing values.  Set the preprocessed DataFrames to `reduced_X_train` and `reduced_X_valid`, respectively.  "
   ]
  },
  {
   "cell_type": "code",
   "execution_count": 10,
   "id": "981340a2",
   "metadata": {
    "execution": {
     "iopub.execute_input": "2024-07-14T07:51:21.559525Z",
     "iopub.status.busy": "2024-07-14T07:51:21.559143Z",
     "iopub.status.idle": "2024-07-14T07:51:21.587414Z",
     "shell.execute_reply": "2024-07-14T07:51:21.586166Z"
    },
    "papermill": {
     "duration": 0.045446,
     "end_time": "2024-07-14T07:51:21.590056",
     "exception": false,
     "start_time": "2024-07-14T07:51:21.544610",
     "status": "completed"
    },
    "tags": []
   },
   "outputs": [
    {
     "data": {
      "application/javascript": [
       "parent.postMessage({\"jupyterEvent\": \"custom.exercise_interaction\", \"data\": {\"outcomeType\": 1, \"valueTowardsCompletion\": 1.0, \"interactionType\": 1, \"questionType\": 2, \"questionId\": \"2_DropMissing\", \"learnToolsVersion\": \"0.3.4\", \"failureMessage\": \"\", \"exceptionClass\": \"\", \"trace\": \"\"}}, \"*\")"
      ],
      "text/plain": [
       "<IPython.core.display.Javascript object>"
      ]
     },
     "metadata": {},
     "output_type": "display_data"
    },
    {
     "data": {
      "text/markdown": [
       "<span style=\"color:#33cc33\">Correct</span>"
      ],
      "text/plain": [
       "Correct"
      ]
     },
     "metadata": {},
     "output_type": "display_data"
    }
   ],
   "source": [
    "\n",
    "cols_with_missing = [col for col in X_train.columns\n",
    "                     if X_train[col].isnull().any()]\n",
    "\n",
    "reduced_X_train = X_train.drop(cols_with_missing, axis=1)\n",
    "reduced_X_valid = X_valid.drop(cols_with_missing, axis=1)\n",
    "\n",
    "# Check your answers\n",
    "step_2.check()"
   ]
  },
  {
   "cell_type": "code",
   "execution_count": 11,
   "id": "5789ab15",
   "metadata": {
    "execution": {
     "iopub.execute_input": "2024-07-14T07:51:21.619424Z",
     "iopub.status.busy": "2024-07-14T07:51:21.618979Z",
     "iopub.status.idle": "2024-07-14T07:51:21.624011Z",
     "shell.execute_reply": "2024-07-14T07:51:21.622887Z"
    },
    "papermill": {
     "duration": 0.022696,
     "end_time": "2024-07-14T07:51:21.626557",
     "exception": false,
     "start_time": "2024-07-14T07:51:21.603861",
     "status": "completed"
    },
    "tags": []
   },
   "outputs": [],
   "source": [
    "# Lines below will give you a hint or solution code\n",
    "#step_2.hint()\n",
    "#step_2.solution()"
   ]
  },
  {
   "cell_type": "markdown",
   "id": "435f6170",
   "metadata": {
    "papermill": {
     "duration": 0.013029,
     "end_time": "2024-07-14T07:51:21.653147",
     "exception": false,
     "start_time": "2024-07-14T07:51:21.640118",
     "status": "completed"
    },
    "tags": []
   },
   "source": [
    "Run the next code cell without changes to obtain the MAE for this approach."
   ]
  },
  {
   "cell_type": "code",
   "execution_count": 12,
   "id": "b6244f86",
   "metadata": {
    "execution": {
     "iopub.execute_input": "2024-07-14T07:51:21.682754Z",
     "iopub.status.busy": "2024-07-14T07:51:21.682357Z",
     "iopub.status.idle": "2024-07-14T07:51:23.084401Z",
     "shell.execute_reply": "2024-07-14T07:51:23.083079Z"
    },
    "papermill": {
     "duration": 1.419992,
     "end_time": "2024-07-14T07:51:23.087227",
     "exception": false,
     "start_time": "2024-07-14T07:51:21.667235",
     "status": "completed"
    },
    "tags": []
   },
   "outputs": [
    {
     "name": "stdout",
     "output_type": "stream",
     "text": [
      "MAE (Drop columns with missing values):\n",
      "17837.82570776256\n"
     ]
    }
   ],
   "source": [
    "print(\"MAE (Drop columns with missing values):\")\n",
    "print(score_dataset(reduced_X_train, reduced_X_valid, y_train, y_valid))"
   ]
  },
  {
   "cell_type": "markdown",
   "id": "6c148c92",
   "metadata": {
    "papermill": {
     "duration": 0.013869,
     "end_time": "2024-07-14T07:51:23.115889",
     "exception": false,
     "start_time": "2024-07-14T07:51:23.102020",
     "status": "completed"
    },
    "tags": []
   },
   "source": [
    "# Step 3: Imputation\n",
    "\n",
    "### Part A\n",
    "\n",
    "Use the next code cell to impute missing values with the mean value along each column.  Set the preprocessed DataFrames to `imputed_X_train` and `imputed_X_valid`.  Make sure that the column names match those in `X_train` and `X_valid`."
   ]
  },
  {
   "cell_type": "code",
   "execution_count": 13,
   "id": "f3343222",
   "metadata": {
    "execution": {
     "iopub.execute_input": "2024-07-14T07:51:23.145233Z",
     "iopub.status.busy": "2024-07-14T07:51:23.144806Z",
     "iopub.status.idle": "2024-07-14T07:51:23.181930Z",
     "shell.execute_reply": "2024-07-14T07:51:23.180822Z"
    },
    "papermill": {
     "duration": 0.05504,
     "end_time": "2024-07-14T07:51:23.184556",
     "exception": false,
     "start_time": "2024-07-14T07:51:23.129516",
     "status": "completed"
    },
    "tags": []
   },
   "outputs": [
    {
     "data": {
      "application/javascript": [
       "parent.postMessage({\"jupyterEvent\": \"custom.exercise_interaction\", \"data\": {\"outcomeType\": 1, \"valueTowardsCompletion\": 1.0, \"interactionType\": 1, \"questionType\": 2, \"questionId\": \"3.1_ImputeCode\", \"learnToolsVersion\": \"0.3.4\", \"failureMessage\": \"\", \"exceptionClass\": \"\", \"trace\": \"\"}}, \"*\")"
      ],
      "text/plain": [
       "<IPython.core.display.Javascript object>"
      ]
     },
     "metadata": {},
     "output_type": "display_data"
    },
    {
     "data": {
      "text/markdown": [
       "<span style=\"color:#33cc33\">Correct</span>"
      ],
      "text/plain": [
       "Correct"
      ]
     },
     "metadata": {},
     "output_type": "display_data"
    }
   ],
   "source": [
    "from sklearn.impute import SimpleImputer\n",
    "\n",
    "my_imputer = SimpleImputer(strategy='mean')\n",
    "\n",
    "imputed_X_train = pd.DataFrame(my_imputer.fit_transform(X_train))\n",
    "imputed_X_valid = pd.DataFrame(my_imputer.transform(X_valid))\n",
    "\n",
    "imputed_X_train.columns = X_train.columns\n",
    "imputed_X_valid.columns = X_valid.columns\n",
    "\n",
    "# Check your answers\n",
    "step_3.a.check()"
   ]
  },
  {
   "cell_type": "code",
   "execution_count": 14,
   "id": "d441b52f",
   "metadata": {
    "execution": {
     "iopub.execute_input": "2024-07-14T07:51:23.216672Z",
     "iopub.status.busy": "2024-07-14T07:51:23.216263Z",
     "iopub.status.idle": "2024-07-14T07:51:23.222001Z",
     "shell.execute_reply": "2024-07-14T07:51:23.220543Z"
    },
    "papermill": {
     "duration": 0.025433,
     "end_time": "2024-07-14T07:51:23.225014",
     "exception": false,
     "start_time": "2024-07-14T07:51:23.199581",
     "status": "completed"
    },
    "tags": []
   },
   "outputs": [],
   "source": [
    "# Lines below will give you a hint or solution code\n",
    "#step_3.a.hint()\n",
    "#step_3.a.solution()"
   ]
  },
  {
   "cell_type": "markdown",
   "id": "985fc5b3",
   "metadata": {
    "papermill": {
     "duration": 0.021315,
     "end_time": "2024-07-14T07:51:23.266054",
     "exception": false,
     "start_time": "2024-07-14T07:51:23.244739",
     "status": "completed"
    },
    "tags": []
   },
   "source": [
    "Run the next code cell without changes to obtain the MAE for this approach."
   ]
  },
  {
   "cell_type": "code",
   "execution_count": 15,
   "id": "3f54104a",
   "metadata": {
    "execution": {
     "iopub.execute_input": "2024-07-14T07:51:23.307258Z",
     "iopub.status.busy": "2024-07-14T07:51:23.306597Z",
     "iopub.status.idle": "2024-07-14T07:51:24.839971Z",
     "shell.execute_reply": "2024-07-14T07:51:24.837683Z"
    },
    "papermill": {
     "duration": 1.559574,
     "end_time": "2024-07-14T07:51:24.843309",
     "exception": false,
     "start_time": "2024-07-14T07:51:23.283735",
     "status": "completed"
    },
    "tags": []
   },
   "outputs": [
    {
     "name": "stdout",
     "output_type": "stream",
     "text": [
      "MAE (Imputation):\n",
      "18062.894611872147\n"
     ]
    }
   ],
   "source": [
    "print(\"MAE (Imputation):\")\n",
    "print(score_dataset(imputed_X_train, imputed_X_valid, y_train, y_valid))"
   ]
  },
  {
   "cell_type": "markdown",
   "id": "fe3b6465",
   "metadata": {
    "papermill": {
     "duration": 0.014025,
     "end_time": "2024-07-14T07:51:24.872780",
     "exception": false,
     "start_time": "2024-07-14T07:51:24.858755",
     "status": "completed"
    },
    "tags": []
   },
   "source": [
    "### Part B\n",
    "\n",
    "Compare the MAE from each approach.  Does anything surprise you about the results?  Why do you think one approach performed better than the other?"
   ]
  },
  {
   "cell_type": "code",
   "execution_count": 16,
   "id": "b30538f8",
   "metadata": {
    "execution": {
     "iopub.execute_input": "2024-07-14T07:51:24.910414Z",
     "iopub.status.busy": "2024-07-14T07:51:24.909950Z",
     "iopub.status.idle": "2024-07-14T07:51:24.921089Z",
     "shell.execute_reply": "2024-07-14T07:51:24.919688Z"
    },
    "papermill": {
     "duration": 0.036108,
     "end_time": "2024-07-14T07:51:24.924502",
     "exception": false,
     "start_time": "2024-07-14T07:51:24.888394",
     "status": "completed"
    },
    "tags": []
   },
   "outputs": [
    {
     "data": {
      "application/javascript": [
       "parent.postMessage({\"jupyterEvent\": \"custom.exercise_interaction\", \"data\": {\"outcomeType\": 1, \"valueTowardsCompletion\": 1.0, \"interactionType\": 1, \"questionType\": 4, \"questionId\": \"3.2_ImputeThought\", \"learnToolsVersion\": \"0.3.4\", \"failureMessage\": \"\", \"exceptionClass\": \"\", \"trace\": \"\"}}, \"*\")"
      ],
      "text/plain": [
       "<IPython.core.display.Javascript object>"
      ]
     },
     "metadata": {},
     "output_type": "display_data"
    },
    {
     "data": {
      "text/markdown": [
       "<span style=\"color:#33cc33\">Correct:</span> \n",
       "\n",
       "Given that thre are so few missing values in the dataset, we'd expect imputation to perform better than dropping columns entirely.  However, we see that dropping columns performs slightly better!  While this can probably partially be attributed to noise in the dataset, another potential explanation is that the imputation method is not a great match to this dataset.  That is, maybe instead of filling in the mean value, it makes more sense to set every missing value to a value of 0, to fill in the most frequently encountered value, or to use some other method.  For instance, consider the `GarageYrBlt` column (which indicates the year that the garage was built).  It's likely that in some cases, a missing value could indicate a house that does not have a garage.  Does it make more sense to fill in the median value along each column in this case?  Or could we get better results by filling in the minimum value along each column?  It's not quite clear what's best in this case, but perhaps we can rule out some options immediately - for instance, setting missing values in this column to 0 is likely to yield horrible results!"
      ],
      "text/plain": [
       "Correct: \n",
       "\n",
       "Given that thre are so few missing values in the dataset, we'd expect imputation to perform better than dropping columns entirely.  However, we see that dropping columns performs slightly better!  While this can probably partially be attributed to noise in the dataset, another potential explanation is that the imputation method is not a great match to this dataset.  That is, maybe instead of filling in the mean value, it makes more sense to set every missing value to a value of 0, to fill in the most frequently encountered value, or to use some other method.  For instance, consider the `GarageYrBlt` column (which indicates the year that the garage was built).  It's likely that in some cases, a missing value could indicate a house that does not have a garage.  Does it make more sense to fill in the median value along each column in this case?  Or could we get better results by filling in the minimum value along each column?  It's not quite clear what's best in this case, but perhaps we can rule out some options immediately - for instance, setting missing values in this column to 0 is likely to yield horrible results!"
      ]
     },
     "metadata": {},
     "output_type": "display_data"
    }
   ],
   "source": [
    "# Check your answer (Run this code cell to receive credit!)\n",
    "step_3.b.check()"
   ]
  },
  {
   "cell_type": "code",
   "execution_count": 17,
   "id": "b2cee23e",
   "metadata": {
    "execution": {
     "iopub.execute_input": "2024-07-14T07:51:24.956167Z",
     "iopub.status.busy": "2024-07-14T07:51:24.955737Z",
     "iopub.status.idle": "2024-07-14T07:51:24.962393Z",
     "shell.execute_reply": "2024-07-14T07:51:24.960719Z"
    },
    "papermill": {
     "duration": 0.026311,
     "end_time": "2024-07-14T07:51:24.965625",
     "exception": false,
     "start_time": "2024-07-14T07:51:24.939314",
     "status": "completed"
    },
    "tags": []
   },
   "outputs": [],
   "source": [
    "#step_3.b.hint()"
   ]
  },
  {
   "cell_type": "markdown",
   "id": "b18dd7ae",
   "metadata": {
    "papermill": {
     "duration": 0.017218,
     "end_time": "2024-07-14T07:51:24.998973",
     "exception": false,
     "start_time": "2024-07-14T07:51:24.981755",
     "status": "completed"
    },
    "tags": []
   },
   "source": [
    "# Step 4: Generate test predictions\n",
    "\n",
    "In this final step, you'll use any approach of your choosing to deal with missing values.  Once you've preprocessed the training and validation features, you'll train and evaluate a random forest model.  Then, you'll preprocess the test data before generating predictions that can be submitted to the competition!\n",
    "\n",
    "### Part A\n",
    "\n",
    "Use the next code cell to preprocess the training and validation data.  Set the preprocessed DataFrames to `final_X_train` and `final_X_valid`.  **You can use any approach of your choosing here!**  in order for this step to be marked as correct, you need only ensure:\n",
    "- the preprocessed DataFrames have the same number of columns,\n",
    "- the preprocessed DataFrames have no missing values, \n",
    "- `final_X_train` and `y_train` have the same number of rows, and\n",
    "- `final_X_valid` and `y_valid` have the same number of rows."
   ]
  },
  {
   "cell_type": "code",
   "execution_count": 18,
   "id": "15f3c6e0",
   "metadata": {
    "execution": {
     "iopub.execute_input": "2024-07-14T07:51:25.033513Z",
     "iopub.status.busy": "2024-07-14T07:51:25.033108Z",
     "iopub.status.idle": "2024-07-14T07:51:25.068097Z",
     "shell.execute_reply": "2024-07-14T07:51:25.066642Z"
    },
    "papermill": {
     "duration": 0.056286,
     "end_time": "2024-07-14T07:51:25.071199",
     "exception": false,
     "start_time": "2024-07-14T07:51:25.014913",
     "status": "completed"
    },
    "tags": []
   },
   "outputs": [
    {
     "data": {
      "application/javascript": [
       "parent.postMessage({\"jupyterEvent\": \"custom.exercise_interaction\", \"data\": {\"outcomeType\": 1, \"valueTowardsCompletion\": 1.0, \"interactionType\": 1, \"questionType\": 2, \"questionId\": \"4.1_PredsCodeA\", \"learnToolsVersion\": \"0.3.4\", \"failureMessage\": \"\", \"exceptionClass\": \"\", \"trace\": \"\"}}, \"*\")"
      ],
      "text/plain": [
       "<IPython.core.display.Javascript object>"
      ]
     },
     "metadata": {},
     "output_type": "display_data"
    },
    {
     "data": {
      "text/markdown": [
       "<span style=\"color:#33cc33\">Correct</span>"
      ],
      "text/plain": [
       "Correct"
      ]
     },
     "metadata": {},
     "output_type": "display_data"
    }
   ],
   "source": [
    "final_imputer = SimpleImputer(strategy='median')\n",
    "final_X_train = pd.DataFrame(final_imputer.fit_transform(X_train))\n",
    "final_X_valid = pd.DataFrame(final_imputer.transform(X_valid))\n",
    "final_X_train.columns = X_train.columns\n",
    "final_X_valid.columns = X_valid.columns\n",
    "# Check your answers\n",
    "step_4.a.check()"
   ]
  },
  {
   "cell_type": "code",
   "execution_count": 19,
   "id": "2d9fe3a7",
   "metadata": {
    "execution": {
     "iopub.execute_input": "2024-07-14T07:51:25.103612Z",
     "iopub.status.busy": "2024-07-14T07:51:25.103173Z",
     "iopub.status.idle": "2024-07-14T07:51:25.109008Z",
     "shell.execute_reply": "2024-07-14T07:51:25.107566Z"
    },
    "papermill": {
     "duration": 0.025321,
     "end_time": "2024-07-14T07:51:25.111842",
     "exception": false,
     "start_time": "2024-07-14T07:51:25.086521",
     "status": "completed"
    },
    "tags": []
   },
   "outputs": [],
   "source": [
    "# Lines below will give you a hint or solution code\n",
    "#step_4.a.hint()\n",
    "#step_4.a.solution()"
   ]
  },
  {
   "cell_type": "markdown",
   "id": "9031584b",
   "metadata": {
    "papermill": {
     "duration": 0.015671,
     "end_time": "2024-07-14T07:51:25.144045",
     "exception": false,
     "start_time": "2024-07-14T07:51:25.128374",
     "status": "completed"
    },
    "tags": []
   },
   "source": [
    "Run the next code cell to train and evaluate a random forest model.  (*Note that we don't use the `score_dataset()` function above, because we will soon use the trained model to generate test predictions!*)"
   ]
  },
  {
   "cell_type": "code",
   "execution_count": 20,
   "id": "771c12aa",
   "metadata": {
    "execution": {
     "iopub.execute_input": "2024-07-14T07:51:25.179775Z",
     "iopub.status.busy": "2024-07-14T07:51:25.179301Z",
     "iopub.status.idle": "2024-07-14T07:51:26.695734Z",
     "shell.execute_reply": "2024-07-14T07:51:26.693931Z"
    },
    "papermill": {
     "duration": 1.536517,
     "end_time": "2024-07-14T07:51:26.699053",
     "exception": false,
     "start_time": "2024-07-14T07:51:25.162536",
     "status": "completed"
    },
    "tags": []
   },
   "outputs": [
    {
     "name": "stdout",
     "output_type": "stream",
     "text": [
      "MAE (Your approach):\n",
      "17791.59899543379\n"
     ]
    }
   ],
   "source": [
    "# Define and fit model\n",
    "model = RandomForestRegressor(n_estimators=100, random_state=0)\n",
    "model.fit(final_X_train, y_train)\n",
    "\n",
    "# Get validation predictions and MAE\n",
    "preds_valid = model.predict(final_X_valid)\n",
    "print(\"MAE (Your approach):\")\n",
    "print(mean_absolute_error(y_valid, preds_valid))"
   ]
  },
  {
   "cell_type": "markdown",
   "id": "5a43ae05",
   "metadata": {
    "papermill": {
     "duration": 0.01523,
     "end_time": "2024-07-14T07:51:26.729902",
     "exception": false,
     "start_time": "2024-07-14T07:51:26.714672",
     "status": "completed"
    },
    "tags": []
   },
   "source": [
    "### Part B\n",
    "\n",
    "Use the next code cell to preprocess your test data.  Make sure that you use a method that agrees with how you preprocessed the training and validation data, and set the preprocessed test features to `final_X_test`.\n",
    "\n",
    "Then, use the preprocessed test features and the trained model to generate test predictions in `preds_test`.\n",
    "\n",
    "In order for this step to be marked correct, you need only ensure:\n",
    "- the preprocessed test DataFrame has no missing values, and\n",
    "- `final_X_test` has the same number of rows as `X_test`."
   ]
  },
  {
   "cell_type": "code",
   "execution_count": 21,
   "id": "34bd3915",
   "metadata": {
    "execution": {
     "iopub.execute_input": "2024-07-14T07:51:26.764500Z",
     "iopub.status.busy": "2024-07-14T07:51:26.763479Z",
     "iopub.status.idle": "2024-07-14T07:51:26.815542Z",
     "shell.execute_reply": "2024-07-14T07:51:26.814293Z"
    },
    "papermill": {
     "duration": 0.072381,
     "end_time": "2024-07-14T07:51:26.818550",
     "exception": false,
     "start_time": "2024-07-14T07:51:26.746169",
     "status": "completed"
    },
    "tags": []
   },
   "outputs": [
    {
     "name": "stderr",
     "output_type": "stream",
     "text": [
      "/opt/conda/lib/python3.10/site-packages/sklearn/base.py:439: UserWarning: X does not have valid feature names, but RandomForestRegressor was fitted with feature names\n",
      "  warnings.warn(\n"
     ]
    },
    {
     "data": {
      "application/javascript": [
       "parent.postMessage({\"jupyterEvent\": \"custom.exercise_interaction\", \"data\": {\"outcomeType\": 1, \"valueTowardsCompletion\": 1.0, \"interactionType\": 1, \"questionType\": 2, \"questionId\": \"4.2_PredsCodeB\", \"learnToolsVersion\": \"0.3.4\", \"failureMessage\": \"\", \"exceptionClass\": \"\", \"trace\": \"\"}}, \"*\")"
      ],
      "text/plain": [
       "<IPython.core.display.Javascript object>"
      ]
     },
     "metadata": {},
     "output_type": "display_data"
    },
    {
     "data": {
      "text/markdown": [
       "<span style=\"color:#33cc33\">Correct</span>"
      ],
      "text/plain": [
       "Correct"
      ]
     },
     "metadata": {},
     "output_type": "display_data"
    }
   ],
   "source": [
    "# Preprocess test data\n",
    "final_X_test = pd.DataFrame(final_imputer.transform(X_test))\n",
    "\n",
    "# Get test predictions\n",
    "preds_test = model.predict(final_X_test)\n",
    "\n",
    "# Check your answers\n",
    "step_4.b.check()"
   ]
  },
  {
   "cell_type": "code",
   "execution_count": 22,
   "id": "8763cc1e",
   "metadata": {
    "execution": {
     "iopub.execute_input": "2024-07-14T07:51:26.852678Z",
     "iopub.status.busy": "2024-07-14T07:51:26.852154Z",
     "iopub.status.idle": "2024-07-14T07:51:26.857993Z",
     "shell.execute_reply": "2024-07-14T07:51:26.856489Z"
    },
    "papermill": {
     "duration": 0.025974,
     "end_time": "2024-07-14T07:51:26.860731",
     "exception": false,
     "start_time": "2024-07-14T07:51:26.834757",
     "status": "completed"
    },
    "tags": []
   },
   "outputs": [],
   "source": [
    "# Lines below will give you a hint or solution code\n",
    "#step_4.b.hint()\n",
    "#step_4.b.solution()"
   ]
  },
  {
   "cell_type": "markdown",
   "id": "51667e6b",
   "metadata": {
    "papermill": {
     "duration": 0.017956,
     "end_time": "2024-07-14T07:51:26.896100",
     "exception": false,
     "start_time": "2024-07-14T07:51:26.878144",
     "status": "completed"
    },
    "tags": []
   },
   "source": [
    "Run the next code cell without changes to save your results to a CSV file that can be submitted directly to the competition."
   ]
  },
  {
   "cell_type": "code",
   "execution_count": 23,
   "id": "612109a2",
   "metadata": {
    "execution": {
     "iopub.execute_input": "2024-07-14T07:51:27.002482Z",
     "iopub.status.busy": "2024-07-14T07:51:27.001972Z",
     "iopub.status.idle": "2024-07-14T07:51:27.017062Z",
     "shell.execute_reply": "2024-07-14T07:51:27.015230Z"
    },
    "papermill": {
     "duration": 0.103438,
     "end_time": "2024-07-14T07:51:27.020043",
     "exception": false,
     "start_time": "2024-07-14T07:51:26.916605",
     "status": "completed"
    },
    "tags": []
   },
   "outputs": [],
   "source": [
    "# Save test predictions to file\n",
    "output = pd.DataFrame({'Id': X_test.index,\n",
    "                       'SalePrice': preds_test})\n",
    "output.to_csv('submission.csv', index=False)"
   ]
  },
  {
   "cell_type": "markdown",
   "id": "2685c335",
   "metadata": {
    "papermill": {
     "duration": 0.017191,
     "end_time": "2024-07-14T07:51:27.054435",
     "exception": false,
     "start_time": "2024-07-14T07:51:27.037244",
     "status": "completed"
    },
    "tags": []
   },
   "source": [
    "# Submit your results\n",
    "\n",
    "Once you have successfully completed Step 4, you're ready to submit your results to the leaderboard!  (_You also learned how to do this in the previous exercise.  If you need a reminder of how to do this, please use the instructions below._)  \n",
    "\n",
    "First, you'll need to join the competition if you haven't already.  So open a new window by clicking on [this link](https://www.kaggle.com/c/home-data-for-ml-course).  Then click on the **Join Competition** button.\n",
    "\n",
    "![join competition image](https://storage.googleapis.com/kaggle-media/learn/images/wLmFtH3.png)\n",
    "\n",
    "Next, follow the instructions below:\n",
    "1. Begin by clicking on the **Save Version** button in the top right corner of the window.  This will generate a pop-up window.  \n",
    "2. Ensure that the **Save and Run All** option is selected, and then click on the **Save** button.\n",
    "3. This generates a window in the bottom left corner of the notebook.  After it has finished running, click on the number to the right of the **Save Version** button.  This pulls up a list of versions on the right of the screen.  Click on the ellipsis **(...)** to the right of the most recent version, and select **Open in Viewer**.  This brings you into view mode of the same page. You will need to scroll down to get back to these instructions.\n",
    "4. Click on the **Data** tab near the top of the screen.  Then, click on the file you would like to submit, and click on the **Submit** button to submit your results to the leaderboard.\n",
    "\n",
    "You have now successfully submitted to the competition!\n",
    "\n",
    "If you want to keep working to improve your performance, select the **Edit** button in the top right of the screen. Then you can change your code and repeat the process. There's a lot of room to improve, and you will climb up the leaderboard as you work.\n",
    "\n",
    "\n",
    "# Keep going\n",
    "\n",
    "Move on to learn what **[categorical variables](https://www.kaggle.com/alexisbcook/categorical-variables)** are, along with how to incorporate them into your machine learning models.  Categorical variables are very common in real-world data, but you'll get an error if you try to plug them into your models without processing them first!"
   ]
  },
  {
   "cell_type": "markdown",
   "id": "ed6d62f6",
   "metadata": {
    "papermill": {
     "duration": 0.015792,
     "end_time": "2024-07-14T07:51:27.086113",
     "exception": false,
     "start_time": "2024-07-14T07:51:27.070321",
     "status": "completed"
    },
    "tags": []
   },
   "source": [
    "---\n",
    "\n",
    "\n",
    "\n",
    "\n",
    "*Have questions or comments? Visit the [course discussion forum](https://www.kaggle.com/learn/intermediate-machine-learning/discussion) to chat with other learners.*"
   ]
  }
 ],
 "metadata": {
  "kaggle": {
   "accelerator": "none",
   "dataSources": [
    {
     "databundleVersionId": 111096,
     "sourceId": 10211,
     "sourceType": "competition"
    }
   ],
   "isGpuEnabled": false,
   "isInternetEnabled": false,
   "language": "python",
   "sourceType": "notebook"
  },
  "kernelspec": {
   "display_name": "Python 3",
   "language": "python",
   "name": "python3"
  },
  "language_info": {
   "codemirror_mode": {
    "name": "ipython",
    "version": 3
   },
   "file_extension": ".py",
   "mimetype": "text/x-python",
   "name": "python",
   "nbconvert_exporter": "python",
   "pygments_lexer": "ipython3",
   "version": "3.10.13"
  },
  "papermill": {
   "default_parameters": {},
   "duration": 13.732961,
   "end_time": "2024-07-14T07:51:27.826978",
   "environment_variables": {},
   "exception": null,
   "input_path": "__notebook__.ipynb",
   "output_path": "__notebook__.ipynb",
   "parameters": {},
   "start_time": "2024-07-14T07:51:14.094017",
   "version": "2.5.0"
  }
 },
 "nbformat": 4,
 "nbformat_minor": 5
}
