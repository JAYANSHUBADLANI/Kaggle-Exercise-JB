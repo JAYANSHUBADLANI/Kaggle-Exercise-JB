{
 "cells": [
  {
   "cell_type": "markdown",
   "id": "eba87fa3",
   "metadata": {
    "papermill": {
     "duration": 0.007804,
     "end_time": "2024-07-14T08:31:36.434470",
     "exception": false,
     "start_time": "2024-07-14T08:31:36.426666",
     "status": "completed"
    },
    "tags": []
   },
   "source": [
    "**This notebook is an exercise in the [Intermediate Machine Learning](https://www.kaggle.com/learn/intermediate-machine-learning) course.  You can reference the tutorial at [this link](https://www.kaggle.com/alexisbcook/pipelines).**\n",
    "\n",
    "---\n"
   ]
  },
  {
   "cell_type": "markdown",
   "id": "d014e9d2",
   "metadata": {
    "papermill": {
     "duration": 0.006176,
     "end_time": "2024-07-14T08:31:36.447752",
     "exception": false,
     "start_time": "2024-07-14T08:31:36.441576",
     "status": "completed"
    },
    "tags": []
   },
   "source": [
    "In this exercise, you will use **pipelines** to improve the efficiency of your machine learning code.\n",
    "\n",
    "# Setup\n",
    "\n",
    "The questions below will give you feedback on your work. Run the following cell to set up the feedback system."
   ]
  },
  {
   "cell_type": "code",
   "execution_count": 1,
   "id": "bf0b4371",
   "metadata": {
    "execution": {
     "iopub.execute_input": "2024-07-14T08:31:36.462565Z",
     "iopub.status.busy": "2024-07-14T08:31:36.462139Z",
     "iopub.status.idle": "2024-07-14T08:31:38.600755Z",
     "shell.execute_reply": "2024-07-14T08:31:38.599449Z"
    },
    "papermill": {
     "duration": 2.149285,
     "end_time": "2024-07-14T08:31:38.603575",
     "exception": false,
     "start_time": "2024-07-14T08:31:36.454290",
     "status": "completed"
    },
    "tags": []
   },
   "outputs": [
    {
     "name": "stdout",
     "output_type": "stream",
     "text": [
      "Setup Complete\n"
     ]
    }
   ],
   "source": [
    "# Set up code checking\n",
    "import os\n",
    "if not os.path.exists(\"../input/train.csv\"):\n",
    "    os.symlink(\"../input/home-data-for-ml-course/train.csv\", \"../input/train.csv\")  \n",
    "    os.symlink(\"../input/home-data-for-ml-course/test.csv\", \"../input/test.csv\") \n",
    "from learntools.core import binder\n",
    "binder.bind(globals())\n",
    "from learntools.ml_intermediate.ex4 import *\n",
    "print(\"Setup Complete\")"
   ]
  },
  {
   "cell_type": "markdown",
   "id": "170e1fbb",
   "metadata": {
    "papermill": {
     "duration": 0.006348,
     "end_time": "2024-07-14T08:31:38.616588",
     "exception": false,
     "start_time": "2024-07-14T08:31:38.610240",
     "status": "completed"
    },
    "tags": []
   },
   "source": [
    "You will work with data from the [Housing Prices Competition for Kaggle Learn Users](https://www.kaggle.com/c/home-data-for-ml-course). \n",
    "\n",
    "![Ames Housing dataset image](https://storage.googleapis.com/kaggle-media/learn/images/lTJVG4e.png)\n",
    "\n",
    "Run the next code cell without changes to load the training and validation sets in `X_train`, `X_valid`, `y_train`, and `y_valid`.  The test set is loaded in `X_test`."
   ]
  },
  {
   "cell_type": "code",
   "execution_count": 2,
   "id": "e42f9215",
   "metadata": {
    "execution": {
     "iopub.execute_input": "2024-07-14T08:31:38.631485Z",
     "iopub.status.busy": "2024-07-14T08:31:38.630922Z",
     "iopub.status.idle": "2024-07-14T08:31:38.865162Z",
     "shell.execute_reply": "2024-07-14T08:31:38.864228Z"
    },
    "papermill": {
     "duration": 0.245105,
     "end_time": "2024-07-14T08:31:38.868231",
     "exception": false,
     "start_time": "2024-07-14T08:31:38.623126",
     "status": "completed"
    },
    "tags": []
   },
   "outputs": [],
   "source": [
    "import pandas as pd\n",
    "from sklearn.model_selection import train_test_split\n",
    "\n",
    "# Read the data\n",
    "X_full = pd.read_csv('../input/train.csv', index_col='Id')\n",
    "X_test_full = pd.read_csv('../input/test.csv', index_col='Id')\n",
    "\n",
    "# Remove rows with missing target, separate target from predictors\n",
    "X_full.dropna(axis=0, subset=['SalePrice'], inplace=True)\n",
    "y = X_full.SalePrice\n",
    "X_full.drop(['SalePrice'], axis=1, inplace=True)\n",
    "\n",
    "# Break off validation set from training data\n",
    "X_train_full, X_valid_full, y_train, y_valid = train_test_split(X_full, y, \n",
    "                                                                train_size=0.8, test_size=0.2,\n",
    "                                                                random_state=0)\n",
    "\n",
    "# \"Cardinality\" means the number of unique values in a column\n",
    "# Select categorical columns with relatively low cardinality (convenient but arbitrary)\n",
    "categorical_cols = [cname for cname in X_train_full.columns if\n",
    "                    X_train_full[cname].nunique() < 10 and \n",
    "                    X_train_full[cname].dtype == \"object\"]\n",
    "\n",
    "# Select numerical columns\n",
    "numerical_cols = [cname for cname in X_train_full.columns if \n",
    "                X_train_full[cname].dtype in ['int64', 'float64']]\n",
    "\n",
    "# Keep selected columns only\n",
    "my_cols = categorical_cols + numerical_cols\n",
    "X_train = X_train_full[my_cols].copy()\n",
    "X_valid = X_valid_full[my_cols].copy()\n",
    "X_test = X_test_full[my_cols].copy()"
   ]
  },
  {
   "cell_type": "code",
   "execution_count": 3,
   "id": "c92b685e",
   "metadata": {
    "execution": {
     "iopub.execute_input": "2024-07-14T08:31:38.883543Z",
     "iopub.status.busy": "2024-07-14T08:31:38.882853Z",
     "iopub.status.idle": "2024-07-14T08:31:38.910665Z",
     "shell.execute_reply": "2024-07-14T08:31:38.909403Z"
    },
    "papermill": {
     "duration": 0.038338,
     "end_time": "2024-07-14T08:31:38.913311",
     "exception": false,
     "start_time": "2024-07-14T08:31:38.874973",
     "status": "completed"
    },
    "tags": []
   },
   "outputs": [
    {
     "data": {
      "text/html": [
       "<div>\n",
       "<style scoped>\n",
       "    .dataframe tbody tr th:only-of-type {\n",
       "        vertical-align: middle;\n",
       "    }\n",
       "\n",
       "    .dataframe tbody tr th {\n",
       "        vertical-align: top;\n",
       "    }\n",
       "\n",
       "    .dataframe thead th {\n",
       "        text-align: right;\n",
       "    }\n",
       "</style>\n",
       "<table border=\"1\" class=\"dataframe\">\n",
       "  <thead>\n",
       "    <tr style=\"text-align: right;\">\n",
       "      <th></th>\n",
       "      <th>MSZoning</th>\n",
       "      <th>Street</th>\n",
       "      <th>Alley</th>\n",
       "      <th>LotShape</th>\n",
       "      <th>LandContour</th>\n",
       "      <th>Utilities</th>\n",
       "      <th>LotConfig</th>\n",
       "      <th>LandSlope</th>\n",
       "      <th>Condition1</th>\n",
       "      <th>Condition2</th>\n",
       "      <th>...</th>\n",
       "      <th>GarageArea</th>\n",
       "      <th>WoodDeckSF</th>\n",
       "      <th>OpenPorchSF</th>\n",
       "      <th>EnclosedPorch</th>\n",
       "      <th>3SsnPorch</th>\n",
       "      <th>ScreenPorch</th>\n",
       "      <th>PoolArea</th>\n",
       "      <th>MiscVal</th>\n",
       "      <th>MoSold</th>\n",
       "      <th>YrSold</th>\n",
       "    </tr>\n",
       "    <tr>\n",
       "      <th>Id</th>\n",
       "      <th></th>\n",
       "      <th></th>\n",
       "      <th></th>\n",
       "      <th></th>\n",
       "      <th></th>\n",
       "      <th></th>\n",
       "      <th></th>\n",
       "      <th></th>\n",
       "      <th></th>\n",
       "      <th></th>\n",
       "      <th></th>\n",
       "      <th></th>\n",
       "      <th></th>\n",
       "      <th></th>\n",
       "      <th></th>\n",
       "      <th></th>\n",
       "      <th></th>\n",
       "      <th></th>\n",
       "      <th></th>\n",
       "      <th></th>\n",
       "      <th></th>\n",
       "    </tr>\n",
       "  </thead>\n",
       "  <tbody>\n",
       "    <tr>\n",
       "      <th>619</th>\n",
       "      <td>RL</td>\n",
       "      <td>Pave</td>\n",
       "      <td>NaN</td>\n",
       "      <td>Reg</td>\n",
       "      <td>Lvl</td>\n",
       "      <td>AllPub</td>\n",
       "      <td>Inside</td>\n",
       "      <td>Gtl</td>\n",
       "      <td>Norm</td>\n",
       "      <td>Norm</td>\n",
       "      <td>...</td>\n",
       "      <td>774</td>\n",
       "      <td>0</td>\n",
       "      <td>108</td>\n",
       "      <td>0</td>\n",
       "      <td>0</td>\n",
       "      <td>260</td>\n",
       "      <td>0</td>\n",
       "      <td>0</td>\n",
       "      <td>7</td>\n",
       "      <td>2007</td>\n",
       "    </tr>\n",
       "    <tr>\n",
       "      <th>871</th>\n",
       "      <td>RL</td>\n",
       "      <td>Pave</td>\n",
       "      <td>NaN</td>\n",
       "      <td>Reg</td>\n",
       "      <td>Lvl</td>\n",
       "      <td>AllPub</td>\n",
       "      <td>Inside</td>\n",
       "      <td>Gtl</td>\n",
       "      <td>PosN</td>\n",
       "      <td>Norm</td>\n",
       "      <td>...</td>\n",
       "      <td>308</td>\n",
       "      <td>0</td>\n",
       "      <td>0</td>\n",
       "      <td>0</td>\n",
       "      <td>0</td>\n",
       "      <td>0</td>\n",
       "      <td>0</td>\n",
       "      <td>0</td>\n",
       "      <td>8</td>\n",
       "      <td>2009</td>\n",
       "    </tr>\n",
       "    <tr>\n",
       "      <th>93</th>\n",
       "      <td>RL</td>\n",
       "      <td>Pave</td>\n",
       "      <td>Grvl</td>\n",
       "      <td>IR1</td>\n",
       "      <td>HLS</td>\n",
       "      <td>AllPub</td>\n",
       "      <td>Inside</td>\n",
       "      <td>Gtl</td>\n",
       "      <td>Norm</td>\n",
       "      <td>Norm</td>\n",
       "      <td>...</td>\n",
       "      <td>432</td>\n",
       "      <td>0</td>\n",
       "      <td>0</td>\n",
       "      <td>44</td>\n",
       "      <td>0</td>\n",
       "      <td>0</td>\n",
       "      <td>0</td>\n",
       "      <td>0</td>\n",
       "      <td>8</td>\n",
       "      <td>2009</td>\n",
       "    </tr>\n",
       "    <tr>\n",
       "      <th>818</th>\n",
       "      <td>RL</td>\n",
       "      <td>Pave</td>\n",
       "      <td>NaN</td>\n",
       "      <td>IR1</td>\n",
       "      <td>Lvl</td>\n",
       "      <td>AllPub</td>\n",
       "      <td>CulDSac</td>\n",
       "      <td>Gtl</td>\n",
       "      <td>Norm</td>\n",
       "      <td>Norm</td>\n",
       "      <td>...</td>\n",
       "      <td>857</td>\n",
       "      <td>150</td>\n",
       "      <td>59</td>\n",
       "      <td>0</td>\n",
       "      <td>0</td>\n",
       "      <td>0</td>\n",
       "      <td>0</td>\n",
       "      <td>0</td>\n",
       "      <td>7</td>\n",
       "      <td>2008</td>\n",
       "    </tr>\n",
       "    <tr>\n",
       "      <th>303</th>\n",
       "      <td>RL</td>\n",
       "      <td>Pave</td>\n",
       "      <td>NaN</td>\n",
       "      <td>IR1</td>\n",
       "      <td>Lvl</td>\n",
       "      <td>AllPub</td>\n",
       "      <td>Corner</td>\n",
       "      <td>Gtl</td>\n",
       "      <td>Norm</td>\n",
       "      <td>Norm</td>\n",
       "      <td>...</td>\n",
       "      <td>843</td>\n",
       "      <td>468</td>\n",
       "      <td>81</td>\n",
       "      <td>0</td>\n",
       "      <td>0</td>\n",
       "      <td>0</td>\n",
       "      <td>0</td>\n",
       "      <td>0</td>\n",
       "      <td>1</td>\n",
       "      <td>2006</td>\n",
       "    </tr>\n",
       "  </tbody>\n",
       "</table>\n",
       "<p>5 rows × 76 columns</p>\n",
       "</div>"
      ],
      "text/plain": [
       "    MSZoning Street Alley LotShape LandContour Utilities LotConfig LandSlope  \\\n",
       "Id                                                                             \n",
       "619       RL   Pave   NaN      Reg         Lvl    AllPub    Inside       Gtl   \n",
       "871       RL   Pave   NaN      Reg         Lvl    AllPub    Inside       Gtl   \n",
       "93        RL   Pave  Grvl      IR1         HLS    AllPub    Inside       Gtl   \n",
       "818       RL   Pave   NaN      IR1         Lvl    AllPub   CulDSac       Gtl   \n",
       "303       RL   Pave   NaN      IR1         Lvl    AllPub    Corner       Gtl   \n",
       "\n",
       "    Condition1 Condition2  ... GarageArea WoodDeckSF OpenPorchSF  \\\n",
       "Id                         ...                                     \n",
       "619       Norm       Norm  ...        774          0         108   \n",
       "871       PosN       Norm  ...        308          0           0   \n",
       "93        Norm       Norm  ...        432          0           0   \n",
       "818       Norm       Norm  ...        857        150          59   \n",
       "303       Norm       Norm  ...        843        468          81   \n",
       "\n",
       "    EnclosedPorch 3SsnPorch ScreenPorch PoolArea MiscVal MoSold YrSold  \n",
       "Id                                                                      \n",
       "619             0         0         260        0       0      7   2007  \n",
       "871             0         0           0        0       0      8   2009  \n",
       "93             44         0           0        0       0      8   2009  \n",
       "818             0         0           0        0       0      7   2008  \n",
       "303             0         0           0        0       0      1   2006  \n",
       "\n",
       "[5 rows x 76 columns]"
      ]
     },
     "execution_count": 3,
     "metadata": {},
     "output_type": "execute_result"
    }
   ],
   "source": [
    "X_train.head()"
   ]
  },
  {
   "cell_type": "markdown",
   "id": "4da4285d",
   "metadata": {
    "papermill": {
     "duration": 0.006979,
     "end_time": "2024-07-14T08:31:38.927833",
     "exception": false,
     "start_time": "2024-07-14T08:31:38.920854",
     "status": "completed"
    },
    "tags": []
   },
   "source": [
    "The next code cell uses code from the tutorial to preprocess the data and train a model.  Run this code without changes."
   ]
  },
  {
   "cell_type": "code",
   "execution_count": 4,
   "id": "751bd52a",
   "metadata": {
    "execution": {
     "iopub.execute_input": "2024-07-14T08:31:38.943988Z",
     "iopub.status.busy": "2024-07-14T08:31:38.943593Z",
     "iopub.status.idle": "2024-07-14T08:31:42.147747Z",
     "shell.execute_reply": "2024-07-14T08:31:42.146437Z"
    },
    "papermill": {
     "duration": 3.215262,
     "end_time": "2024-07-14T08:31:42.150330",
     "exception": false,
     "start_time": "2024-07-14T08:31:38.935068",
     "status": "completed"
    },
    "tags": []
   },
   "outputs": [
    {
     "name": "stdout",
     "output_type": "stream",
     "text": [
      "MAE: 17614.81993150685\n"
     ]
    }
   ],
   "source": [
    "from sklearn.compose import ColumnTransformer\n",
    "from sklearn.pipeline import Pipeline\n",
    "from sklearn.impute import SimpleImputer\n",
    "from sklearn.preprocessing import OneHotEncoder\n",
    "from sklearn.ensemble import RandomForestRegressor\n",
    "from sklearn.metrics import mean_absolute_error\n",
    "\n",
    "# Preprocessing for numerical data\n",
    "numerical_transformer = SimpleImputer(strategy='constant')\n",
    "\n",
    "# Preprocessing for categorical data\n",
    "categorical_transformer = Pipeline(steps=[\n",
    "    ('imputer', SimpleImputer(strategy='most_frequent')),\n",
    "    ('onehot', OneHotEncoder(handle_unknown='ignore'))\n",
    "])\n",
    "\n",
    "# Bundle preprocessing for numerical and categorical data\n",
    "preprocessor = ColumnTransformer(\n",
    "    transformers=[\n",
    "        ('num', numerical_transformer, numerical_cols),\n",
    "        ('cat', categorical_transformer, categorical_cols)\n",
    "    ])\n",
    "\n",
    "# Define model\n",
    "model = RandomForestRegressor(n_estimators=100, random_state=0)\n",
    "\n",
    "# Bundle preprocessing and modeling code in a pipeline\n",
    "clf = Pipeline(steps=[('preprocessor', preprocessor),\n",
    "                      ('model', model)\n",
    "                     ])\n",
    "\n",
    "# Preprocessing of training data, fit model \n",
    "clf.fit(X_train, y_train)\n",
    "\n",
    "# Preprocessing of validation data, get predictions\n",
    "preds = clf.predict(X_valid)\n",
    "\n",
    "print('MAE:', mean_absolute_error(y_valid, preds))"
   ]
  },
  {
   "cell_type": "markdown",
   "id": "97b52aac",
   "metadata": {
    "papermill": {
     "duration": 0.00716,
     "end_time": "2024-07-14T08:31:42.165326",
     "exception": false,
     "start_time": "2024-07-14T08:31:42.158166",
     "status": "completed"
    },
    "tags": []
   },
   "source": [
    "The code yields a value around 17862 for the mean absolute error (MAE).  In the next step, you will amend the code to do better.\n",
    "\n",
    "# Step 1: Improve the performance\n",
    "\n",
    "### Part A\n",
    "\n",
    "Now, it's your turn!  In the code cell below, define your own preprocessing steps and random forest model.  Fill in values for the following variables:\n",
    "- `numerical_transformer`\n",
    "- `categorical_transformer`\n",
    "- `model`\n",
    "\n",
    "To pass this part of the exercise, you need only define valid preprocessing steps and a random forest model."
   ]
  },
  {
   "cell_type": "code",
   "execution_count": 5,
   "id": "0f514c8a",
   "metadata": {
    "execution": {
     "iopub.execute_input": "2024-07-14T08:31:42.181511Z",
     "iopub.status.busy": "2024-07-14T08:31:42.181066Z",
     "iopub.status.idle": "2024-07-14T08:31:42.195913Z",
     "shell.execute_reply": "2024-07-14T08:31:42.194734Z"
    },
    "papermill": {
     "duration": 0.026276,
     "end_time": "2024-07-14T08:31:42.198786",
     "exception": false,
     "start_time": "2024-07-14T08:31:42.172510",
     "status": "completed"
    },
    "tags": []
   },
   "outputs": [
    {
     "data": {
      "application/javascript": [
       "parent.postMessage({\"jupyterEvent\": \"custom.exercise_interaction\", \"data\": {\"outcomeType\": 1, \"valueTowardsCompletion\": 1.0, \"interactionType\": 1, \"questionType\": 2, \"questionId\": \"1.1_YourTurnModel\", \"learnToolsVersion\": \"0.3.4\", \"failureMessage\": \"\", \"exceptionClass\": \"\", \"trace\": \"\"}}, \"*\")"
      ],
      "text/plain": [
       "<IPython.core.display.Javascript object>"
      ]
     },
     "metadata": {},
     "output_type": "display_data"
    },
    {
     "data": {
      "text/markdown": [
       "<span style=\"color:#33cc33\">Correct</span>"
      ],
      "text/plain": [
       "Correct"
      ]
     },
     "metadata": {},
     "output_type": "display_data"
    }
   ],
   "source": [
    "from sklearn.compose import ColumnTransformer\n",
    "from sklearn.pipeline import Pipeline\n",
    "from sklearn.impute import SimpleImputer\n",
    "from sklearn.preprocessing import StandardScaler, OneHotEncoder\n",
    "from sklearn.ensemble import RandomForestRegressor\n",
    "\n",
    "# Preprocessing for numerical data\n",
    "numerical_transformer = Pipeline(steps=[\n",
    "    ('imputer', SimpleImputer(strategy='mean')),\n",
    "    ('scaler', StandardScaler())\n",
    "])\n",
    "\n",
    "# Preprocessing for categorical data\n",
    "categorical_transformer = Pipeline(steps=[\n",
    "    ('imputer', SimpleImputer(strategy='most_frequent')),\n",
    "    ('onehot', OneHotEncoder(handle_unknown='ignore'))\n",
    "])\n",
    "\n",
    "# Bundle preprocessing for numerical and categorical data\n",
    "preprocessor = ColumnTransformer(\n",
    "    transformers=[\n",
    "        ('num', numerical_transformer, numerical_cols),\n",
    "        ('cat', categorical_transformer, categorical_cols)\n",
    "    ])\n",
    "\n",
    "# Define model\n",
    "model = RandomForestRegressor(n_estimators=200, random_state=0)\n",
    "\n",
    "# Check your answer\n",
    "step_1.a.check()\n"
   ]
  },
  {
   "cell_type": "code",
   "execution_count": 6,
   "id": "00ee0b83",
   "metadata": {
    "execution": {
     "iopub.execute_input": "2024-07-14T08:31:42.216108Z",
     "iopub.status.busy": "2024-07-14T08:31:42.215693Z",
     "iopub.status.idle": "2024-07-14T08:31:42.220799Z",
     "shell.execute_reply": "2024-07-14T08:31:42.219609Z"
    },
    "papermill": {
     "duration": 0.016843,
     "end_time": "2024-07-14T08:31:42.223403",
     "exception": false,
     "start_time": "2024-07-14T08:31:42.206560",
     "status": "completed"
    },
    "tags": []
   },
   "outputs": [],
   "source": [
    "# Lines below will give you a hint or solution code\n",
    "#step_1.a.hint()\n",
    "#step_1.a.solution()"
   ]
  },
  {
   "cell_type": "markdown",
   "id": "f26e0945",
   "metadata": {
    "papermill": {
     "duration": 0.007539,
     "end_time": "2024-07-14T08:31:42.238635",
     "exception": false,
     "start_time": "2024-07-14T08:31:42.231096",
     "status": "completed"
    },
    "tags": []
   },
   "source": [
    "### Part B\n",
    "\n",
    "Run the code cell below without changes.\n",
    "\n",
    "To pass this step, you need to have defined a pipeline in **Part A** that achieves lower MAE than the code above.  You're encouraged to take your time here and try out many different approaches, to see how low you can get the MAE!  (_If your code does not pass, please amend the preprocessing steps and model in Part A._)"
   ]
  },
  {
   "cell_type": "code",
   "execution_count": 7,
   "id": "98b4d62d",
   "metadata": {
    "execution": {
     "iopub.execute_input": "2024-07-14T08:31:42.256548Z",
     "iopub.status.busy": "2024-07-14T08:31:42.256074Z",
     "iopub.status.idle": "2024-07-14T08:31:47.587765Z",
     "shell.execute_reply": "2024-07-14T08:31:47.586649Z"
    },
    "papermill": {
     "duration": 5.344835,
     "end_time": "2024-07-14T08:31:47.591319",
     "exception": false,
     "start_time": "2024-07-14T08:31:42.246484",
     "status": "completed"
    },
    "tags": []
   },
   "outputs": [
    {
     "name": "stdout",
     "output_type": "stream",
     "text": [
      "MAE: 17380.426318493148\n"
     ]
    },
    {
     "data": {
      "application/javascript": [
       "parent.postMessage({\"jupyterEvent\": \"custom.exercise_interaction\", \"data\": {\"outcomeType\": 1, \"valueTowardsCompletion\": 1.0, \"interactionType\": 1, \"questionType\": 2, \"questionId\": \"1.2_YourTurnPredict\", \"learnToolsVersion\": \"0.3.4\", \"failureMessage\": \"\", \"exceptionClass\": \"\", \"trace\": \"\"}}, \"*\")"
      ],
      "text/plain": [
       "<IPython.core.display.Javascript object>"
      ]
     },
     "metadata": {},
     "output_type": "display_data"
    },
    {
     "data": {
      "text/markdown": [
       "<span style=\"color:#33cc33\">Correct</span>"
      ],
      "text/plain": [
       "Correct"
      ]
     },
     "metadata": {},
     "output_type": "display_data"
    }
   ],
   "source": [
    "# Bundle preprocessing and modeling code in a pipeline\n",
    "my_pipeline = Pipeline(steps=[('preprocessor', preprocessor),\n",
    "                              ('model', model)\n",
    "                             ])\n",
    "\n",
    "# Preprocessing of training data, fit model \n",
    "my_pipeline.fit(X_train, y_train)\n",
    "\n",
    "# Preprocessing of validation data, get predictions\n",
    "preds = my_pipeline.predict(X_valid)\n",
    "\n",
    "# Evaluate the model\n",
    "score = mean_absolute_error(y_valid, preds)\n",
    "print('MAE:', score)\n",
    "\n",
    "# Check your answer\n",
    "step_1.b.check()"
   ]
  },
  {
   "cell_type": "code",
   "execution_count": 8,
   "id": "4820dcbb",
   "metadata": {
    "execution": {
     "iopub.execute_input": "2024-07-14T08:31:47.610156Z",
     "iopub.status.busy": "2024-07-14T08:31:47.609753Z",
     "iopub.status.idle": "2024-07-14T08:31:47.615037Z",
     "shell.execute_reply": "2024-07-14T08:31:47.613792Z"
    },
    "papermill": {
     "duration": 0.01775,
     "end_time": "2024-07-14T08:31:47.617613",
     "exception": false,
     "start_time": "2024-07-14T08:31:47.599863",
     "status": "completed"
    },
    "tags": []
   },
   "outputs": [],
   "source": [
    "# Line below will give you a hint\n",
    "#step_1.b.hint()"
   ]
  },
  {
   "cell_type": "markdown",
   "id": "f0754277",
   "metadata": {
    "papermill": {
     "duration": 0.007774,
     "end_time": "2024-07-14T08:31:47.633577",
     "exception": false,
     "start_time": "2024-07-14T08:31:47.625803",
     "status": "completed"
    },
    "tags": []
   },
   "source": [
    "# Step 2: Generate test predictions\n",
    "\n",
    "Now, you'll use your trained model to generate predictions with the test data."
   ]
  },
  {
   "cell_type": "code",
   "execution_count": 9,
   "id": "d0358710",
   "metadata": {
    "execution": {
     "iopub.execute_input": "2024-07-14T08:31:47.651473Z",
     "iopub.status.busy": "2024-07-14T08:31:47.651023Z",
     "iopub.status.idle": "2024-07-14T08:31:47.728934Z",
     "shell.execute_reply": "2024-07-14T08:31:47.727859Z"
    },
    "papermill": {
     "duration": 0.090249,
     "end_time": "2024-07-14T08:31:47.731887",
     "exception": false,
     "start_time": "2024-07-14T08:31:47.641638",
     "status": "completed"
    },
    "tags": []
   },
   "outputs": [
    {
     "data": {
      "application/javascript": [
       "parent.postMessage({\"jupyterEvent\": \"custom.exercise_interaction\", \"data\": {\"outcomeType\": 1, \"valueTowardsCompletion\": 1.0, \"interactionType\": 1, \"questionType\": 2, \"questionId\": \"2_TestPreds\", \"learnToolsVersion\": \"0.3.4\", \"failureMessage\": \"\", \"exceptionClass\": \"\", \"trace\": \"\"}}, \"*\")"
      ],
      "text/plain": [
       "<IPython.core.display.Javascript object>"
      ]
     },
     "metadata": {},
     "output_type": "display_data"
    },
    {
     "data": {
      "text/markdown": [
       "<span style=\"color:#33cc33\">Correct</span>"
      ],
      "text/plain": [
       "Correct"
      ]
     },
     "metadata": {},
     "output_type": "display_data"
    }
   ],
   "source": [
    "# Preprocessing of test data, fit model\n",
    "preds_test = clf.predict(X_test)\n",
    "\n",
    "# Check your answer\n",
    "step_2.check()"
   ]
  },
  {
   "cell_type": "code",
   "execution_count": 10,
   "id": "e84e13d9",
   "metadata": {
    "execution": {
     "iopub.execute_input": "2024-07-14T08:31:47.751997Z",
     "iopub.status.busy": "2024-07-14T08:31:47.751519Z",
     "iopub.status.idle": "2024-07-14T08:31:47.757604Z",
     "shell.execute_reply": "2024-07-14T08:31:47.756241Z"
    },
    "papermill": {
     "duration": 0.01924,
     "end_time": "2024-07-14T08:31:47.760042",
     "exception": false,
     "start_time": "2024-07-14T08:31:47.740802",
     "status": "completed"
    },
    "tags": []
   },
   "outputs": [],
   "source": [
    "# Lines below will give you a hint or solution code\n",
    "#step_2.hint()\n",
    "#step_2.solution()"
   ]
  },
  {
   "cell_type": "markdown",
   "id": "e2d548f0",
   "metadata": {
    "papermill": {
     "duration": 0.008292,
     "end_time": "2024-07-14T08:31:47.777421",
     "exception": false,
     "start_time": "2024-07-14T08:31:47.769129",
     "status": "completed"
    },
    "tags": []
   },
   "source": [
    "Run the next code cell without changes to save your results to a CSV file that can be submitted directly to the competition."
   ]
  },
  {
   "cell_type": "code",
   "execution_count": 11,
   "id": "7de79d07",
   "metadata": {
    "execution": {
     "iopub.execute_input": "2024-07-14T08:31:47.796205Z",
     "iopub.status.busy": "2024-07-14T08:31:47.795774Z",
     "iopub.status.idle": "2024-07-14T08:31:47.809429Z",
     "shell.execute_reply": "2024-07-14T08:31:47.808269Z"
    },
    "papermill": {
     "duration": 0.026358,
     "end_time": "2024-07-14T08:31:47.812255",
     "exception": false,
     "start_time": "2024-07-14T08:31:47.785897",
     "status": "completed"
    },
    "tags": []
   },
   "outputs": [],
   "source": [
    "# Save test predictions to file\n",
    "output = pd.DataFrame({'Id': X_test.index,\n",
    "                       'SalePrice': preds_test})\n",
    "output.to_csv('submission.csv', index=False)"
   ]
  },
  {
   "cell_type": "markdown",
   "id": "0171ad0b",
   "metadata": {
    "papermill": {
     "duration": 0.008607,
     "end_time": "2024-07-14T08:31:47.829537",
     "exception": false,
     "start_time": "2024-07-14T08:31:47.820930",
     "status": "completed"
    },
    "tags": []
   },
   "source": [
    "# Submit your results\n",
    "\n",
    "Once you have successfully completed Step 2, you're ready to submit your results to the leaderboard!  If you choose to do so, make sure that you have already joined the competition by clicking on the **Join Competition** button at [this link](https://www.kaggle.com/c/home-data-for-ml-course).  \n",
    "1. Begin by clicking on the **Save Version** button in the top right corner of the window.  This will generate a pop-up window.  \n",
    "2. Ensure that the **Save and Run All** option is selected, and then click on the **Save** button.\n",
    "3. This generates a window in the bottom left corner of the notebook.  After it has finished running, click on the number to the right of the **Save Version** button.  This pulls up a list of versions on the right of the screen.  Click on the ellipsis **(...)** to the right of the most recent version, and select **Open in Viewer**.  This brings you into view mode of the same page. You will need to scroll down to get back to these instructions.\n",
    "4. Click on the **Data** tab near the top of the screen.  Then, click on the file you would like to submit, and click on the **Submit** button to submit your results to the leaderboard.\n",
    "\n",
    "You have now successfully submitted to the competition!\n",
    "\n",
    "If you want to keep working to improve your performance, select the **Edit** button in the top right of the screen. Then you can change your code and repeat the process. There's a lot of room to improve, and you will climb up the leaderboard as you work.\n",
    "\n",
    "\n",
    "# Keep going\n",
    "\n",
    "Move on to learn about [**cross-validation**](https://www.kaggle.com/alexisbcook/cross-validation), a technique you can use to obtain more accurate estimates of model performance!"
   ]
  },
  {
   "cell_type": "markdown",
   "id": "bb7f8562",
   "metadata": {
    "papermill": {
     "duration": 0.008615,
     "end_time": "2024-07-14T08:31:47.847571",
     "exception": false,
     "start_time": "2024-07-14T08:31:47.838956",
     "status": "completed"
    },
    "tags": []
   },
   "source": [
    "---\n",
    "\n",
    "\n",
    "\n",
    "\n",
    "*Have questions or comments? Visit the [course discussion forum](https://www.kaggle.com/learn/intermediate-machine-learning/discussion) to chat with other learners.*"
   ]
  }
 ],
 "metadata": {
  "kaggle": {
   "accelerator": "none",
   "dataSources": [
    {
     "databundleVersionId": 111096,
     "sourceId": 10211,
     "sourceType": "competition"
    }
   ],
   "isGpuEnabled": false,
   "isInternetEnabled": false,
   "language": "python",
   "sourceType": "notebook"
  },
  "kernelspec": {
   "display_name": "Python 3",
   "language": "python",
   "name": "python3"
  },
  "language_info": {
   "codemirror_mode": {
    "name": "ipython",
    "version": 3
   },
   "file_extension": ".py",
   "mimetype": "text/x-python",
   "name": "python",
   "nbconvert_exporter": "python",
   "pygments_lexer": "ipython3",
   "version": "3.10.13"
  },
  "papermill": {
   "default_parameters": {},
   "duration": 15.113782,
   "end_time": "2024-07-14T08:31:48.478276",
   "environment_variables": {},
   "exception": null,
   "input_path": "__notebook__.ipynb",
   "output_path": "__notebook__.ipynb",
   "parameters": {},
   "start_time": "2024-07-14T08:31:33.364494",
   "version": "2.5.0"
  }
 },
 "nbformat": 4,
 "nbformat_minor": 5
}
