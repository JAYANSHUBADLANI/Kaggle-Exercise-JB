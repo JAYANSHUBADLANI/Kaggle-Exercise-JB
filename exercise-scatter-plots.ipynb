{
 "cells": [
  {
   "cell_type": "markdown",
   "id": "dfe3a9b3",
   "metadata": {
    "papermill": {
     "duration": 0.012064,
     "end_time": "2024-07-13T18:16:49.223192",
     "exception": false,
     "start_time": "2024-07-13T18:16:49.211128",
     "status": "completed"
    },
    "tags": []
   },
   "source": [
    "**This notebook is an exercise in the [Data Visualization](https://www.kaggle.com/learn/data-visualization) course.  You can reference the tutorial at [this link](https://www.kaggle.com/alexisbcook/scatter-plots).**\n",
    "\n",
    "---\n"
   ]
  },
  {
   "cell_type": "markdown",
   "id": "1fd27acb",
   "metadata": {
    "papermill": {
     "duration": 0.011893,
     "end_time": "2024-07-13T18:16:49.248384",
     "exception": false,
     "start_time": "2024-07-13T18:16:49.236491",
     "status": "completed"
    },
    "tags": []
   },
   "source": [
    "In this exercise, you will use your new knowledge to propose a solution to a real-world scenario.  To succeed, you will need to import data into Python, answer questions using the data, and generate **scatter plots** to understand patterns in the data.\n",
    "\n",
    "## Scenario\n",
    "\n",
    "You work for a major candy producer, and your goal is to write a report that your company can use to guide the design of its next product.  Soon after starting your research, you stumble across this [very interesting dataset](https://fivethirtyeight.com/features/the-ultimate-halloween-candy-power-ranking/) containing results from a fun survey to crowdsource favorite candies.\n",
    "\n",
    "## Setup\n",
    "\n",
    "Run the next cell to import and configure the Python libraries that you need to complete the exercise."
   ]
  },
  {
   "cell_type": "code",
   "execution_count": 1,
   "id": "da45eb17",
   "metadata": {
    "execution": {
     "iopub.execute_input": "2024-07-13T18:16:49.281749Z",
     "iopub.status.busy": "2024-07-13T18:16:49.281305Z",
     "iopub.status.idle": "2024-07-13T18:16:52.006628Z",
     "shell.execute_reply": "2024-07-13T18:16:52.004946Z"
    },
    "papermill": {
     "duration": 2.741019,
     "end_time": "2024-07-13T18:16:52.009407",
     "exception": false,
     "start_time": "2024-07-13T18:16:49.268388",
     "status": "completed"
    },
    "tags": []
   },
   "outputs": [
    {
     "name": "stdout",
     "output_type": "stream",
     "text": [
      "Setup Complete\n"
     ]
    }
   ],
   "source": [
    "import pandas as pd\n",
    "pd.plotting.register_matplotlib_converters()\n",
    "import matplotlib.pyplot as plt\n",
    "%matplotlib inline\n",
    "import seaborn as sns\n",
    "print(\"Setup Complete\")"
   ]
  },
  {
   "cell_type": "markdown",
   "id": "d64d1533",
   "metadata": {
    "papermill": {
     "duration": 0.01162,
     "end_time": "2024-07-13T18:16:52.033072",
     "exception": false,
     "start_time": "2024-07-13T18:16:52.021452",
     "status": "completed"
    },
    "tags": []
   },
   "source": [
    "The questions below will give you feedback on your work. Run the following cell to set up our feedback system."
   ]
  },
  {
   "cell_type": "code",
   "execution_count": 2,
   "id": "ea96dbe8",
   "metadata": {
    "execution": {
     "iopub.execute_input": "2024-07-13T18:16:52.058776Z",
     "iopub.status.busy": "2024-07-13T18:16:52.058182Z",
     "iopub.status.idle": "2024-07-13T18:16:52.148568Z",
     "shell.execute_reply": "2024-07-13T18:16:52.147167Z"
    },
    "papermill": {
     "duration": 0.106656,
     "end_time": "2024-07-13T18:16:52.151516",
     "exception": false,
     "start_time": "2024-07-13T18:16:52.044860",
     "status": "completed"
    },
    "tags": []
   },
   "outputs": [
    {
     "name": "stdout",
     "output_type": "stream",
     "text": [
      "Setup Complete\n"
     ]
    }
   ],
   "source": [
    "# Set up code checking\n",
    "import os\n",
    "if not os.path.exists(\"../input/candy.csv\"):\n",
    "    os.symlink(\"../input/data-for-datavis/candy.csv\", \"../input/candy.csv\") \n",
    "from learntools.core import binder\n",
    "binder.bind(globals())\n",
    "from learntools.data_viz_to_coder.ex4 import *\n",
    "print(\"Setup Complete\")"
   ]
  },
  {
   "cell_type": "markdown",
   "id": "3c852725",
   "metadata": {
    "papermill": {
     "duration": 0.011753,
     "end_time": "2024-07-13T18:16:52.175544",
     "exception": false,
     "start_time": "2024-07-13T18:16:52.163791",
     "status": "completed"
    },
    "tags": []
   },
   "source": [
    "## Step 1: Load the Data\n",
    "\n",
    "Read the candy data file into `candy_data`.  Use the `\"id\"` column to label the rows."
   ]
  },
  {
   "cell_type": "code",
   "execution_count": 3,
   "id": "5b44906c",
   "metadata": {
    "execution": {
     "iopub.execute_input": "2024-07-13T18:16:52.202668Z",
     "iopub.status.busy": "2024-07-13T18:16:52.201635Z",
     "iopub.status.idle": "2024-07-13T18:16:52.218898Z",
     "shell.execute_reply": "2024-07-13T18:16:52.217567Z"
    },
    "papermill": {
     "duration": 0.033822,
     "end_time": "2024-07-13T18:16:52.221826",
     "exception": false,
     "start_time": "2024-07-13T18:16:52.188004",
     "status": "completed"
    },
    "tags": []
   },
   "outputs": [
    {
     "data": {
      "application/javascript": [
       "parent.postMessage({\"jupyterEvent\": \"custom.exercise_interaction\", \"data\": {\"outcomeType\": 1, \"valueTowardsCompletion\": 0.3333333333333333, \"interactionType\": 1, \"questionType\": 1, \"questionId\": \"1_LoadData\", \"learnToolsVersion\": \"0.3.4\", \"failureMessage\": \"\", \"exceptionClass\": \"\", \"trace\": \"\"}}, \"*\")"
      ],
      "text/plain": [
       "<IPython.core.display.Javascript object>"
      ]
     },
     "metadata": {},
     "output_type": "display_data"
    },
    {
     "data": {
      "text/markdown": [
       "<span style=\"color:#33cc33\">Correct</span>"
      ],
      "text/plain": [
       "Correct"
      ]
     },
     "metadata": {},
     "output_type": "display_data"
    }
   ],
   "source": [
    "# Path of the file to read\n",
    "candy_filepath = \"../input/candy.csv\"\n",
    "\n",
    "# Fill in the line below to read the file into a variable candy_data\n",
    "candy_data = pd.read_csv(candy_filepath, index_col=\"id\")\n",
    "\n",
    "# Run the line below with no changes to check that you've loaded the data correctly\n",
    "step_1.check()"
   ]
  },
  {
   "cell_type": "code",
   "execution_count": 4,
   "id": "cba5a815",
   "metadata": {
    "execution": {
     "iopub.execute_input": "2024-07-13T18:16:52.249584Z",
     "iopub.status.busy": "2024-07-13T18:16:52.249079Z",
     "iopub.status.idle": "2024-07-13T18:16:52.254849Z",
     "shell.execute_reply": "2024-07-13T18:16:52.253084Z"
    },
    "papermill": {
     "duration": 0.022543,
     "end_time": "2024-07-13T18:16:52.257698",
     "exception": false,
     "start_time": "2024-07-13T18:16:52.235155",
     "status": "completed"
    },
    "tags": []
   },
   "outputs": [],
   "source": [
    "# Lines below will give you a hint or solution code\n",
    "#step_1.hint()\n",
    "#step_1.solution()"
   ]
  },
  {
   "cell_type": "markdown",
   "id": "e3a0da1a",
   "metadata": {
    "papermill": {
     "duration": 0.011933,
     "end_time": "2024-07-13T18:16:52.281970",
     "exception": false,
     "start_time": "2024-07-13T18:16:52.270037",
     "status": "completed"
    },
    "tags": []
   },
   "source": [
    "## Step 2: Review the data\n",
    "\n",
    "Use a Python command to print the first five rows of the data."
   ]
  },
  {
   "cell_type": "code",
   "execution_count": 5,
   "id": "b19c1502",
   "metadata": {
    "execution": {
     "iopub.execute_input": "2024-07-13T18:16:52.308427Z",
     "iopub.status.busy": "2024-07-13T18:16:52.307998Z",
     "iopub.status.idle": "2024-07-13T18:16:52.329726Z",
     "shell.execute_reply": "2024-07-13T18:16:52.327987Z"
    },
    "papermill": {
     "duration": 0.038205,
     "end_time": "2024-07-13T18:16:52.332382",
     "exception": false,
     "start_time": "2024-07-13T18:16:52.294177",
     "status": "completed"
    },
    "tags": []
   },
   "outputs": [
    {
     "name": "stdout",
     "output_type": "stream",
     "text": [
      "   id competitorname chocolate fruity caramel peanutyalmondy nougat  \\\n",
      "0   0      100 Grand       Yes     No     Yes             No     No   \n",
      "1   1   3 Musketeers       Yes     No      No             No    Yes   \n",
      "2   2      Air Heads        No    Yes      No             No     No   \n",
      "3   3     Almond Joy       Yes     No      No            Yes     No   \n",
      "4   4      Baby Ruth       Yes     No     Yes            Yes    Yes   \n",
      "\n",
      "  crispedricewafer hard  bar pluribus  sugarpercent  pricepercent  winpercent  \n",
      "0              Yes   No  Yes       No         0.732         0.860   66.971725  \n",
      "1               No   No  Yes       No         0.604         0.511   67.602936  \n",
      "2               No   No   No       No         0.906         0.511   52.341465  \n",
      "3               No   No  Yes       No         0.465         0.767   50.347546  \n",
      "4               No   No  Yes       No         0.604         0.767   56.914547  \n"
     ]
    }
   ],
   "source": [
    "import pandas as pd\n",
    "\n",
    "# Path of the file to read\n",
    "candy_filepath = \"../input/candy.csv\"\n",
    "\n",
    "# Read the file into a variable candy_data\n",
    "candy_data = pd.read_csv(candy_filepath)\n",
    "\n",
    "# Print the first five rows of the data\n",
    "print(candy_data.head())\n"
   ]
  },
  {
   "cell_type": "markdown",
   "id": "81913f83",
   "metadata": {
    "papermill": {
     "duration": 0.013064,
     "end_time": "2024-07-13T18:16:52.358389",
     "exception": false,
     "start_time": "2024-07-13T18:16:52.345325",
     "status": "completed"
    },
    "tags": []
   },
   "source": [
    "The dataset contains 83 rows, where each corresponds to a different candy bar.  There are 13 columns:\n",
    "- `'competitorname'` contains the name of the candy bar. \n",
    "- the next **9** columns (from `'chocolate'` to `'pluribus'`) describe the candy.  For instance, rows with chocolate candies have `\"Yes\"` in the `'chocolate'` column (and candies without chocolate have `\"No\"` in the same column).\n",
    "- `'sugarpercent'` provides some indication of the amount of sugar, where higher values signify higher sugar content.\n",
    "- `'pricepercent'` shows the price per unit, relative to the other candies in the dataset.\n",
    "- `'winpercent'` is calculated from the survey results; higher values indicate that the candy was more popular with survey respondents.\n",
    "\n",
    "Use the first five rows of the data to answer the questions below."
   ]
  },
  {
   "cell_type": "code",
   "execution_count": 6,
   "id": "fc119f53",
   "metadata": {
    "execution": {
     "iopub.execute_input": "2024-07-13T18:16:52.385801Z",
     "iopub.status.busy": "2024-07-13T18:16:52.385331Z",
     "iopub.status.idle": "2024-07-13T18:16:52.415555Z",
     "shell.execute_reply": "2024-07-13T18:16:52.414518Z"
    },
    "papermill": {
     "duration": 0.047628,
     "end_time": "2024-07-13T18:16:52.418999",
     "exception": false,
     "start_time": "2024-07-13T18:16:52.371371",
     "status": "completed"
    },
    "tags": []
   },
   "outputs": [
    {
     "name": "stdout",
     "output_type": "stream",
     "text": [
      "   competitorname chocolate fruity caramel peanutyalmondy nougat  \\\n",
      "id                                                                 \n",
      "0       100 Grand       Yes     No     Yes             No     No   \n",
      "1    3 Musketeers       Yes     No      No             No    Yes   \n",
      "2       Air Heads        No    Yes      No             No     No   \n",
      "3      Almond Joy       Yes     No      No            Yes     No   \n",
      "4       Baby Ruth       Yes     No     Yes            Yes    Yes   \n",
      "\n",
      "   crispedricewafer hard  bar pluribus  sugarpercent  pricepercent  winpercent  \n",
      "id                                                                              \n",
      "0               Yes   No  Yes       No         0.732         0.860   66.971725  \n",
      "1                No   No  Yes       No         0.604         0.511   67.602936  \n",
      "2                No   No   No       No         0.906         0.511   52.341465  \n",
      "3                No   No  Yes       No         0.465         0.767   50.347546  \n",
      "4                No   No  Yes       No         0.604         0.767   56.914547  \n"
     ]
    },
    {
     "data": {
      "application/javascript": [
       "parent.postMessage({\"jupyterEvent\": \"custom.exercise_interaction\", \"data\": {\"outcomeType\": 1, \"valueTowardsCompletion\": 0.3333333333333333, \"interactionType\": 1, \"questionType\": 1, \"questionId\": \"2_ReviewData\", \"learnToolsVersion\": \"0.3.4\", \"failureMessage\": \"\", \"exceptionClass\": \"\", \"trace\": \"\"}}, \"*\")"
      ],
      "text/plain": [
       "<IPython.core.display.Javascript object>"
      ]
     },
     "metadata": {},
     "output_type": "display_data"
    },
    {
     "data": {
      "text/markdown": [
       "<span style=\"color:#33cc33\">Correct</span>"
      ],
      "text/plain": [
       "Correct"
      ]
     },
     "metadata": {},
     "output_type": "display_data"
    },
    {
     "name": "stdout",
     "output_type": "stream",
     "text": [
      "More popular candy: 3 Musketeers\n",
      "Candy with higher sugar content: Air Heads\n"
     ]
    }
   ],
   "source": [
    "# Path of the file to read\n",
    "candy_filepath = \"../input/candy.csv\"\n",
    "\n",
    "# Read the file into a variable candy_data\n",
    "candy_data = pd.read_csv(candy_filepath, index_col=\"id\")\n",
    "\n",
    "# Print the first five rows of the data\n",
    "print(candy_data.head())\n",
    "\n",
    "# Determine which candy was more popular: '3 Musketeers' or 'Almond Joy'\n",
    "more_popular = '3 Musketeers' if candy_data[candy_data['competitorname'] == '3 Musketeers']['winpercent'].values[0] > candy_data[candy_data['competitorname'] == 'Almond Joy']['winpercent'].values[0] else 'Almond Joy'\n",
    "\n",
    "# Determine which candy has higher sugar content: 'Air Heads' or 'Baby Ruth'\n",
    "more_sugar = 'Air Heads' if candy_data[candy_data['competitorname'] == 'Air Heads']['sugarpercent'].values[0] > candy_data[candy_data['competitorname'] == 'Baby Ruth']['sugarpercent'].values[0] else 'Baby Ruth'\n",
    "\n",
    "# Check your answers\n",
    "step_2.check()\n",
    "\n",
    "print(f\"More popular candy: {more_popular}\")\n",
    "print(f\"Candy with higher sugar content: {more_sugar}\")\n"
   ]
  },
  {
   "cell_type": "code",
   "execution_count": 7,
   "id": "8015bdc3",
   "metadata": {
    "execution": {
     "iopub.execute_input": "2024-07-13T18:16:52.447220Z",
     "iopub.status.busy": "2024-07-13T18:16:52.446731Z",
     "iopub.status.idle": "2024-07-13T18:16:52.452081Z",
     "shell.execute_reply": "2024-07-13T18:16:52.450733Z"
    },
    "papermill": {
     "duration": 0.022637,
     "end_time": "2024-07-13T18:16:52.454657",
     "exception": false,
     "start_time": "2024-07-13T18:16:52.432020",
     "status": "completed"
    },
    "tags": []
   },
   "outputs": [],
   "source": [
    "# Lines below will give you a hint or solution code\n",
    "#step_2.hint()\n",
    "#step_2.solution()"
   ]
  },
  {
   "cell_type": "markdown",
   "id": "2348fddb",
   "metadata": {
    "papermill": {
     "duration": 0.01251,
     "end_time": "2024-07-13T18:16:52.480841",
     "exception": false,
     "start_time": "2024-07-13T18:16:52.468331",
     "status": "completed"
    },
    "tags": []
   },
   "source": [
    "## Step 3: The role of sugar\n",
    "\n",
    "Do people tend to prefer candies with higher sugar content?  \n",
    "\n",
    "#### Part A\n",
    "\n",
    "Create a scatter plot that shows the relationship between `'sugarpercent'` (on the horizontal x-axis) and `'winpercent'` (on the vertical y-axis).  _Don't add a regression line just yet -- you'll do that in the next step!_"
   ]
  },
  {
   "cell_type": "code",
   "execution_count": 8,
   "id": "52d38554",
   "metadata": {
    "execution": {
     "iopub.execute_input": "2024-07-13T18:16:52.508529Z",
     "iopub.status.busy": "2024-07-13T18:16:52.508152Z",
     "iopub.status.idle": "2024-07-13T18:16:52.919946Z",
     "shell.execute_reply": "2024-07-13T18:16:52.918514Z"
    },
    "papermill": {
     "duration": 0.428934,
     "end_time": "2024-07-13T18:16:52.922828",
     "exception": false,
     "start_time": "2024-07-13T18:16:52.493894",
     "status": "completed"
    },
    "tags": []
   },
   "outputs": [
    {
     "data": {
      "application/javascript": [
       "parent.postMessage({\"jupyterEvent\": \"custom.exercise_interaction\", \"data\": {\"outcomeType\": 1, \"valueTowardsCompletion\": 0.3333333333333333, \"interactionType\": 1, \"questionType\": 2, \"questionId\": \"3.1_PlotBlueScatter\", \"learnToolsVersion\": \"0.3.4\", \"failureMessage\": \"\", \"exceptionClass\": \"\", \"trace\": \"\"}}, \"*\")"
      ],
      "text/plain": [
       "<IPython.core.display.Javascript object>"
      ]
     },
     "metadata": {},
     "output_type": "display_data"
    },
    {
     "data": {
      "text/markdown": [
       "<span style=\"color:#33cc33\">Correct</span>"
      ],
      "text/plain": [
       "Correct"
      ]
     },
     "metadata": {},
     "output_type": "display_data"
    },
    {
     "data": {
      "image/png": "[encoded data removed]",
      "text/plain": [
       "<Figure size 640x480 with 1 Axes>"
      ]
     },
     "metadata": {},
     "output_type": "display_data"
    }
   ],
   "source": [
    "# Scatter plot showing the relationship between 'sugarpercent' and 'winpercent'\n",
    "sns.scatterplot(x=candy_data['sugarpercent'], y=candy_data['winpercent'])\n",
    "\n",
    "\n",
    "# Check your answer\n",
    "step_3.a.check()"
   ]
  },
  {
   "cell_type": "code",
   "execution_count": 9,
   "id": "e2afd70e",
   "metadata": {
    "execution": {
     "iopub.execute_input": "2024-07-13T18:16:52.952356Z",
     "iopub.status.busy": "2024-07-13T18:16:52.951953Z",
     "iopub.status.idle": "2024-07-13T18:16:53.271830Z",
     "shell.execute_reply": "2024-07-13T18:16:53.270268Z"
    },
    "papermill": {
     "duration": 0.33808,
     "end_time": "2024-07-13T18:16:53.274878",
     "exception": false,
     "start_time": "2024-07-13T18:16:52.936798",
     "status": "completed"
    },
    "tags": []
   },
   "outputs": [
    {
     "data": {
      "application/javascript": [
       "parent.postMessage({\"jupyterEvent\": \"custom.exercise_interaction\", \"data\": {\"interactionType\": 3, \"questionType\": 2, \"questionId\": \"3.1_PlotBlueScatter\", \"learnToolsVersion\": \"0.3.4\", \"valueTowardsCompletion\": 0.0, \"failureMessage\": \"\", \"exceptionClass\": \"\", \"trace\": \"\", \"outcomeType\": 4}}, \"*\")"
      ],
      "text/plain": [
       "<IPython.core.display.Javascript object>"
      ]
     },
     "metadata": {},
     "output_type": "display_data"
    },
    {
     "data": {
      "text/markdown": [
       "<span style=\"color:#33cc99\">Solution:</span> \n",
       "```python\n",
       "# Scatter plot showing the relationship between 'sugarpercent' and 'winpercent'\n",
       "sns.scatterplot(x=candy_data['sugarpercent'], y=candy_data['winpercent'])\n",
       "\n",
       "```"
      ],
      "text/plain": [
       "Solution: \n",
       "```python\n",
       "# Scatter plot showing the relationship between 'sugarpercent' and 'winpercent'\n",
       "sns.scatterplot(x=candy_data['sugarpercent'], y=candy_data['winpercent'])\n",
       "\n",
       "```"
      ]
     },
     "metadata": {},
     "output_type": "display_data"
    },
    {
     "data": {
      "image/png": "[encoded data removed]",
      "text/plain": [
       "<Figure size 640x480 with 1 Axes>"
      ]
     },
     "metadata": {},
     "output_type": "display_data"
    }
   ],
   "source": [
    "# Lines below will give you a hint or solution code\n",
    "#step_3.a.hint()\n",
    "step_3.a.solution_plot()"
   ]
  },
  {
   "cell_type": "markdown",
   "id": "3db5bb43",
   "metadata": {
    "papermill": {
     "duration": 0.014511,
     "end_time": "2024-07-13T18:16:53.304144",
     "exception": false,
     "start_time": "2024-07-13T18:16:53.289633",
     "status": "completed"
    },
    "tags": []
   },
   "source": [
    "#### Part B\n",
    "\n",
    "Does the scatter plot show a **strong** correlation between the two variables?  If so, are candies with more sugar relatively more or less popular with the survey respondents?"
   ]
  },
  {
   "cell_type": "code",
   "execution_count": 10,
   "id": "c1f6fe9f",
   "metadata": {
    "execution": {
     "iopub.execute_input": "2024-07-13T18:16:53.336655Z",
     "iopub.status.busy": "2024-07-13T18:16:53.336193Z",
     "iopub.status.idle": "2024-07-13T18:16:54.004501Z",
     "shell.execute_reply": "2024-07-13T18:16:54.002528Z"
    },
    "papermill": {
     "duration": 0.689369,
     "end_time": "2024-07-13T18:16:54.008429",
     "exception": false,
     "start_time": "2024-07-13T18:16:53.319060",
     "status": "completed"
    },
    "tags": []
   },
   "outputs": [
    {
     "data": {
      "application/javascript": [
       "parent.postMessage({\"jupyterEvent\": \"custom.exercise_interaction\", \"data\": {\"outcomeType\": 1, \"valueTowardsCompletion\": 0.3333333333333333, \"interactionType\": 1, \"questionType\": 2, \"questionId\": \"4.1_PlotBlueReg\", \"learnToolsVersion\": \"0.3.4\", \"failureMessage\": \"\", \"exceptionClass\": \"\", \"trace\": \"\"}}, \"*\")"
      ],
      "text/plain": [
       "<IPython.core.display.Javascript object>"
      ]
     },
     "metadata": {},
     "output_type": "display_data"
    },
    {
     "data": {
      "text/markdown": [
       "<span style=\"color:#33cc33\">Correct</span>"
      ],
      "text/plain": [
       "Correct"
      ]
     },
     "metadata": {},
     "output_type": "display_data"
    },
    {
     "data": {
      "image/png": "[encoded data removed]",
      "text/plain": [
       "<Figure size 500x500 with 1 Axes>"
      ]
     },
     "metadata": {},
     "output_type": "display_data"
    }
   ],
   "source": [
    "import seaborn as sns\n",
    "import matplotlib.pyplot as plt\n",
    "\n",
    "# Scatter plot with regression line showing the relationship between 'sugarpercent' and 'winpercent'\n",
    "sns.lmplot(x='sugarpercent', y='winpercent', data=candy_data)\n",
    "\n",
    "\n",
    "# Check your answer\n",
    "step_4.a.check()"
   ]
  },
  {
   "cell_type": "code",
   "execution_count": 11,
   "id": "12dc6046",
   "metadata": {
    "execution": {
     "iopub.execute_input": "2024-07-13T18:16:54.051571Z",
     "iopub.status.busy": "2024-07-13T18:16:54.051179Z",
     "iopub.status.idle": "2024-07-13T18:16:54.062504Z",
     "shell.execute_reply": "2024-07-13T18:16:54.061210Z"
    },
    "papermill": {
     "duration": 0.031888,
     "end_time": "2024-07-13T18:16:54.064962",
     "exception": false,
     "start_time": "2024-07-13T18:16:54.033074",
     "status": "completed"
    },
    "tags": []
   },
   "outputs": [
    {
     "data": {
      "application/javascript": [
       "parent.postMessage({\"jupyterEvent\": \"custom.exercise_interaction\", \"data\": {\"interactionType\": 3, \"questionType\": 4, \"questionId\": \"3.2_ThinkBlueScatter\", \"learnToolsVersion\": \"0.3.4\", \"valueTowardsCompletion\": 0.0, \"failureMessage\": \"\", \"exceptionClass\": \"\", \"trace\": \"\", \"outcomeType\": 4}}, \"*\")"
      ],
      "text/plain": [
       "<IPython.core.display.Javascript object>"
      ]
     },
     "metadata": {},
     "output_type": "display_data"
    },
    {
     "data": {
      "text/markdown": [
       "<span style=\"color:#33cc99\">Solution:</span> The scatter plot does not show a strong correlation between the two variables. Since there is no clear relationship between the two variables, this tells us that sugar content does not play a strong role in candy popularity."
      ],
      "text/plain": [
       "Solution: The scatter plot does not show a strong correlation between the two variables. Since there is no clear relationship between the two variables, this tells us that sugar content does not play a strong role in candy popularity."
      ]
     },
     "metadata": {},
     "output_type": "display_data"
    }
   ],
   "source": [
    "# Check your answer (Run this code cell to receive credit!)\n",
    "step_3.b.solution()"
   ]
  },
  {
   "cell_type": "markdown",
   "id": "8d06071a",
   "metadata": {
    "papermill": {
     "duration": 0.015954,
     "end_time": "2024-07-13T18:16:54.096861",
     "exception": false,
     "start_time": "2024-07-13T18:16:54.080907",
     "status": "completed"
    },
    "tags": []
   },
   "source": [
    "## Step 4: Take a closer look\n",
    "\n",
    "#### Part A\n",
    "\n",
    "Create the same scatter plot you created in **Step 3**, but now with a regression line!"
   ]
  },
  {
   "cell_type": "code",
   "execution_count": 12,
   "id": "7e10f48d",
   "metadata": {
    "execution": {
     "iopub.execute_input": "2024-07-13T18:16:54.136947Z",
     "iopub.status.busy": "2024-07-13T18:16:54.136081Z",
     "iopub.status.idle": "2024-07-13T18:16:54.739962Z",
     "shell.execute_reply": "2024-07-13T18:16:54.738408Z"
    },
    "papermill": {
     "duration": 0.630006,
     "end_time": "2024-07-13T18:16:54.743003",
     "exception": false,
     "start_time": "2024-07-13T18:16:54.112997",
     "status": "completed"
    },
    "tags": []
   },
   "outputs": [
    {
     "data": {
      "application/javascript": [
       "parent.postMessage({\"jupyterEvent\": \"custom.exercise_interaction\", \"data\": {\"outcomeType\": 1, \"valueTowardsCompletion\": 0.3333333333333333, \"interactionType\": 1, \"questionType\": 2, \"questionId\": \"4.1_PlotBlueReg\", \"learnToolsVersion\": \"0.3.4\", \"failureMessage\": \"\", \"exceptionClass\": \"\", \"trace\": \"\"}}, \"*\")"
      ],
      "text/plain": [
       "<IPython.core.display.Javascript object>"
      ]
     },
     "metadata": {},
     "output_type": "display_data"
    },
    {
     "data": {
      "text/markdown": [
       "<span style=\"color:#33cc33\">Correct</span>"
      ],
      "text/plain": [
       "Correct"
      ]
     },
     "metadata": {},
     "output_type": "display_data"
    },
    {
     "data": {
      "image/png": "[encoded data removed]",
      "text/plain": [
       "<Figure size 500x500 with 1 Axes>"
      ]
     },
     "metadata": {},
     "output_type": "display_data"
    }
   ],
   "source": [
    "import seaborn as sns\n",
    "import matplotlib.pyplot as plt\n",
    "\n",
    "# Scatter plot with regression line showing the relationship between 'sugarpercent' and 'winpercent'\n",
    "sns.lmplot(x='sugarpercent', y='winpercent', data=candy_data)\n",
    "\n",
    "\n",
    "# Check your answer\n",
    "step_4.a.check()\n"
   ]
  },
  {
   "cell_type": "code",
   "execution_count": 13,
   "id": "205ece83",
   "metadata": {
    "execution": {
     "iopub.execute_input": "2024-07-13T18:16:54.780875Z",
     "iopub.status.busy": "2024-07-13T18:16:54.780435Z",
     "iopub.status.idle": "2024-07-13T18:16:54.785792Z",
     "shell.execute_reply": "2024-07-13T18:16:54.784477Z"
    },
    "papermill": {
     "duration": 0.028793,
     "end_time": "2024-07-13T18:16:54.789089",
     "exception": false,
     "start_time": "2024-07-13T18:16:54.760296",
     "status": "completed"
    },
    "tags": []
   },
   "outputs": [],
   "source": [
    "# Lines below will give you a hint or solution code\n",
    "#step_4.a.hint()\n",
    "#step_4.a.solution_plot()"
   ]
  },
  {
   "cell_type": "markdown",
   "id": "297a61fc",
   "metadata": {
    "papermill": {
     "duration": 0.01662,
     "end_time": "2024-07-13T18:16:54.824871",
     "exception": false,
     "start_time": "2024-07-13T18:16:54.808251",
     "status": "completed"
    },
    "tags": []
   },
   "source": [
    "#### Part B\n",
    "\n",
    "According to the plot above, is there a **slight** correlation between `'winpercent'` and `'sugarpercent'`?  What does this tell you about the candy that people tend to prefer?"
   ]
  },
  {
   "cell_type": "code",
   "execution_count": 14,
   "id": "9caf0059",
   "metadata": {
    "execution": {
     "iopub.execute_input": "2024-07-13T18:16:54.860747Z",
     "iopub.status.busy": "2024-07-13T18:16:54.860346Z",
     "iopub.status.idle": "2024-07-13T18:16:55.469108Z",
     "shell.execute_reply": "2024-07-13T18:16:55.467706Z"
    },
    "papermill": {
     "duration": 0.629919,
     "end_time": "2024-07-13T18:16:55.472044",
     "exception": false,
     "start_time": "2024-07-13T18:16:54.842125",
     "status": "completed"
    },
    "tags": []
   },
   "outputs": [
    {
     "data": {
      "image/png": "[encoded data removed]",
      "text/plain": [
       "<Figure size 500x500 with 1 Axes>"
      ]
     },
     "metadata": {},
     "output_type": "display_data"
    }
   ],
   "source": [
    "# Scatter plot with regression line showing the relationship between 'sugarpercent' and 'winpercent'\n",
    "sns.lmplot(x='sugarpercent', y='winpercent', data=candy_data)\n",
    "\n",
    "# Add labels and a title\n",
    "plt.xlabel('Sugar Percent')\n",
    "plt.ylabel('Win Percent')\n",
    "plt.title('Relationship between Sugar Percent and Win Percent with Regression Line')\n",
    "\n",
    "# Display the plot\n",
    "plt.show()"
   ]
  },
  {
   "cell_type": "code",
   "execution_count": 15,
   "id": "4d09ac34",
   "metadata": {
    "execution": {
     "iopub.execute_input": "2024-07-13T18:16:55.510235Z",
     "iopub.status.busy": "2024-07-13T18:16:55.509457Z",
     "iopub.status.idle": "2024-07-13T18:16:55.519630Z",
     "shell.execute_reply": "2024-07-13T18:16:55.518333Z"
    },
    "papermill": {
     "duration": 0.031947,
     "end_time": "2024-07-13T18:16:55.522184",
     "exception": false,
     "start_time": "2024-07-13T18:16:55.490237",
     "status": "completed"
    },
    "tags": []
   },
   "outputs": [
    {
     "data": {
      "application/javascript": [
       "parent.postMessage({\"jupyterEvent\": \"custom.exercise_interaction\", \"data\": {\"interactionType\": 3, \"questionType\": 4, \"questionId\": \"4.2_ThinkBlueReg\", \"learnToolsVersion\": \"0.3.4\", \"valueTowardsCompletion\": 0.0, \"failureMessage\": \"\", \"exceptionClass\": \"\", \"trace\": \"\", \"outcomeType\": 4}}, \"*\")"
      ],
      "text/plain": [
       "<IPython.core.display.Javascript object>"
      ]
     },
     "metadata": {},
     "output_type": "display_data"
    },
    {
     "data": {
      "text/markdown": [
       "<span style=\"color:#33cc99\">Solution:</span> Since the regression line has a slightly positive slope, this tells us that there is a slightly positive correlation between `'winpercent'` and `'sugarpercent'`. Thus, people have a slight preference for candies containing relatively more sugar."
      ],
      "text/plain": [
       "Solution: Since the regression line has a slightly positive slope, this tells us that there is a slightly positive correlation between `'winpercent'` and `'sugarpercent'`. Thus, people have a slight preference for candies containing relatively more sugar."
      ]
     },
     "metadata": {},
     "output_type": "display_data"
    }
   ],
   "source": [
    "# Check your answer (Run this code cell to receive credit!)\n",
    "step_4.b.solution()"
   ]
  },
  {
   "cell_type": "markdown",
   "id": "38fbeb62",
   "metadata": {
    "papermill": {
     "duration": 0.019281,
     "end_time": "2024-07-13T18:16:55.560149",
     "exception": false,
     "start_time": "2024-07-13T18:16:55.540868",
     "status": "completed"
    },
    "tags": []
   },
   "source": [
    "## Step 5: Chocolate!\n",
    "\n",
    "In the code cell below, create a scatter plot to show the relationship between `'pricepercent'` (on the horizontal x-axis) and `'winpercent'` (on the vertical y-axis). Use the `'chocolate'` column to color-code the points.  _Don't add any regression lines just yet -- you'll do that in the next step!_"
   ]
  },
  {
   "cell_type": "code",
   "execution_count": 16,
   "id": "e0b0df7c",
   "metadata": {
    "execution": {
     "iopub.execute_input": "2024-07-13T18:16:55.598587Z",
     "iopub.status.busy": "2024-07-13T18:16:55.598205Z",
     "iopub.status.idle": "2024-07-13T18:16:56.240858Z",
     "shell.execute_reply": "2024-07-13T18:16:56.239398Z"
    },
    "papermill": {
     "duration": 0.665777,
     "end_time": "2024-07-13T18:16:56.243942",
     "exception": false,
     "start_time": "2024-07-13T18:16:55.578165",
     "status": "completed"
    },
    "tags": []
   },
   "outputs": [
    {
     "data": {
      "application/javascript": [
       "parent.postMessage({\"jupyterEvent\": \"custom.exercise_interaction\", \"data\": {\"outcomeType\": 1, \"valueTowardsCompletion\": 0.3333333333333333, \"interactionType\": 1, \"questionType\": 2, \"questionId\": \"5_ColorScatter\", \"learnToolsVersion\": \"0.3.4\", \"failureMessage\": \"\", \"exceptionClass\": \"\", \"trace\": \"\"}}, \"*\")"
      ],
      "text/plain": [
       "<IPython.core.display.Javascript object>"
      ]
     },
     "metadata": {},
     "output_type": "display_data"
    },
    {
     "data": {
      "text/markdown": [
       "<span style=\"color:#33cc33\">Correct</span>"
      ],
      "text/plain": [
       "Correct"
      ]
     },
     "metadata": {},
     "output_type": "display_data"
    },
    {
     "data": {
      "image/png": "[encoded data removed]",
      "text/plain": [
       "<Figure size 500x500 with 1 Axes>"
      ]
     },
     "metadata": {},
     "output_type": "display_data"
    }
   ],
   "source": [
    "import seaborn as sns\n",
    "import matplotlib.pyplot as plt\n",
    "\n",
    "# Scatter plot with regression line showing the relationship between 'sugarpercent' and 'winpercent'\n",
    "sns.lmplot(x='sugarpercent', y='winpercent', data=candy_data)\n",
    "\n",
    "\n",
    "# Check your answer\n",
    "step_5.check()"
   ]
  },
  {
   "cell_type": "code",
   "execution_count": 17,
   "id": "21e2d7da",
   "metadata": {
    "execution": {
     "iopub.execute_input": "2024-07-13T18:16:56.286469Z",
     "iopub.status.busy": "2024-07-13T18:16:56.286043Z",
     "iopub.status.idle": "2024-07-13T18:16:56.291420Z",
     "shell.execute_reply": "2024-07-13T18:16:56.290137Z"
    },
    "papermill": {
     "duration": 0.029311,
     "end_time": "2024-07-13T18:16:56.294116",
     "exception": false,
     "start_time": "2024-07-13T18:16:56.264805",
     "status": "completed"
    },
    "tags": []
   },
   "outputs": [],
   "source": [
    "# Lines below will give you a hint or solution code\n",
    "#step_5.hint()\n",
    "#step_5.solution_plot()"
   ]
  },
  {
   "cell_type": "markdown",
   "id": "6dcda93b",
   "metadata": {
    "papermill": {
     "duration": 0.019661,
     "end_time": "2024-07-13T18:16:56.333644",
     "exception": false,
     "start_time": "2024-07-13T18:16:56.313983",
     "status": "completed"
    },
    "tags": []
   },
   "source": [
    "Can you see any interesting patterns in the scatter plot?  We'll investigate this plot further  by adding regression lines in the next step!\n",
    "\n",
    "## Step 6: Investigate chocolate\n",
    "\n",
    "#### Part A\n",
    "\n",
    "Create the same scatter plot you created in **Step 5**, but now with two regression lines, corresponding to (1) chocolate candies and (2) candies without chocolate."
   ]
  },
  {
   "cell_type": "code",
   "execution_count": 18,
   "id": "2213b695",
   "metadata": {
    "execution": {
     "iopub.execute_input": "2024-07-13T18:16:56.373427Z",
     "iopub.status.busy": "2024-07-13T18:16:56.373050Z",
     "iopub.status.idle": "2024-07-13T18:16:57.293641Z",
     "shell.execute_reply": "2024-07-13T18:16:57.292242Z"
    },
    "papermill": {
     "duration": 0.943925,
     "end_time": "2024-07-13T18:16:57.296516",
     "exception": false,
     "start_time": "2024-07-13T18:16:56.352591",
     "status": "completed"
    },
    "tags": []
   },
   "outputs": [
    {
     "data": {
      "application/javascript": [
       "parent.postMessage({\"jupyterEvent\": \"custom.exercise_interaction\", \"data\": {\"outcomeType\": 1, \"valueTowardsCompletion\": 0.3333333333333333, \"interactionType\": 1, \"questionType\": 2, \"questionId\": \"6.1_PlotColorReg\", \"learnToolsVersion\": \"0.3.4\", \"failureMessage\": \"\", \"exceptionClass\": \"\", \"trace\": \"\"}}, \"*\")"
      ],
      "text/plain": [
       "<IPython.core.display.Javascript object>"
      ]
     },
     "metadata": {},
     "output_type": "display_data"
    },
    {
     "data": {
      "text/markdown": [
       "<span style=\"color:#33cc33\">Correct</span>"
      ],
      "text/plain": [
       "Correct"
      ]
     },
     "metadata": {},
     "output_type": "display_data"
    },
    {
     "data": {
      "image/png": "[encoded data removed]",
      "text/plain": [
       "<Figure size 578.611x500 with 1 Axes>"
      ]
     },
     "metadata": {},
     "output_type": "display_data"
    }
   ],
   "source": [
    "import seaborn as sns\n",
    "import matplotlib.pyplot as plt\n",
    "\n",
    "# Scatter plot with color-coded regression lines for chocolate and non-chocolate candies\n",
    "sns.lmplot(x='sugarpercent', y='winpercent', hue='chocolate', data=candy_data)\n",
    "\n",
    "# Check your answer\n",
    "step_6.a.check()"
   ]
  },
  {
   "cell_type": "code",
   "execution_count": 19,
   "id": "44b293b8",
   "metadata": {
    "execution": {
     "iopub.execute_input": "2024-07-13T18:16:57.339310Z",
     "iopub.status.busy": "2024-07-13T18:16:57.338798Z",
     "iopub.status.idle": "2024-07-13T18:16:57.344005Z",
     "shell.execute_reply": "2024-07-13T18:16:57.342773Z"
    },
    "papermill": {
     "duration": 0.030306,
     "end_time": "2024-07-13T18:16:57.346730",
     "exception": false,
     "start_time": "2024-07-13T18:16:57.316424",
     "status": "completed"
    },
    "tags": []
   },
   "outputs": [],
   "source": [
    "# Lines below will give you a hint or solution code\n",
    "#step_6.a.hint()\n",
    "#step_6.a.solution_plot()"
   ]
  },
  {
   "cell_type": "markdown",
   "id": "ce60efe5",
   "metadata": {
    "papermill": {
     "duration": 0.085801,
     "end_time": "2024-07-13T18:16:57.454316",
     "exception": false,
     "start_time": "2024-07-13T18:16:57.368515",
     "status": "completed"
    },
    "tags": []
   },
   "source": [
    "#### Part B\n",
    "\n",
    "Using the regression lines, what conclusions can you draw about the effects of chocolate and price on candy popularity?"
   ]
  },
  {
   "cell_type": "code",
   "execution_count": 20,
   "id": "2da64a5d",
   "metadata": {
    "execution": {
     "iopub.execute_input": "2024-07-13T18:16:57.497028Z",
     "iopub.status.busy": "2024-07-13T18:16:57.496645Z",
     "iopub.status.idle": "2024-07-13T18:16:57.501825Z",
     "shell.execute_reply": "2024-07-13T18:16:57.500483Z"
    },
    "papermill": {
     "duration": 0.03036,
     "end_time": "2024-07-13T18:16:57.504828",
     "exception": false,
     "start_time": "2024-07-13T18:16:57.474468",
     "status": "completed"
    },
    "tags": []
   },
   "outputs": [],
   "source": [
    "#step_6.b.hint()"
   ]
  },
  {
   "cell_type": "code",
   "execution_count": 21,
   "id": "24a47cb0",
   "metadata": {
    "execution": {
     "iopub.execute_input": "2024-07-13T18:16:57.547228Z",
     "iopub.status.busy": "2024-07-13T18:16:57.546806Z",
     "iopub.status.idle": "2024-07-13T18:16:57.557778Z",
     "shell.execute_reply": "2024-07-13T18:16:57.556520Z"
    },
    "papermill": {
     "duration": 0.035716,
     "end_time": "2024-07-13T18:16:57.560669",
     "exception": false,
     "start_time": "2024-07-13T18:16:57.524953",
     "status": "completed"
    },
    "tags": []
   },
   "outputs": [
    {
     "data": {
      "application/javascript": [
       "parent.postMessage({\"jupyterEvent\": \"custom.exercise_interaction\", \"data\": {\"interactionType\": 3, \"questionType\": 4, \"questionId\": \"6.2_ThinkColorReg\", \"learnToolsVersion\": \"0.3.4\", \"valueTowardsCompletion\": 0.0, \"failureMessage\": \"\", \"exceptionClass\": \"\", \"trace\": \"\", \"outcomeType\": 4}}, \"*\")"
      ],
      "text/plain": [
       "<IPython.core.display.Javascript object>"
      ]
     },
     "metadata": {},
     "output_type": "display_data"
    },
    {
     "data": {
      "text/markdown": [
       "<span style=\"color:#33cc99\">Solution:</span> We'll begin with the regression line for chocolate candies. Since this line has a slightly positive slope, we can say that more expensive chocolate candies tend to be more popular (than relatively cheaper chocolate candies).  Likewise, since the regression line for candies without chocolate has a negative slope, we can say that if candies don't contain chocolate, they tend to be more popular when they are cheaper.  One important note, however, is that the dataset is quite small -- so we shouldn't invest too much trust in these patterns!  To inspire more confidence in the results, we should add more candies to the dataset."
      ],
      "text/plain": [
       "Solution: We'll begin with the regression line for chocolate candies. Since this line has a slightly positive slope, we can say that more expensive chocolate candies tend to be more popular (than relatively cheaper chocolate candies).  Likewise, since the regression line for candies without chocolate has a negative slope, we can say that if candies don't contain chocolate, they tend to be more popular when they are cheaper.  One important note, however, is that the dataset is quite small -- so we shouldn't invest too much trust in these patterns!  To inspire more confidence in the results, we should add more candies to the dataset."
      ]
     },
     "metadata": {},
     "output_type": "display_data"
    }
   ],
   "source": [
    "# Check your answer (Run this code cell to receive credit!)\n",
    "step_6.b.solution()"
   ]
  },
  {
   "cell_type": "markdown",
   "id": "8c417b53",
   "metadata": {
    "papermill": {
     "duration": 0.021245,
     "end_time": "2024-07-13T18:16:57.603499",
     "exception": false,
     "start_time": "2024-07-13T18:16:57.582254",
     "status": "completed"
    },
    "tags": []
   },
   "source": [
    "## Step 7: Everybody loves chocolate.\n",
    "\n",
    "#### Part A\n",
    "\n",
    "Create a categorical scatter plot to highlight the relationship between `'chocolate'` and `'winpercent'`.  Put `'chocolate'` on the (horizontal) x-axis, and `'winpercent'` on the (vertical) y-axis."
   ]
  },
  {
   "cell_type": "code",
   "execution_count": 22,
   "id": "475ec4bc",
   "metadata": {
    "execution": {
     "iopub.execute_input": "2024-07-13T18:16:57.649125Z",
     "iopub.status.busy": "2024-07-13T18:16:57.648714Z",
     "iopub.status.idle": "2024-07-13T18:16:58.218470Z",
     "shell.execute_reply": "2024-07-13T18:16:58.216681Z"
    },
    "papermill": {
     "duration": 0.59874,
     "end_time": "2024-07-13T18:16:58.223572",
     "exception": false,
     "start_time": "2024-07-13T18:16:57.624832",
     "status": "completed"
    },
    "tags": []
   },
   "outputs": [
    {
     "data": {
      "application/javascript": [
       "parent.postMessage({\"jupyterEvent\": \"custom.exercise_interaction\", \"data\": {\"outcomeType\": 1, \"valueTowardsCompletion\": 0.3333333333333333, \"interactionType\": 1, \"questionType\": 2, \"questionId\": \"7.1_PlotSwarm\", \"learnToolsVersion\": \"0.3.4\", \"failureMessage\": \"\", \"exceptionClass\": \"\", \"trace\": \"\"}}, \"*\")"
      ],
      "text/plain": [
       "<IPython.core.display.Javascript object>"
      ]
     },
     "metadata": {},
     "output_type": "display_data"
    },
    {
     "data": {
      "text/markdown": [
       "<span style=\"color:#33cc33\">Correct</span>"
      ],
      "text/plain": [
       "Correct"
      ]
     },
     "metadata": {},
     "output_type": "display_data"
    },
    {
     "data": {
      "image/png": "[encoded data removed]",
      "text/plain": [
       "<Figure size 640x480 with 1 Axes>"
      ]
     },
     "metadata": {},
     "output_type": "display_data"
    }
   ],
   "source": [
    "# Scatter plot showing the relationship between 'chocolate' and 'winpercent'\n",
    "sns.swarmplot(x=candy_data['chocolate'], y=candy_data['winpercent'])\n",
    "# Check your answer\n",
    "step_7.a.check()"
   ]
  },
  {
   "cell_type": "code",
   "execution_count": 23,
   "id": "868b6fc3",
   "metadata": {
    "execution": {
     "iopub.execute_input": "2024-07-13T18:16:58.284073Z",
     "iopub.status.busy": "2024-07-13T18:16:58.283660Z",
     "iopub.status.idle": "2024-07-13T18:16:58.857518Z",
     "shell.execute_reply": "2024-07-13T18:16:58.855794Z"
    },
    "papermill": {
     "duration": 0.601923,
     "end_time": "2024-07-13T18:16:58.862041",
     "exception": false,
     "start_time": "2024-07-13T18:16:58.260118",
     "status": "completed"
    },
    "tags": []
   },
   "outputs": [
    {
     "data": {
      "application/javascript": [
       "parent.postMessage({\"jupyterEvent\": \"custom.exercise_interaction\", \"data\": {\"interactionType\": 3, \"questionType\": 2, \"questionId\": \"7.1_PlotSwarm\", \"learnToolsVersion\": \"0.3.4\", \"valueTowardsCompletion\": 0.0, \"failureMessage\": \"\", \"exceptionClass\": \"\", \"trace\": \"\", \"outcomeType\": 4}}, \"*\")"
      ],
      "text/plain": [
       "<IPython.core.display.Javascript object>"
      ]
     },
     "metadata": {},
     "output_type": "display_data"
    },
    {
     "data": {
      "text/markdown": [
       "<span style=\"color:#33cc99\">Solution:</span> \n",
       "```python\n",
       "# Scatter plot showing the relationship between 'chocolate' and 'winpercent'\n",
       "sns.swarmplot(x=candy_data['chocolate'], y=candy_data['winpercent'])\n",
       "\n",
       "```"
      ],
      "text/plain": [
       "Solution: \n",
       "```python\n",
       "# Scatter plot showing the relationship between 'chocolate' and 'winpercent'\n",
       "sns.swarmplot(x=candy_data['chocolate'], y=candy_data['winpercent'])\n",
       "\n",
       "```"
      ]
     },
     "metadata": {},
     "output_type": "display_data"
    },
    {
     "data": {
      "image/png": "[encoded data removed]",
      "text/plain": [
       "<Figure size 640x480 with 1 Axes>"
      ]
     },
     "metadata": {},
     "output_type": "display_data"
    }
   ],
   "source": [
    "# Lines below will give you a hint or solution code\n",
    "#step_7.a.hint()\n",
    "step_7.a.solution_plot()"
   ]
  },
  {
   "cell_type": "markdown",
   "id": "c27d646b",
   "metadata": {
    "papermill": {
     "duration": 0.023003,
     "end_time": "2024-07-13T18:16:58.918782",
     "exception": false,
     "start_time": "2024-07-13T18:16:58.895779",
     "status": "completed"
    },
    "tags": []
   },
   "source": [
    "#### Part B\n",
    "\n",
    "You decide to dedicate a section of your report to the fact that chocolate candies tend to be more popular than candies without chocolate.  Which plot is more appropriate to tell this story: the plot from **Step 6**, or the plot from **Step 7**?"
   ]
  },
  {
   "cell_type": "code",
   "execution_count": 24,
   "id": "2ea189cf",
   "metadata": {
    "execution": {
     "iopub.execute_input": "2024-07-13T18:16:58.966200Z",
     "iopub.status.busy": "2024-07-13T18:16:58.965748Z",
     "iopub.status.idle": "2024-07-13T18:16:58.971090Z",
     "shell.execute_reply": "2024-07-13T18:16:58.969861Z"
    },
    "papermill": {
     "duration": 0.03255,
     "end_time": "2024-07-13T18:16:58.973856",
     "exception": false,
     "start_time": "2024-07-13T18:16:58.941306",
     "status": "completed"
    },
    "tags": []
   },
   "outputs": [],
   "source": [
    "#step_7.b.hint()"
   ]
  },
  {
   "cell_type": "code",
   "execution_count": 25,
   "id": "234e55e7",
   "metadata": {
    "execution": {
     "iopub.execute_input": "2024-07-13T18:16:59.021762Z",
     "iopub.status.busy": "2024-07-13T18:16:59.021053Z",
     "iopub.status.idle": "2024-07-13T18:16:59.032490Z",
     "shell.execute_reply": "2024-07-13T18:16:59.030984Z"
    },
    "papermill": {
     "duration": 0.038112,
     "end_time": "2024-07-13T18:16:59.035369",
     "exception": false,
     "start_time": "2024-07-13T18:16:58.997257",
     "status": "completed"
    },
    "tags": []
   },
   "outputs": [
    {
     "data": {
      "application/javascript": [
       "parent.postMessage({\"jupyterEvent\": \"custom.exercise_interaction\", \"data\": {\"interactionType\": 3, \"questionType\": 4, \"questionId\": \"7.2_ThinkSwarm\", \"learnToolsVersion\": \"0.3.4\", \"valueTowardsCompletion\": 0.0, \"failureMessage\": \"\", \"exceptionClass\": \"\", \"trace\": \"\", \"outcomeType\": 4}}, \"*\")"
      ],
      "text/plain": [
       "<IPython.core.display.Javascript object>"
      ]
     },
     "metadata": {},
     "output_type": "display_data"
    },
    {
     "data": {
      "text/markdown": [
       "<span style=\"color:#33cc99\">Solution:</span> In this case, the categorical scatter plot from **Step 7** is the more appropriate plot. While both plots tell the desired story, the plot from **Step 6** conveys far more information that could distract from the main point."
      ],
      "text/plain": [
       "Solution: In this case, the categorical scatter plot from **Step 7** is the more appropriate plot. While both plots tell the desired story, the plot from **Step 6** conveys far more information that could distract from the main point."
      ]
     },
     "metadata": {},
     "output_type": "display_data"
    }
   ],
   "source": [
    "# Check your answer (Run this code cell to receive credit!)\n",
    "step_7.b.solution()"
   ]
  },
  {
   "cell_type": "markdown",
   "id": "e950c65d",
   "metadata": {
    "papermill": {
     "duration": 0.022465,
     "end_time": "2024-07-13T18:16:59.080833",
     "exception": false,
     "start_time": "2024-07-13T18:16:59.058368",
     "status": "completed"
    },
    "tags": []
   },
   "source": [
    "## Keep going\n",
    "\n",
    "Explore **[histograms and density plots](https://www.kaggle.com/alexisbcook/distributions)**."
   ]
  },
  {
   "cell_type": "markdown",
   "id": "5ab70c5d",
   "metadata": {
    "papermill": {
     "duration": 0.023884,
     "end_time": "2024-07-13T18:16:59.127716",
     "exception": false,
     "start_time": "2024-07-13T18:16:59.103832",
     "status": "completed"
    },
    "tags": []
   },
   "source": [
    "---\n",
    "\n",
    "\n",
    "\n",
    "\n",
    "*Have questions or comments? Visit the [course discussion forum](https://www.kaggle.com/learn/data-visualization/discussion) to chat with other learners.*"
   ]
  }
 ],
 "metadata": {
  "kaggle": {
   "accelerator": "none",
   "dataSources": [
    {
     "datasetId": 116573,
     "sourceId": 3551030,
     "sourceType": "datasetVersion"
    }
   ],
   "isGpuEnabled": false,
   "isInternetEnabled": false,
   "language": "python",
   "sourceType": "notebook"
  },
  "kernelspec": {
   "display_name": "Python 3",
   "language": "python",
   "name": "python3"
  },
  "language_info": {
   "codemirror_mode": {
    "name": "ipython",
    "version": 3
   },
   "file_extension": ".py",
   "mimetype": "text/x-python",
   "name": "python",
   "nbconvert_exporter": "python",
   "pygments_lexer": "ipython3",
   "version": "3.10.13"
  },
  "papermill": {
   "default_parameters": {},
   "duration": 14.045568,
   "end_time": "2024-07-13T18:16:59.875224",
   "environment_variables": {},
   "exception": null,
   "input_path": "__notebook__.ipynb",
   "output_path": "__notebook__.ipynb",
   "parameters": {},
   "start_time": "2024-07-13T18:16:45.829656",
   "version": "2.5.0"
  }
 },
 "nbformat": 4,
 "nbformat_minor": 5
}
