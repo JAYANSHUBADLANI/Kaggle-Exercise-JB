{
 "cells": [
  {
   "cell_type": "markdown",
   "id": "7b910e30",
   "metadata": {
    "papermill": {
     "duration": 0.008803,
     "end_time": "2024-07-13T18:23:40.980340",
     "exception": false,
     "start_time": "2024-07-13T18:23:40.971537",
     "status": "completed"
    },
    "tags": []
   },
   "source": [
    "**This notebook is an exercise in the [Data Visualization](https://www.kaggle.com/learn/data-visualization) course.  You can reference the tutorial at [this link](https://www.kaggle.com/alexisbcook/scatter-plots).**\n",
    "\n",
    "---\n"
   ]
  },
  {
   "cell_type": "markdown",
   "id": "1fef4768",
   "metadata": {
    "papermill": {
     "duration": 0.007908,
     "end_time": "2024-07-13T18:23:40.996619",
     "exception": false,
     "start_time": "2024-07-13T18:23:40.988711",
     "status": "completed"
    },
    "tags": []
   },
   "source": [
    "In this exercise, you will use your new knowledge to propose a solution to a real-world scenario.  To succeed, you will need to import data into Python, answer questions using the data, and generate **scatter plots** to understand patterns in the data.\n",
    "\n",
    "## Scenario\n",
    "\n",
    "You work for a major candy producer, and your goal is to write a report that your company can use to guide the design of its next product.  Soon after starting your research, you stumble across this [very interesting dataset](https://fivethirtyeight.com/features/the-ultimate-halloween-candy-power-ranking/) containing results from a fun survey to crowdsource favorite candies.\n",
    "\n",
    "## Setup\n",
    "\n",
    "Run the next cell to import and configure the Python libraries that you need to complete the exercise."
   ]
  },
  {
   "cell_type": "code",
   "execution_count": 1,
   "id": "a6995110",
   "metadata": {
    "execution": {
     "iopub.execute_input": "2024-07-13T18:23:41.014645Z",
     "iopub.status.busy": "2024-07-13T18:23:41.014289Z",
     "iopub.status.idle": "2024-07-13T18:23:43.676696Z",
     "shell.execute_reply": "2024-07-13T18:23:43.675294Z"
    },
    "papermill": {
     "duration": 2.674613,
     "end_time": "2024-07-13T18:23:43.679439",
     "exception": false,
     "start_time": "2024-07-13T18:23:41.004826",
     "status": "completed"
    },
    "tags": []
   },
   "outputs": [
    {
     "name": "stdout",
     "output_type": "stream",
     "text": [
      "Setup Complete\n"
     ]
    }
   ],
   "source": [
    "import pandas as pd\n",
    "pd.plotting.register_matplotlib_converters()\n",
    "import matplotlib.pyplot as plt\n",
    "%matplotlib inline\n",
    "import seaborn as sns\n",
    "print(\"Setup Complete\")"
   ]
  },
  {
   "cell_type": "markdown",
   "id": "8673e700",
   "metadata": {
    "papermill": {
     "duration": 0.007969,
     "end_time": "2024-07-13T18:23:43.696495",
     "exception": false,
     "start_time": "2024-07-13T18:23:43.688526",
     "status": "completed"
    },
    "tags": []
   },
   "source": [
    "The questions below will give you feedback on your work. Run the following cell to set up our feedback system."
   ]
  },
  {
   "cell_type": "code",
   "execution_count": 2,
   "id": "a0380481",
   "metadata": {
    "execution": {
     "iopub.execute_input": "2024-07-13T18:23:43.715067Z",
     "iopub.status.busy": "2024-07-13T18:23:43.714546Z",
     "iopub.status.idle": "2024-07-13T18:23:43.806682Z",
     "shell.execute_reply": "2024-07-13T18:23:43.804835Z"
    },
    "papermill": {
     "duration": 0.104829,
     "end_time": "2024-07-13T18:23:43.809663",
     "exception": false,
     "start_time": "2024-07-13T18:23:43.704834",
     "status": "completed"
    },
    "tags": []
   },
   "outputs": [
    {
     "name": "stdout",
     "output_type": "stream",
     "text": [
      "Setup Complete\n"
     ]
    }
   ],
   "source": [
    "# Set up code checking\n",
    "import os\n",
    "if not os.path.exists(\"../input/candy.csv\"):\n",
    "    os.symlink(\"../input/data-for-datavis/candy.csv\", \"../input/candy.csv\") \n",
    "from learntools.core import binder\n",
    "binder.bind(globals())\n",
    "from learntools.data_viz_to_coder.ex4 import *\n",
    "print(\"Setup Complete\")"
   ]
  },
  {
   "cell_type": "markdown",
   "id": "05ed88af",
   "metadata": {
    "papermill": {
     "duration": 0.008645,
     "end_time": "2024-07-13T18:23:43.828747",
     "exception": false,
     "start_time": "2024-07-13T18:23:43.820102",
     "status": "completed"
    },
    "tags": []
   },
   "source": [
    "## Step 1: Load the Data\n",
    "\n",
    "Read the candy data file into `candy_data`.  Use the `\"id\"` column to label the rows."
   ]
  },
  {
   "cell_type": "code",
   "execution_count": 3,
   "id": "e697067b",
   "metadata": {
    "execution": {
     "iopub.execute_input": "2024-07-13T18:23:43.849209Z",
     "iopub.status.busy": "2024-07-13T18:23:43.848823Z",
     "iopub.status.idle": "2024-07-13T18:23:43.867837Z",
     "shell.execute_reply": "2024-07-13T18:23:43.866526Z"
    },
    "papermill": {
     "duration": 0.032178,
     "end_time": "2024-07-13T18:23:43.870817",
     "exception": false,
     "start_time": "2024-07-13T18:23:43.838639",
     "status": "completed"
    },
    "tags": []
   },
   "outputs": [
    {
     "data": {
      "application/javascript": [
       "parent.postMessage({\"jupyterEvent\": \"custom.exercise_interaction\", \"data\": {\"outcomeType\": 1, \"valueTowardsCompletion\": 0.3333333333333333, \"interactionType\": 1, \"questionType\": 1, \"questionId\": \"1_LoadData\", \"learnToolsVersion\": \"0.3.4\", \"failureMessage\": \"\", \"exceptionClass\": \"\", \"trace\": \"\"}}, \"*\")"
      ],
      "text/plain": [
       "<IPython.core.display.Javascript object>"
      ]
     },
     "metadata": {},
     "output_type": "display_data"
    },
    {
     "data": {
      "text/markdown": [
       "<span style=\"color:#33cc33\">Correct</span>"
      ],
      "text/plain": [
       "Correct"
      ]
     },
     "metadata": {},
     "output_type": "display_data"
    }
   ],
   "source": [
    "# Path of the file to read\n",
    "candy_filepath = \"../input/candy.csv\"\n",
    "\n",
    "# Fill in the line below to read the file into a variable candy_data\n",
    "candy_data = pd.read_csv(candy_filepath, index_col=\"id\")\n",
    "\n",
    "# Run the line below with no changes to check that you've loaded the data correctly\n",
    "step_1.check()"
   ]
  },
  {
   "cell_type": "code",
   "execution_count": 4,
   "id": "f8bd0fea",
   "metadata": {
    "execution": {
     "iopub.execute_input": "2024-07-13T18:23:43.891959Z",
     "iopub.status.busy": "2024-07-13T18:23:43.891549Z",
     "iopub.status.idle": "2024-07-13T18:23:43.897676Z",
     "shell.execute_reply": "2024-07-13T18:23:43.896116Z"
    },
    "papermill": {
     "duration": 0.019457,
     "end_time": "2024-07-13T18:23:43.900885",
     "exception": false,
     "start_time": "2024-07-13T18:23:43.881428",
     "status": "completed"
    },
    "tags": []
   },
   "outputs": [],
   "source": [
    "# Lines below will give you a hint or solution code\n",
    "#step_1.hint()\n",
    "#step_1.solution()"
   ]
  },
  {
   "cell_type": "markdown",
   "id": "9487a30c",
   "metadata": {
    "papermill": {
     "duration": 0.009229,
     "end_time": "2024-07-13T18:23:43.918936",
     "exception": false,
     "start_time": "2024-07-13T18:23:43.909707",
     "status": "completed"
    },
    "tags": []
   },
   "source": [
    "## Step 2: Review the data\n",
    "\n",
    "Use a Python command to print the first five rows of the data."
   ]
  },
  {
   "cell_type": "code",
   "execution_count": 5,
   "id": "d627cba3",
   "metadata": {
    "execution": {
     "iopub.execute_input": "2024-07-13T18:23:43.938795Z",
     "iopub.status.busy": "2024-07-13T18:23:43.938427Z",
     "iopub.status.idle": "2024-07-13T18:23:43.959258Z",
     "shell.execute_reply": "2024-07-13T18:23:43.957824Z"
    },
    "papermill": {
     "duration": 0.033693,
     "end_time": "2024-07-13T18:23:43.962081",
     "exception": false,
     "start_time": "2024-07-13T18:23:43.928388",
     "status": "completed"
    },
    "tags": []
   },
   "outputs": [
    {
     "name": "stdout",
     "output_type": "stream",
     "text": [
      "   id competitorname chocolate fruity caramel peanutyalmondy nougat  \\\n",
      "0   0      100 Grand       Yes     No     Yes             No     No   \n",
      "1   1   3 Musketeers       Yes     No      No             No    Yes   \n",
      "2   2      Air Heads        No    Yes      No             No     No   \n",
      "3   3     Almond Joy       Yes     No      No            Yes     No   \n",
      "4   4      Baby Ruth       Yes     No     Yes            Yes    Yes   \n",
      "\n",
      "  crispedricewafer hard  bar pluribus  sugarpercent  pricepercent  winpercent  \n",
      "0              Yes   No  Yes       No         0.732         0.860   66.971725  \n",
      "1               No   No  Yes       No         0.604         0.511   67.602936  \n",
      "2               No   No   No       No         0.906         0.511   52.341465  \n",
      "3               No   No  Yes       No         0.465         0.767   50.347546  \n",
      "4               No   No  Yes       No         0.604         0.767   56.914547  \n"
     ]
    }
   ],
   "source": [
    "import pandas as pd\n",
    "\n",
    "# Path of the file to read\n",
    "candy_filepath = \"../input/candy.csv\"\n",
    "\n",
    "# Read the file into a variable candy_data\n",
    "candy_data = pd.read_csv(candy_filepath)\n",
    "\n",
    "# Print the first five rows of the data\n",
    "print(candy_data.head())\n"
   ]
  },
  {
   "cell_type": "markdown",
   "id": "ee666714",
   "metadata": {
    "papermill": {
     "duration": 0.009108,
     "end_time": "2024-07-13T18:23:43.980695",
     "exception": false,
     "start_time": "2024-07-13T18:23:43.971587",
     "status": "completed"
    },
    "tags": []
   },
   "source": [
    "The dataset contains 83 rows, where each corresponds to a different candy bar.  There are 13 columns:\n",
    "- `'competitorname'` contains the name of the candy bar. \n",
    "- the next **9** columns (from `'chocolate'` to `'pluribus'`) describe the candy.  For instance, rows with chocolate candies have `\"Yes\"` in the `'chocolate'` column (and candies without chocolate have `\"No\"` in the same column).\n",
    "- `'sugarpercent'` provides some indication of the amount of sugar, where higher values signify higher sugar content.\n",
    "- `'pricepercent'` shows the price per unit, relative to the other candies in the dataset.\n",
    "- `'winpercent'` is calculated from the survey results; higher values indicate that the candy was more popular with survey respondents.\n",
    "\n",
    "Use the first five rows of the data to answer the questions below."
   ]
  },
  {
   "cell_type": "code",
   "execution_count": 6,
   "id": "abd789da",
   "metadata": {
    "execution": {
     "iopub.execute_input": "2024-07-13T18:23:44.000616Z",
     "iopub.status.busy": "2024-07-13T18:23:44.000170Z",
     "iopub.status.idle": "2024-07-13T18:23:44.030868Z",
     "shell.execute_reply": "2024-07-13T18:23:44.029059Z"
    },
    "papermill": {
     "duration": 0.047912,
     "end_time": "2024-07-13T18:23:44.037372",
     "exception": false,
     "start_time": "2024-07-13T18:23:43.989460",
     "status": "completed"
    },
    "tags": []
   },
   "outputs": [
    {
     "name": "stdout",
     "output_type": "stream",
     "text": [
      "   competitorname chocolate fruity caramel peanutyalmondy nougat  \\\n",
      "id                                                                 \n",
      "0       100 Grand       Yes     No     Yes             No     No   \n",
      "1    3 Musketeers       Yes     No      No             No    Yes   \n",
      "2       Air Heads        No    Yes      No             No     No   \n",
      "3      Almond Joy       Yes     No      No            Yes     No   \n",
      "4       Baby Ruth       Yes     No     Yes            Yes    Yes   \n",
      "\n",
      "   crispedricewafer hard  bar pluribus  sugarpercent  pricepercent  winpercent  \n",
      "id                                                                              \n",
      "0               Yes   No  Yes       No         0.732         0.860   66.971725  \n",
      "1                No   No  Yes       No         0.604         0.511   67.602936  \n",
      "2                No   No   No       No         0.906         0.511   52.341465  \n",
      "3                No   No  Yes       No         0.465         0.767   50.347546  \n",
      "4                No   No  Yes       No         0.604         0.767   56.914547  \n"
     ]
    },
    {
     "data": {
      "application/javascript": [
       "parent.postMessage({\"jupyterEvent\": \"custom.exercise_interaction\", \"data\": {\"outcomeType\": 1, \"valueTowardsCompletion\": 0.3333333333333333, \"interactionType\": 1, \"questionType\": 1, \"questionId\": \"2_ReviewData\", \"learnToolsVersion\": \"0.3.4\", \"failureMessage\": \"\", \"exceptionClass\": \"\", \"trace\": \"\"}}, \"*\")"
      ],
      "text/plain": [
       "<IPython.core.display.Javascript object>"
      ]
     },
     "metadata": {},
     "output_type": "display_data"
    },
    {
     "data": {
      "text/markdown": [
       "<span style=\"color:#33cc33\">Correct</span>"
      ],
      "text/plain": [
       "Correct"
      ]
     },
     "metadata": {},
     "output_type": "display_data"
    },
    {
     "name": "stdout",
     "output_type": "stream",
     "text": [
      "More popular candy: 3 Musketeers\n",
      "Candy with higher sugar content: Air Heads\n"
     ]
    }
   ],
   "source": [
    "# Path of the file to read\n",
    "candy_filepath = \"../input/candy.csv\"\n",
    "\n",
    "# Read the file into a variable candy_data\n",
    "candy_data = pd.read_csv(candy_filepath, index_col=\"id\")\n",
    "\n",
    "# Print the first five rows of the data\n",
    "print(candy_data.head())\n",
    "\n",
    "# Determine which candy was more popular: '3 Musketeers' or 'Almond Joy'\n",
    "more_popular = '3 Musketeers' if candy_data[candy_data['competitorname'] == '3 Musketeers']['winpercent'].values[0] > candy_data[candy_data['competitorname'] == 'Almond Joy']['winpercent'].values[0] else 'Almond Joy'\n",
    "\n",
    "# Determine which candy has higher sugar content: 'Air Heads' or 'Baby Ruth'\n",
    "more_sugar = 'Air Heads' if candy_data[candy_data['competitorname'] == 'Air Heads']['sugarpercent'].values[0] > candy_data[candy_data['competitorname'] == 'Baby Ruth']['sugarpercent'].values[0] else 'Baby Ruth'\n",
    "\n",
    "# Check your answers\n",
    "step_2.check()\n",
    "\n",
    "print(f\"More popular candy: {more_popular}\")\n",
    "print(f\"Candy with higher sugar content: {more_sugar}\")\n"
   ]
  },
  {
   "cell_type": "code",
   "execution_count": 7,
   "id": "780a9e73",
   "metadata": {
    "execution": {
     "iopub.execute_input": "2024-07-13T18:23:44.058346Z",
     "iopub.status.busy": "2024-07-13T18:23:44.057960Z",
     "iopub.status.idle": "2024-07-13T18:23:44.062819Z",
     "shell.execute_reply": "2024-07-13T18:23:44.061694Z"
    },
    "papermill": {
     "duration": 0.018346,
     "end_time": "2024-07-13T18:23:44.065381",
     "exception": false,
     "start_time": "2024-07-13T18:23:44.047035",
     "status": "completed"
    },
    "tags": []
   },
   "outputs": [],
   "source": [
    "# Lines below will give you a hint or solution code\n",
    "#step_2.hint()\n",
    "#step_2.solution()"
   ]
  },
  {
   "cell_type": "markdown",
   "id": "f1b305b1",
   "metadata": {
    "papermill": {
     "duration": 0.00876,
     "end_time": "2024-07-13T18:23:44.083372",
     "exception": false,
     "start_time": "2024-07-13T18:23:44.074612",
     "status": "completed"
    },
    "tags": []
   },
   "source": [
    "## Step 3: The role of sugar\n",
    "\n",
    "Do people tend to prefer candies with higher sugar content?  \n",
    "\n",
    "#### Part A\n",
    "\n",
    "Create a scatter plot that shows the relationship between `'sugarpercent'` (on the horizontal x-axis) and `'winpercent'` (on the vertical y-axis).  _Don't add a regression line just yet -- you'll do that in the next step!_"
   ]
  },
  {
   "cell_type": "code",
   "execution_count": 8,
   "id": "d52e5ec4",
   "metadata": {
    "execution": {
     "iopub.execute_input": "2024-07-13T18:23:44.104916Z",
     "iopub.status.busy": "2024-07-13T18:23:44.104403Z",
     "iopub.status.idle": "2024-07-13T18:23:44.500296Z",
     "shell.execute_reply": "2024-07-13T18:23:44.499117Z"
    },
    "papermill": {
     "duration": 0.409677,
     "end_time": "2024-07-13T18:23:44.502875",
     "exception": false,
     "start_time": "2024-07-13T18:23:44.093198",
     "status": "completed"
    },
    "tags": []
   },
   "outputs": [
    {
     "data": {
      "application/javascript": [
       "parent.postMessage({\"jupyterEvent\": \"custom.exercise_interaction\", \"data\": {\"outcomeType\": 1, \"valueTowardsCompletion\": 0.3333333333333333, \"interactionType\": 1, \"questionType\": 2, \"questionId\": \"3.1_PlotBlueScatter\", \"learnToolsVersion\": \"0.3.4\", \"failureMessage\": \"\", \"exceptionClass\": \"\", \"trace\": \"\"}}, \"*\")"
      ],
      "text/plain": [
       "<IPython.core.display.Javascript object>"
      ]
     },
     "metadata": {},
     "output_type": "display_data"
    },
    {
     "data": {
      "text/markdown": [
       "<span style=\"color:#33cc33\">Correct</span>"
      ],
      "text/plain": [
       "Correct"
      ]
     },
     "metadata": {},
     "output_type": "display_data"
    },
    {
     "data": {
      "image/png": "[encoded data removed]",
      "text/plain": [
       "<Figure size 640x480 with 1 Axes>"
      ]
     },
     "metadata": {},
     "output_type": "display_data"
    }
   ],
   "source": [
    "# Scatter plot showing the relationship between 'sugarpercent' and 'winpercent'\n",
    "sns.scatterplot(x=candy_data['sugarpercent'], y=candy_data['winpercent'])\n",
    "\n",
    "\n",
    "# Check your answer\n",
    "step_3.a.check()"
   ]
  },
  {
   "cell_type": "code",
   "execution_count": 9,
   "id": "02728167",
   "metadata": {
    "execution": {
     "iopub.execute_input": "2024-07-13T18:23:44.525141Z",
     "iopub.status.busy": "2024-07-13T18:23:44.524760Z",
     "iopub.status.idle": "2024-07-13T18:23:44.819858Z",
     "shell.execute_reply": "2024-07-13T18:23:44.818495Z"
    },
    "papermill": {
     "duration": 0.30888,
     "end_time": "2024-07-13T18:23:44.822491",
     "exception": false,
     "start_time": "2024-07-13T18:23:44.513611",
     "status": "completed"
    },
    "tags": []
   },
   "outputs": [
    {
     "data": {
      "application/javascript": [
       "parent.postMessage({\"jupyterEvent\": \"custom.exercise_interaction\", \"data\": {\"interactionType\": 3, \"questionType\": 2, \"questionId\": \"3.1_PlotBlueScatter\", \"learnToolsVersion\": \"0.3.4\", \"valueTowardsCompletion\": 0.0, \"failureMessage\": \"\", \"exceptionClass\": \"\", \"trace\": \"\", \"outcomeType\": 4}}, \"*\")"
      ],
      "text/plain": [
       "<IPython.core.display.Javascript object>"
      ]
     },
     "metadata": {},
     "output_type": "display_data"
    },
    {
     "data": {
      "text/markdown": [
       "<span style=\"color:#33cc99\">Solution:</span> \n",
       "```python\n",
       "# Scatter plot showing the relationship between 'sugarpercent' and 'winpercent'\n",
       "sns.scatterplot(x=candy_data['sugarpercent'], y=candy_data['winpercent'])\n",
       "\n",
       "```"
      ],
      "text/plain": [
       "Solution: \n",
       "```python\n",
       "# Scatter plot showing the relationship between 'sugarpercent' and 'winpercent'\n",
       "sns.scatterplot(x=candy_data['sugarpercent'], y=candy_data['winpercent'])\n",
       "\n",
       "```"
      ]
     },
     "metadata": {},
     "output_type": "display_data"
    },
    {
     "data": {
      "image/png": "[encoded data removed]",
      "text/plain": [
       "<Figure size 640x480 with 1 Axes>"
      ]
     },
     "metadata": {},
     "output_type": "display_data"
    }
   ],
   "source": [
    "# Lines below will give you a hint or solution code\n",
    "#step_3.a.hint()\n",
    "step_3.a.solution_plot()"
   ]
  },
  {
   "cell_type": "markdown",
   "id": "47bd4a09",
   "metadata": {
    "papermill": {
     "duration": 0.010885,
     "end_time": "2024-07-13T18:23:44.844387",
     "exception": false,
     "start_time": "2024-07-13T18:23:44.833502",
     "status": "completed"
    },
    "tags": []
   },
   "source": [
    "#### Part B\n",
    "\n",
    "Does the scatter plot show a **strong** correlation between the two variables?  If so, are candies with more sugar relatively more or less popular with the survey respondents?"
   ]
  },
  {
   "cell_type": "code",
   "execution_count": 10,
   "id": "41410e85",
   "metadata": {
    "execution": {
     "iopub.execute_input": "2024-07-13T18:23:44.868598Z",
     "iopub.status.busy": "2024-07-13T18:23:44.868230Z",
     "iopub.status.idle": "2024-07-13T18:23:45.428436Z",
     "shell.execute_reply": "2024-07-13T18:23:45.426662Z"
    },
    "papermill": {
     "duration": 0.576666,
     "end_time": "2024-07-13T18:23:45.431808",
     "exception": false,
     "start_time": "2024-07-13T18:23:44.855142",
     "status": "completed"
    },
    "tags": []
   },
   "outputs": [
    {
     "data": {
      "application/javascript": [
       "parent.postMessage({\"jupyterEvent\": \"custom.exercise_interaction\", \"data\": {\"outcomeType\": 1, \"valueTowardsCompletion\": 0.3333333333333333, \"interactionType\": 1, \"questionType\": 2, \"questionId\": \"4.1_PlotBlueReg\", \"learnToolsVersion\": \"0.3.4\", \"failureMessage\": \"\", \"exceptionClass\": \"\", \"trace\": \"\"}}, \"*\")"
      ],
      "text/plain": [
       "<IPython.core.display.Javascript object>"
      ]
     },
     "metadata": {},
     "output_type": "display_data"
    },
    {
     "data": {
      "text/markdown": [
       "<span style=\"color:#33cc33\">Correct</span>"
      ],
      "text/plain": [
       "Correct"
      ]
     },
     "metadata": {},
     "output_type": "display_data"
    },
    {
     "data": {
      "image/png": "[encoded data removed]",
      "text/plain": [
       "<Figure size 500x500 with 1 Axes>"
      ]
     },
     "metadata": {},
     "output_type": "display_data"
    }
   ],
   "source": [
    "import seaborn as sns\n",
    "import matplotlib.pyplot as plt\n",
    "\n",
    "# Scatter plot with regression line showing the relationship between 'sugarpercent' and 'winpercent'\n",
    "sns.lmplot(x='sugarpercent', y='winpercent', data=candy_data)\n",
    "\n",
    "\n",
    "# Check your answer\n",
    "step_4.a.check()"
   ]
  },
  {
   "cell_type": "code",
   "execution_count": 11,
   "id": "a244f102",
   "metadata": {
    "execution": {
     "iopub.execute_input": "2024-07-13T18:23:45.457940Z",
     "iopub.status.busy": "2024-07-13T18:23:45.457235Z",
     "iopub.status.idle": "2024-07-13T18:23:45.468013Z",
     "shell.execute_reply": "2024-07-13T18:23:45.466708Z"
    },
    "papermill": {
     "duration": 0.027418,
     "end_time": "2024-07-13T18:23:45.471476",
     "exception": false,
     "start_time": "2024-07-13T18:23:45.444058",
     "status": "completed"
    },
    "tags": []
   },
   "outputs": [
    {
     "data": {
      "application/javascript": [
       "parent.postMessage({\"jupyterEvent\": \"custom.exercise_interaction\", \"data\": {\"interactionType\": 3, \"questionType\": 4, \"questionId\": \"3.2_ThinkBlueScatter\", \"learnToolsVersion\": \"0.3.4\", \"valueTowardsCompletion\": 0.0, \"failureMessage\": \"\", \"exceptionClass\": \"\", \"trace\": \"\", \"outcomeType\": 4}}, \"*\")"
      ],
      "text/plain": [
       "<IPython.core.display.Javascript object>"
      ]
     },
     "metadata": {},
     "output_type": "display_data"
    },
    {
     "data": {
      "text/markdown": [
       "<span style=\"color:#33cc99\">Solution:</span> The scatter plot does not show a strong correlation between the two variables. Since there is no clear relationship between the two variables, this tells us that sugar content does not play a strong role in candy popularity."
      ],
      "text/plain": [
       "Solution: The scatter plot does not show a strong correlation between the two variables. Since there is no clear relationship between the two variables, this tells us that sugar content does not play a strong role in candy popularity."
      ]
     },
     "metadata": {},
     "output_type": "display_data"
    }
   ],
   "source": [
    "# Check your answer (Run this code cell to receive credit!)\n",
    "step_3.b.solution()"
   ]
  },
  {
   "cell_type": "markdown",
   "id": "a6854409",
   "metadata": {
    "papermill": {
     "duration": 0.013543,
     "end_time": "2024-07-13T18:23:45.498977",
     "exception": false,
     "start_time": "2024-07-13T18:23:45.485434",
     "status": "completed"
    },
    "tags": []
   },
   "source": [
    "## Step 4: Take a closer look\n",
    "\n",
    "#### Part A\n",
    "\n",
    "Create the same scatter plot you created in **Step 3**, but now with a regression line!"
   ]
  },
  {
   "cell_type": "code",
   "execution_count": 12,
   "id": "b3d30a8b",
   "metadata": {
    "execution": {
     "iopub.execute_input": "2024-07-13T18:23:45.524839Z",
     "iopub.status.busy": "2024-07-13T18:23:45.524427Z",
     "iopub.status.idle": "2024-07-13T18:23:46.025489Z",
     "shell.execute_reply": "2024-07-13T18:23:46.023314Z"
    },
    "papermill": {
     "duration": 0.51764,
     "end_time": "2024-07-13T18:23:46.028212",
     "exception": false,
     "start_time": "2024-07-13T18:23:45.510572",
     "status": "completed"
    },
    "tags": []
   },
   "outputs": [
    {
     "data": {
      "application/javascript": [
       "parent.postMessage({\"jupyterEvent\": \"custom.exercise_interaction\", \"data\": {\"outcomeType\": 1, \"valueTowardsCompletion\": 0.3333333333333333, \"interactionType\": 1, \"questionType\": 2, \"questionId\": \"4.1_PlotBlueReg\", \"learnToolsVersion\": \"0.3.4\", \"failureMessage\": \"\", \"exceptionClass\": \"\", \"trace\": \"\"}}, \"*\")"
      ],
      "text/plain": [
       "<IPython.core.display.Javascript object>"
      ]
     },
     "metadata": {},
     "output_type": "display_data"
    },
    {
     "data": {
      "text/markdown": [
       "<span style=\"color:#33cc33\">Correct</span>"
      ],
      "text/plain": [
       "Correct"
      ]
     },
     "metadata": {},
     "output_type": "display_data"
    },
    {
     "data": {
      "image/png": "[encoded data removed]",
      "text/plain": [
       "<Figure size 500x500 with 1 Axes>"
      ]
     },
     "metadata": {},
     "output_type": "display_data"
    }
   ],
   "source": [
    "import seaborn as sns\n",
    "import matplotlib.pyplot as plt\n",
    "\n",
    "# Scatter plot with regression line showing the relationship between 'sugarpercent' and 'winpercent'\n",
    "sns.lmplot(x='sugarpercent', y='winpercent', data=candy_data)\n",
    "\n",
    "\n",
    "# Check your answer\n",
    "step_4.a.check()\n"
   ]
  },
  {
   "cell_type": "code",
   "execution_count": 13,
   "id": "35d9e6bd",
   "metadata": {
    "execution": {
     "iopub.execute_input": "2024-07-13T18:23:46.059747Z",
     "iopub.status.busy": "2024-07-13T18:23:46.058491Z",
     "iopub.status.idle": "2024-07-13T18:23:46.065426Z",
     "shell.execute_reply": "2024-07-13T18:23:46.063684Z"
    },
    "papermill": {
     "duration": 0.025464,
     "end_time": "2024-07-13T18:23:46.068415",
     "exception": false,
     "start_time": "2024-07-13T18:23:46.042951",
     "status": "completed"
    },
    "tags": []
   },
   "outputs": [],
   "source": [
    "# Lines below will give you a hint or solution code\n",
    "#step_4.a.hint()\n",
    "#step_4.a.solution_plot()"
   ]
  },
  {
   "cell_type": "markdown",
   "id": "43bd7308",
   "metadata": {
    "papermill": {
     "duration": 0.01408,
     "end_time": "2024-07-13T18:23:46.095574",
     "exception": false,
     "start_time": "2024-07-13T18:23:46.081494",
     "status": "completed"
    },
    "tags": []
   },
   "source": [
    "#### Part B\n",
    "\n",
    "According to the plot above, is there a **slight** correlation between `'winpercent'` and `'sugarpercent'`?  What does this tell you about the candy that people tend to prefer?"
   ]
  },
  {
   "cell_type": "code",
   "execution_count": 14,
   "id": "1465f6b4",
   "metadata": {
    "execution": {
     "iopub.execute_input": "2024-07-13T18:23:46.126820Z",
     "iopub.status.busy": "2024-07-13T18:23:46.126411Z",
     "iopub.status.idle": "2024-07-13T18:23:46.621225Z",
     "shell.execute_reply": "2024-07-13T18:23:46.619746Z"
    },
    "papermill": {
     "duration": 0.514267,
     "end_time": "2024-07-13T18:23:46.623652",
     "exception": false,
     "start_time": "2024-07-13T18:23:46.109385",
     "status": "completed"
    },
    "tags": []
   },
   "outputs": [
    {
     "data": {
      "image/png": "[encoded data removed]",
      "text/plain": [
       "<Figure size 500x500 with 1 Axes>"
      ]
     },
     "metadata": {},
     "output_type": "display_data"
    }
   ],
   "source": [
    "# Scatter plot with regression line showing the relationship between 'sugarpercent' and 'winpercent'\n",
    "sns.lmplot(x='sugarpercent', y='winpercent', data=candy_data)\n",
    "\n",
    "# Add labels and a title\n",
    "plt.xlabel('Sugar Percent')\n",
    "plt.ylabel('Win Percent')\n",
    "plt.title('Relationship between Sugar Percent and Win Percent with Regression Line')\n",
    "\n",
    "# Display the plot\n",
    "plt.show()"
   ]
  },
  {
   "cell_type": "code",
   "execution_count": 15,
   "id": "1b34f3b0",
   "metadata": {
    "execution": {
     "iopub.execute_input": "2024-07-13T18:23:46.657797Z",
     "iopub.status.busy": "2024-07-13T18:23:46.657396Z",
     "iopub.status.idle": "2024-07-13T18:23:46.668650Z",
     "shell.execute_reply": "2024-07-13T18:23:46.667166Z"
    },
    "papermill": {
     "duration": 0.032796,
     "end_time": "2024-07-13T18:23:46.672940",
     "exception": false,
     "start_time": "2024-07-13T18:23:46.640144",
     "status": "completed"
    },
    "tags": []
   },
   "outputs": [
    {
     "data": {
      "application/javascript": [
       "parent.postMessage({\"jupyterEvent\": \"custom.exercise_interaction\", \"data\": {\"interactionType\": 3, \"questionType\": 4, \"questionId\": \"4.2_ThinkBlueReg\", \"learnToolsVersion\": \"0.3.4\", \"valueTowardsCompletion\": 0.0, \"failureMessage\": \"\", \"exceptionClass\": \"\", \"trace\": \"\", \"outcomeType\": 4}}, \"*\")"
      ],
      "text/plain": [
       "<IPython.core.display.Javascript object>"
      ]
     },
     "metadata": {},
     "output_type": "display_data"
    },
    {
     "data": {
      "text/markdown": [
       "<span style=\"color:#33cc99\">Solution:</span> Since the regression line has a slightly positive slope, this tells us that there is a slightly positive correlation between `'winpercent'` and `'sugarpercent'`. Thus, people have a slight preference for candies containing relatively more sugar."
      ],
      "text/plain": [
       "Solution: Since the regression line has a slightly positive slope, this tells us that there is a slightly positive correlation between `'winpercent'` and `'sugarpercent'`. Thus, people have a slight preference for candies containing relatively more sugar."
      ]
     },
     "metadata": {},
     "output_type": "display_data"
    }
   ],
   "source": [
    "# Check your answer (Run this code cell to receive credit!)\n",
    "step_4.b.solution()"
   ]
  },
  {
   "cell_type": "markdown",
   "id": "5dc0f33b",
   "metadata": {
    "papermill": {
     "duration": 0.014169,
     "end_time": "2024-07-13T18:23:46.703109",
     "exception": false,
     "start_time": "2024-07-13T18:23:46.688940",
     "status": "completed"
    },
    "tags": []
   },
   "source": [
    "## Step 5: Chocolate!\n",
    "\n",
    "In the code cell below, create a scatter plot to show the relationship between `'pricepercent'` (on the horizontal x-axis) and `'winpercent'` (on the vertical y-axis). Use the `'chocolate'` column to color-code the points.  _Don't add any regression lines just yet -- you'll do that in the next step!_"
   ]
  },
  {
   "cell_type": "code",
   "execution_count": 16,
   "id": "8a900ee9",
   "metadata": {
    "execution": {
     "iopub.execute_input": "2024-07-13T18:23:46.734532Z",
     "iopub.status.busy": "2024-07-13T18:23:46.734089Z",
     "iopub.status.idle": "2024-07-13T18:23:47.285255Z",
     "shell.execute_reply": "2024-07-13T18:23:47.283910Z"
    },
    "papermill": {
     "duration": 0.570146,
     "end_time": "2024-07-13T18:23:47.287802",
     "exception": false,
     "start_time": "2024-07-13T18:23:46.717656",
     "status": "completed"
    },
    "tags": []
   },
   "outputs": [
    {
     "data": {
      "application/javascript": [
       "parent.postMessage({\"jupyterEvent\": \"custom.exercise_interaction\", \"data\": {\"outcomeType\": 1, \"valueTowardsCompletion\": 0.3333333333333333, \"interactionType\": 1, \"questionType\": 2, \"questionId\": \"5_ColorScatter\", \"learnToolsVersion\": \"0.3.4\", \"failureMessage\": \"\", \"exceptionClass\": \"\", \"trace\": \"\"}}, \"*\")"
      ],
      "text/plain": [
       "<IPython.core.display.Javascript object>"
      ]
     },
     "metadata": {},
     "output_type": "display_data"
    },
    {
     "data": {
      "text/markdown": [
       "<span style=\"color:#33cc33\">Correct</span>"
      ],
      "text/plain": [
       "Correct"
      ]
     },
     "metadata": {},
     "output_type": "display_data"
    },
    {
     "data": {
      "image/png": "[encoded data removed]",
      "text/plain": [
       "<Figure size 500x500 with 1 Axes>"
      ]
     },
     "metadata": {},
     "output_type": "display_data"
    }
   ],
   "source": [
    "import seaborn as sns\n",
    "import matplotlib.pyplot as plt\n",
    "\n",
    "# Scatter plot with regression line showing the relationship between 'sugarpercent' and 'winpercent'\n",
    "sns.lmplot(x='sugarpercent', y='winpercent', data=candy_data)\n",
    "\n",
    "\n",
    "# Check your answer\n",
    "step_5.check()"
   ]
  },
  {
   "cell_type": "code",
   "execution_count": 17,
   "id": "2735b383",
   "metadata": {
    "execution": {
     "iopub.execute_input": "2024-07-13T18:23:47.323785Z",
     "iopub.status.busy": "2024-07-13T18:23:47.323377Z",
     "iopub.status.idle": "2024-07-13T18:23:47.328223Z",
     "shell.execute_reply": "2024-07-13T18:23:47.326958Z"
    },
    "papermill": {
     "duration": 0.02898,
     "end_time": "2024-07-13T18:23:47.331391",
     "exception": false,
     "start_time": "2024-07-13T18:23:47.302411",
     "status": "completed"
    },
    "tags": []
   },
   "outputs": [],
   "source": [
    "# Lines below will give you a hint or solution code\n",
    "#step_5.hint()\n",
    "#step_5.solution_plot()"
   ]
  },
  {
   "cell_type": "markdown",
   "id": "264fb952",
   "metadata": {
    "papermill": {
     "duration": 0.024068,
     "end_time": "2024-07-13T18:23:47.372959",
     "exception": false,
     "start_time": "2024-07-13T18:23:47.348891",
     "status": "completed"
    },
    "tags": []
   },
   "source": [
    "Can you see any interesting patterns in the scatter plot?  We'll investigate this plot further  by adding regression lines in the next step!\n",
    "\n",
    "## Step 6: Investigate chocolate\n",
    "\n",
    "#### Part A\n",
    "\n",
    "Create the same scatter plot you created in **Step 5**, but now with two regression lines, corresponding to (1) chocolate candies and (2) candies without chocolate."
   ]
  },
  {
   "cell_type": "code",
   "execution_count": 18,
   "id": "3f382e38",
   "metadata": {
    "execution": {
     "iopub.execute_input": "2024-07-13T18:23:47.414546Z",
     "iopub.status.busy": "2024-07-13T18:23:47.412669Z",
     "iopub.status.idle": "2024-07-13T18:23:48.245242Z",
     "shell.execute_reply": "2024-07-13T18:23:48.244027Z"
    },
    "papermill": {
     "duration": 0.857734,
     "end_time": "2024-07-13T18:23:48.248320",
     "exception": false,
     "start_time": "2024-07-13T18:23:47.390586",
     "status": "completed"
    },
    "tags": []
   },
   "outputs": [
    {
     "data": {
      "application/javascript": [
       "parent.postMessage({\"jupyterEvent\": \"custom.exercise_interaction\", \"data\": {\"outcomeType\": 1, \"valueTowardsCompletion\": 0.3333333333333333, \"interactionType\": 1, \"questionType\": 2, \"questionId\": \"6.1_PlotColorReg\", \"learnToolsVersion\": \"0.3.4\", \"failureMessage\": \"\", \"exceptionClass\": \"\", \"trace\": \"\"}}, \"*\")"
      ],
      "text/plain": [
       "<IPython.core.display.Javascript object>"
      ]
     },
     "metadata": {},
     "output_type": "display_data"
    },
    {
     "data": {
      "text/markdown": [
       "<span style=\"color:#33cc33\">Correct</span>"
      ],
      "text/plain": [
       "Correct"
      ]
     },
     "metadata": {},
     "output_type": "display_data"
    },
    {
     "data": {
      "image/png": "[encoded data removed]",
      "text/plain": [
       "<Figure size 578.611x500 with 1 Axes>"
      ]
     },
     "metadata": {},
     "output_type": "display_data"
    }
   ],
   "source": [
    "import seaborn as sns\n",
    "import matplotlib.pyplot as plt\n",
    "\n",
    "# Scatter plot with color-coded regression lines for chocolate and non-chocolate candies\n",
    "sns.lmplot(x='sugarpercent', y='winpercent', hue='chocolate', data=candy_data)\n",
    "\n",
    "# Check your answer\n",
    "step_6.a.check()"
   ]
  },
  {
   "cell_type": "code",
   "execution_count": 19,
   "id": "e5e18958",
   "metadata": {
    "execution": {
     "iopub.execute_input": "2024-07-13T18:23:48.281883Z",
     "iopub.status.busy": "2024-07-13T18:23:48.281500Z",
     "iopub.status.idle": "2024-07-13T18:23:48.286302Z",
     "shell.execute_reply": "2024-07-13T18:23:48.285222Z"
    },
    "papermill": {
     "duration": 0.023731,
     "end_time": "2024-07-13T18:23:48.288885",
     "exception": false,
     "start_time": "2024-07-13T18:23:48.265154",
     "status": "completed"
    },
    "tags": []
   },
   "outputs": [],
   "source": [
    "# Lines below will give you a hint or solution code\n",
    "#step_6.a.hint()\n",
    "#step_6.a.solution_plot()"
   ]
  },
  {
   "cell_type": "markdown",
   "id": "5c055cff",
   "metadata": {
    "papermill": {
     "duration": 0.082657,
     "end_time": "2024-07-13T18:23:48.386573",
     "exception": false,
     "start_time": "2024-07-13T18:23:48.303916",
     "status": "completed"
    },
    "tags": []
   },
   "source": [
    "#### Part B\n",
    "\n",
    "Using the regression lines, what conclusions can you draw about the effects of chocolate and price on candy popularity?"
   ]
  },
  {
   "cell_type": "code",
   "execution_count": 20,
   "id": "72baa57c",
   "metadata": {
    "execution": {
     "iopub.execute_input": "2024-07-13T18:23:48.422569Z",
     "iopub.status.busy": "2024-07-13T18:23:48.421701Z",
     "iopub.status.idle": "2024-07-13T18:23:48.427584Z",
     "shell.execute_reply": "2024-07-13T18:23:48.426332Z"
    },
    "papermill": {
     "duration": 0.027102,
     "end_time": "2024-07-13T18:23:48.430124",
     "exception": false,
     "start_time": "2024-07-13T18:23:48.403022",
     "status": "completed"
    },
    "tags": []
   },
   "outputs": [],
   "source": [
    "#step_6.b.hint()"
   ]
  },
  {
   "cell_type": "code",
   "execution_count": 21,
   "id": "27fc095a",
   "metadata": {
    "execution": {
     "iopub.execute_input": "2024-07-13T18:23:48.466631Z",
     "iopub.status.busy": "2024-07-13T18:23:48.466202Z",
     "iopub.status.idle": "2024-07-13T18:23:48.479629Z",
     "shell.execute_reply": "2024-07-13T18:23:48.478162Z"
    },
    "papermill": {
     "duration": 0.035733,
     "end_time": "2024-07-13T18:23:48.482671",
     "exception": false,
     "start_time": "2024-07-13T18:23:48.446938",
     "status": "completed"
    },
    "tags": []
   },
   "outputs": [
    {
     "data": {
      "application/javascript": [
       "parent.postMessage({\"jupyterEvent\": \"custom.exercise_interaction\", \"data\": {\"interactionType\": 3, \"questionType\": 4, \"questionId\": \"6.2_ThinkColorReg\", \"learnToolsVersion\": \"0.3.4\", \"valueTowardsCompletion\": 0.0, \"failureMessage\": \"\", \"exceptionClass\": \"\", \"trace\": \"\", \"outcomeType\": 4}}, \"*\")"
      ],
      "text/plain": [
       "<IPython.core.display.Javascript object>"
      ]
     },
     "metadata": {},
     "output_type": "display_data"
    },
    {
     "data": {
      "text/markdown": [
       "<span style=\"color:#33cc99\">Solution:</span> We'll begin with the regression line for chocolate candies. Since this line has a slightly positive slope, we can say that more expensive chocolate candies tend to be more popular (than relatively cheaper chocolate candies).  Likewise, since the regression line for candies without chocolate has a negative slope, we can say that if candies don't contain chocolate, they tend to be more popular when they are cheaper.  One important note, however, is that the dataset is quite small -- so we shouldn't invest too much trust in these patterns!  To inspire more confidence in the results, we should add more candies to the dataset."
      ],
      "text/plain": [
       "Solution: We'll begin with the regression line for chocolate candies. Since this line has a slightly positive slope, we can say that more expensive chocolate candies tend to be more popular (than relatively cheaper chocolate candies).  Likewise, since the regression line for candies without chocolate has a negative slope, we can say that if candies don't contain chocolate, they tend to be more popular when they are cheaper.  One important note, however, is that the dataset is quite small -- so we shouldn't invest too much trust in these patterns!  To inspire more confidence in the results, we should add more candies to the dataset."
      ]
     },
     "metadata": {},
     "output_type": "display_data"
    }
   ],
   "source": [
    "# Check your answer (Run this code cell to receive credit!)\n",
    "step_6.b.solution()"
   ]
  },
  {
   "cell_type": "markdown",
   "id": "37b47c19",
   "metadata": {
    "papermill": {
     "duration": 0.016127,
     "end_time": "2024-07-13T18:23:48.514512",
     "exception": false,
     "start_time": "2024-07-13T18:23:48.498385",
     "status": "completed"
    },
    "tags": []
   },
   "source": [
    "## Step 7: Everybody loves chocolate.\n",
    "\n",
    "#### Part A\n",
    "\n",
    "Create a categorical scatter plot to highlight the relationship between `'chocolate'` and `'winpercent'`.  Put `'chocolate'` on the (horizontal) x-axis, and `'winpercent'` on the (vertical) y-axis."
   ]
  },
  {
   "cell_type": "code",
   "execution_count": 22,
   "id": "8cac84be",
   "metadata": {
    "execution": {
     "iopub.execute_input": "2024-07-13T18:23:48.552784Z",
     "iopub.status.busy": "2024-07-13T18:23:48.552348Z",
     "iopub.status.idle": "2024-07-13T18:23:49.001901Z",
     "shell.execute_reply": "2024-07-13T18:23:49.000766Z"
    },
    "papermill": {
     "duration": 0.472822,
     "end_time": "2024-07-13T18:23:49.005779",
     "exception": false,
     "start_time": "2024-07-13T18:23:48.532957",
     "status": "completed"
    },
    "tags": []
   },
   "outputs": [
    {
     "data": {
      "application/javascript": [
       "parent.postMessage({\"jupyterEvent\": \"custom.exercise_interaction\", \"data\": {\"outcomeType\": 1, \"valueTowardsCompletion\": 0.3333333333333333, \"interactionType\": 1, \"questionType\": 2, \"questionId\": \"7.1_PlotSwarm\", \"learnToolsVersion\": \"0.3.4\", \"failureMessage\": \"\", \"exceptionClass\": \"\", \"trace\": \"\"}}, \"*\")"
      ],
      "text/plain": [
       "<IPython.core.display.Javascript object>"
      ]
     },
     "metadata": {},
     "output_type": "display_data"
    },
    {
     "data": {
      "text/markdown": [
       "<span style=\"color:#33cc33\">Correct</span>"
      ],
      "text/plain": [
       "Correct"
      ]
     },
     "metadata": {},
     "output_type": "display_data"
    },
    {
     "data": {
      "image/png": "[encoded data removed]",
      "text/plain": [
       "<Figure size 640x480 with 1 Axes>"
      ]
     },
     "metadata": {},
     "output_type": "display_data"
    }
   ],
   "source": [
    "# Scatter plot showing the relationship between 'chocolate' and 'winpercent'\n",
    "sns.swarmplot(x=candy_data['chocolate'], y=candy_data['winpercent'])\n",
    "# Check your answer\n",
    "step_7.a.check()"
   ]
  },
  {
   "cell_type": "code",
   "execution_count": 23,
   "id": "68d07370",
   "metadata": {
    "execution": {
     "iopub.execute_input": "2024-07-13T18:23:49.062513Z",
     "iopub.status.busy": "2024-07-13T18:23:49.061205Z",
     "iopub.status.idle": "2024-07-13T18:23:49.365675Z",
     "shell.execute_reply": "2024-07-13T18:23:49.364529Z"
    },
    "papermill": {
     "duration": 0.335916,
     "end_time": "2024-07-13T18:23:49.369035",
     "exception": false,
     "start_time": "2024-07-13T18:23:49.033119",
     "status": "completed"
    },
    "tags": []
   },
   "outputs": [
    {
     "data": {
      "application/javascript": [
       "parent.postMessage({\"jupyterEvent\": \"custom.exercise_interaction\", \"data\": {\"interactionType\": 3, \"questionType\": 2, \"questionId\": \"7.1_PlotSwarm\", \"learnToolsVersion\": \"0.3.4\", \"valueTowardsCompletion\": 0.0, \"failureMessage\": \"\", \"exceptionClass\": \"\", \"trace\": \"\", \"outcomeType\": 4}}, \"*\")"
      ],
      "text/plain": [
       "<IPython.core.display.Javascript object>"
      ]
     },
     "metadata": {},
     "output_type": "display_data"
    },
    {
     "data": {
      "text/markdown": [
       "<span style=\"color:#33cc99\">Solution:</span> \n",
       "```python\n",
       "# Scatter plot showing the relationship between 'chocolate' and 'winpercent'\n",
       "sns.swarmplot(x=candy_data['chocolate'], y=candy_data['winpercent'])\n",
       "\n",
       "```"
      ],
      "text/plain": [
       "Solution: \n",
       "```python\n",
       "# Scatter plot showing the relationship between 'chocolate' and 'winpercent'\n",
       "sns.swarmplot(x=candy_data['chocolate'], y=candy_data['winpercent'])\n",
       "\n",
       "```"
      ]
     },
     "metadata": {},
     "output_type": "display_data"
    },
    {
     "data": {
      "image/png": "[encoded data removed]",
      "text/plain": [
       "<Figure size 640x480 with 1 Axes>"
      ]
     },
     "metadata": {},
     "output_type": "display_data"
    }
   ],
   "source": [
    "# Lines below will give you a hint or solution code\n",
    "#step_7.a.hint()\n",
    "step_7.a.solution_plot()"
   ]
  },
  {
   "cell_type": "markdown",
   "id": "bbd8d26c",
   "metadata": {
    "papermill": {
     "duration": 0.027712,
     "end_time": "2024-07-13T18:23:49.424081",
     "exception": false,
     "start_time": "2024-07-13T18:23:49.396369",
     "status": "completed"
    },
    "tags": []
   },
   "source": [
    "#### Part B\n",
    "\n",
    "You decide to dedicate a section of your report to the fact that chocolate candies tend to be more popular than candies without chocolate.  Which plot is more appropriate to tell this story: the plot from **Step 6**, or the plot from **Step 7**?"
   ]
  },
  {
   "cell_type": "code",
   "execution_count": 24,
   "id": "a64e7ce2",
   "metadata": {
    "execution": {
     "iopub.execute_input": "2024-07-13T18:23:49.467398Z",
     "iopub.status.busy": "2024-07-13T18:23:49.466640Z",
     "iopub.status.idle": "2024-07-13T18:23:49.472549Z",
     "shell.execute_reply": "2024-07-13T18:23:49.471066Z"
    },
    "papermill": {
     "duration": 0.027412,
     "end_time": "2024-07-13T18:23:49.475165",
     "exception": false,
     "start_time": "2024-07-13T18:23:49.447753",
     "status": "completed"
    },
    "tags": []
   },
   "outputs": [],
   "source": [
    "#step_7.b.hint()"
   ]
  },
  {
   "cell_type": "code",
   "execution_count": 25,
   "id": "a5697219",
   "metadata": {
    "execution": {
     "iopub.execute_input": "2024-07-13T18:23:49.510264Z",
     "iopub.status.busy": "2024-07-13T18:23:49.509884Z",
     "iopub.status.idle": "2024-07-13T18:23:49.519051Z",
     "shell.execute_reply": "2024-07-13T18:23:49.517714Z"
    },
    "papermill": {
     "duration": 0.029759,
     "end_time": "2024-07-13T18:23:49.521837",
     "exception": false,
     "start_time": "2024-07-13T18:23:49.492078",
     "status": "completed"
    },
    "tags": []
   },
   "outputs": [
    {
     "data": {
      "application/javascript": [
       "parent.postMessage({\"jupyterEvent\": \"custom.exercise_interaction\", \"data\": {\"interactionType\": 3, \"questionType\": 4, \"questionId\": \"7.2_ThinkSwarm\", \"learnToolsVersion\": \"0.3.4\", \"valueTowardsCompletion\": 0.0, \"failureMessage\": \"\", \"exceptionClass\": \"\", \"trace\": \"\", \"outcomeType\": 4}}, \"*\")"
      ],
      "text/plain": [
       "<IPython.core.display.Javascript object>"
      ]
     },
     "metadata": {},
     "output_type": "display_data"
    },
    {
     "data": {
      "text/markdown": [
       "<span style=\"color:#33cc99\">Solution:</span> In this case, the categorical scatter plot from **Step 7** is the more appropriate plot. While both plots tell the desired story, the plot from **Step 6** conveys far more information that could distract from the main point."
      ],
      "text/plain": [
       "Solution: In this case, the categorical scatter plot from **Step 7** is the more appropriate plot. While both plots tell the desired story, the plot from **Step 6** conveys far more information that could distract from the main point."
      ]
     },
     "metadata": {},
     "output_type": "display_data"
    }
   ],
   "source": [
    "# Check your answer (Run this code cell to receive credit!)\n",
    "step_7.b.solution()"
   ]
  },
  {
   "cell_type": "markdown",
   "id": "012d6896",
   "metadata": {
    "papermill": {
     "duration": 0.017452,
     "end_time": "2024-07-13T18:23:49.556944",
     "exception": false,
     "start_time": "2024-07-13T18:23:49.539492",
     "status": "completed"
    },
    "tags": []
   },
   "source": [
    "## Keep going\n",
    "\n",
    "Explore **[histograms and density plots](https://www.kaggle.com/alexisbcook/distributions)**."
   ]
  },
  {
   "cell_type": "markdown",
   "id": "8839a051",
   "metadata": {
    "papermill": {
     "duration": 0.017219,
     "end_time": "2024-07-13T18:23:49.591523",
     "exception": false,
     "start_time": "2024-07-13T18:23:49.574304",
     "status": "completed"
    },
    "tags": []
   },
   "source": [
    "---\n",
    "\n",
    "\n",
    "\n",
    "\n",
    "*Have questions or comments? Visit the [course discussion forum](https://www.kaggle.com/learn/data-visualization/discussion) to chat with other learners.*"
   ]
  }
 ],
 "metadata": {
  "kaggle": {
   "accelerator": "none",
   "dataSources": [
    {
     "datasetId": 116573,
     "sourceId": 3551030,
     "sourceType": "datasetVersion"
    }
   ],
   "isGpuEnabled": false,
   "isInternetEnabled": false,
   "language": "python",
   "sourceType": "notebook"
  },
  "kernelspec": {
   "display_name": "Python 3",
   "language": "python",
   "name": "python3"
  },
  "language_info": {
   "codemirror_mode": {
    "name": "ipython",
    "version": 3
   },
   "file_extension": ".py",
   "mimetype": "text/x-python",
   "name": "python",
   "nbconvert_exporter": "python",
   "pygments_lexer": "ipython3",
   "version": "3.10.13"
  },
  "papermill": {
   "default_parameters": {},
   "duration": 12.396185,
   "end_time": "2024-07-13T18:23:50.335008",
   "environment_variables": {},
   "exception": null,
   "input_path": "__notebook__.ipynb",
   "output_path": "__notebook__.ipynb",
   "parameters": {},
   "start_time": "2024-07-13T18:23:37.938823",
   "version": "2.5.0"
  }
 },
 "nbformat": 4,
 "nbformat_minor": 5
}
