{
 "cells": [
  {
   "cell_type": "markdown",
   "id": "7a739693",
   "metadata": {
    "papermill": {
     "duration": 0.003929,
     "end_time": "2024-06-17T17:55:24.755405",
     "exception": false,
     "start_time": "2024-06-17T17:55:24.751476",
     "status": "completed"
    },
    "tags": []
   },
   "source": [
    "**This notebook is an exercise in the [Introduction to Machine Learning](https://www.kaggle.com/learn/intro-to-machine-learning) course.  You can reference the tutorial at [this link](https://www.kaggle.com/dansbecker/underfitting-and-overfitting).**\n",
    "\n",
    "---\n"
   ]
  },
  {
   "cell_type": "markdown",
   "id": "48ee1e00",
   "metadata": {
    "papermill": {
     "duration": 0.003064,
     "end_time": "2024-06-17T17:55:24.762131",
     "exception": false,
     "start_time": "2024-06-17T17:55:24.759067",
     "status": "completed"
    },
    "tags": []
   },
   "source": [
    "## Recap\n",
    "You've built your first model, and now it's time to optimize the size of the tree to make better predictions. Run this cell to set up your coding environment where the previous step left off."
   ]
  },
  {
   "cell_type": "code",
   "execution_count": 1,
   "id": "cfe23e99",
   "metadata": {
    "execution": {
     "iopub.execute_input": "2024-06-17T17:55:24.770841Z",
     "iopub.status.busy": "2024-06-17T17:55:24.770072Z",
     "iopub.status.idle": "2024-06-17T17:55:27.384584Z",
     "shell.execute_reply": "2024-06-17T17:55:27.383385Z"
    },
    "papermill": {
     "duration": 2.621794,
     "end_time": "2024-06-17T17:55:27.387133",
     "exception": false,
     "start_time": "2024-06-17T17:55:24.765339",
     "status": "completed"
    },
    "tags": []
   },
   "outputs": [
    {
     "name": "stdout",
     "output_type": "stream",
     "text": [
      "Validation MAE: 29,653\n",
      "\n",
      "Setup complete\n"
     ]
    }
   ],
   "source": [
    "# Code you have previously used to load data\n",
    "import pandas as pd\n",
    "from sklearn.metrics import mean_absolute_error\n",
    "from sklearn.model_selection import train_test_split\n",
    "from sklearn.tree import DecisionTreeRegressor\n",
    "\n",
    "\n",
    "# Path of the file to read\n",
    "iowa_file_path = '../input/home-data-for-ml-course/train.csv'\n",
    "\n",
    "home_data = pd.read_csv(iowa_file_path)\n",
    "# Create target object and call it y\n",
    "y = home_data.SalePrice\n",
    "# Create X\n",
    "features = ['LotArea', 'YearBuilt', '1stFlrSF', '2ndFlrSF', 'FullBath', 'BedroomAbvGr', 'TotRmsAbvGrd']\n",
    "X = home_data[features]\n",
    "\n",
    "# Split into validation and training data\n",
    "train_X, val_X, train_y, val_y = train_test_split(X, y, random_state=1)\n",
    "\n",
    "# Specify Model\n",
    "iowa_model = DecisionTreeRegressor(random_state=1)\n",
    "# Fit Model\n",
    "iowa_model.fit(train_X, train_y)\n",
    "\n",
    "# Make validation predictions and calculate mean absolute error\n",
    "val_predictions = iowa_model.predict(val_X)\n",
    "val_mae = mean_absolute_error(val_predictions, val_y)\n",
    "print(\"Validation MAE: {:,.0f}\".format(val_mae))\n",
    "\n",
    "# Set up code checking\n",
    "from learntools.core import binder\n",
    "binder.bind(globals())\n",
    "from learntools.machine_learning.ex5 import *\n",
    "print(\"\\nSetup complete\")"
   ]
  },
  {
   "cell_type": "markdown",
   "id": "fb3cb510",
   "metadata": {
    "papermill": {
     "duration": 0.003472,
     "end_time": "2024-06-17T17:55:27.394281",
     "exception": false,
     "start_time": "2024-06-17T17:55:27.390809",
     "status": "completed"
    },
    "tags": []
   },
   "source": [
    "# Exercises\n",
    "You could write the function `get_mae` yourself. For now, we'll supply it. This is the same function you read about in the previous lesson. Just run the cell below."
   ]
  },
  {
   "cell_type": "code",
   "execution_count": 2,
   "id": "4d519309",
   "metadata": {
    "execution": {
     "iopub.execute_input": "2024-06-17T17:55:27.402776Z",
     "iopub.status.busy": "2024-06-17T17:55:27.402373Z",
     "iopub.status.idle": "2024-06-17T17:55:27.408414Z",
     "shell.execute_reply": "2024-06-17T17:55:27.407335Z"
    },
    "papermill": {
     "duration": 0.013153,
     "end_time": "2024-06-17T17:55:27.410828",
     "exception": false,
     "start_time": "2024-06-17T17:55:27.397675",
     "status": "completed"
    },
    "tags": []
   },
   "outputs": [],
   "source": [
    "def get_mae(max_leaf_nodes, train_X, val_X, train_y, val_y):\n",
    "    model = DecisionTreeRegressor(max_leaf_nodes=max_leaf_nodes, random_state=0)\n",
    "    model.fit(train_X, train_y)\n",
    "    preds_val = model.predict(val_X)\n",
    "    mae = mean_absolute_error(val_y, preds_val)\n",
    "    return(mae)"
   ]
  },
  {
   "cell_type": "markdown",
   "id": "3ff84010",
   "metadata": {
    "papermill": {
     "duration": 0.003324,
     "end_time": "2024-06-17T17:55:27.417865",
     "exception": false,
     "start_time": "2024-06-17T17:55:27.414541",
     "status": "completed"
    },
    "tags": []
   },
   "source": [
    "## Step 1: Compare Different Tree Sizes\n",
    "Write a loop that tries the following values for *max_leaf_nodes* from a set of possible values.\n",
    "\n",
    "Call the *get_mae* function on each value of max_leaf_nodes. Store the output in some way that allows you to select the value of `max_leaf_nodes` that gives the most accurate model on your data."
   ]
  },
  {
   "cell_type": "code",
   "execution_count": 3,
   "id": "60d8dcad",
   "metadata": {
    "execution": {
     "iopub.execute_input": "2024-06-17T17:55:27.426504Z",
     "iopub.status.busy": "2024-06-17T17:55:27.426126Z",
     "iopub.status.idle": "2024-06-17T17:55:27.555387Z",
     "shell.execute_reply": "2024-06-17T17:55:27.554421Z"
    },
    "papermill": {
     "duration": 0.13619,
     "end_time": "2024-06-17T17:55:27.557619",
     "exception": false,
     "start_time": "2024-06-17T17:55:27.421429",
     "status": "completed"
    },
    "tags": []
   },
   "outputs": [
    {
     "name": "stdout",
     "output_type": "stream",
     "text": [
      "Best tree size: 100\n"
     ]
    },
    {
     "data": {
      "application/javascript": [
       "parent.postMessage({\"jupyterEvent\": \"custom.exercise_interaction\", \"data\": {\"outcomeType\": 1, \"valueTowardsCompletion\": 0.5, \"interactionType\": 1, \"questionType\": 1, \"questionId\": \"1_BestTreeSize\", \"learnToolsVersion\": \"0.3.4\", \"failureMessage\": \"\", \"exceptionClass\": \"\", \"trace\": \"\"}}, \"*\")"
      ],
      "text/plain": [
       "<IPython.core.display.Javascript object>"
      ]
     },
     "metadata": {},
     "output_type": "display_data"
    },
    {
     "data": {
      "text/markdown": [
       "<span style=\"color:#33cc33\">Correct</span>"
      ],
      "text/plain": [
       "Correct"
      ]
     },
     "metadata": {},
     "output_type": "display_data"
    }
   ],
   "source": [
    "# Function to get the mean absolute error for a given max_leaf_nodes value\n",
    "def get_mae(max_leaf_nodes, train_X, val_X, train_y, val_y):\n",
    "    model = DecisionTreeRegressor(max_leaf_nodes=max_leaf_nodes, random_state=0)\n",
    "    model.fit(train_X, train_y)\n",
    "    preds_val = model.predict(val_X)\n",
    "    mae = mean_absolute_error(val_y, preds_val)\n",
    "    return mae\n",
    "\n",
    "# Candidate values for max_leaf_nodes\n",
    "candidate_max_leaf_nodes = [5, 25, 50, 100, 250, 500]\n",
    "\n",
    "# Write loop to find the ideal tree size from candidate_max_leaf_nodes\n",
    "mae_values = {max_leaf_nodes: get_mae(max_leaf_nodes, train_X, val_X, train_y, val_y)\n",
    "              for max_leaf_nodes in candidate_max_leaf_nodes}\n",
    "\n",
    "# Store the best value of max_leaf_nodes\n",
    "best_tree_size = min(mae_values, key=mae_values.get)\n",
    "\n",
    "print(f\"Best tree size: {best_tree_size}\")\n",
    "\n",
    "# Check your answer\n",
    "step_1.check()\n"
   ]
  },
  {
   "cell_type": "code",
   "execution_count": 4,
   "id": "bb61d14b",
   "metadata": {
    "execution": {
     "iopub.execute_input": "2024-06-17T17:55:27.566892Z",
     "iopub.status.busy": "2024-06-17T17:55:27.566516Z",
     "iopub.status.idle": "2024-06-17T17:55:27.570849Z",
     "shell.execute_reply": "2024-06-17T17:55:27.569827Z"
    },
    "papermill": {
     "duration": 0.011491,
     "end_time": "2024-06-17T17:55:27.573040",
     "exception": false,
     "start_time": "2024-06-17T17:55:27.561549",
     "status": "completed"
    },
    "tags": []
   },
   "outputs": [],
   "source": [
    "# The lines below will show you a hint or the solution.\n",
    "# step_1.hint() \n",
    "# step_1.solution()"
   ]
  },
  {
   "cell_type": "markdown",
   "id": "b3312330",
   "metadata": {
    "papermill": {
     "duration": 0.003957,
     "end_time": "2024-06-17T17:55:27.580917",
     "exception": false,
     "start_time": "2024-06-17T17:55:27.576960",
     "status": "completed"
    },
    "tags": []
   },
   "source": [
    "## Step 2: Fit Model Using All Data\n",
    "You know the best tree size. If you were going to deploy this model in practice, you would make it even more accurate by using all of the data and keeping that tree size.  That is, you don't need to hold out the validation data now that you've made all your modeling decisions."
   ]
  },
  {
   "cell_type": "code",
   "execution_count": 5,
   "id": "2c2af302",
   "metadata": {
    "execution": {
     "iopub.execute_input": "2024-06-17T17:55:27.590411Z",
     "iopub.status.busy": "2024-06-17T17:55:27.590021Z",
     "iopub.status.idle": "2024-06-17T17:55:27.606227Z",
     "shell.execute_reply": "2024-06-17T17:55:27.605237Z"
    },
    "papermill": {
     "duration": 0.02388,
     "end_time": "2024-06-17T17:55:27.608678",
     "exception": false,
     "start_time": "2024-06-17T17:55:27.584798",
     "status": "completed"
    },
    "tags": []
   },
   "outputs": [
    {
     "data": {
      "application/javascript": [
       "parent.postMessage({\"jupyterEvent\": \"custom.exercise_interaction\", \"data\": {\"outcomeType\": 1, \"valueTowardsCompletion\": 0.5, \"interactionType\": 1, \"questionType\": 2, \"questionId\": \"2_FitModelWithAllData\", \"learnToolsVersion\": \"0.3.4\", \"failureMessage\": \"\", \"exceptionClass\": \"\", \"trace\": \"\"}}, \"*\")"
      ],
      "text/plain": [
       "<IPython.core.display.Javascript object>"
      ]
     },
     "metadata": {},
     "output_type": "display_data"
    },
    {
     "data": {
      "text/markdown": [
       "<span style=\"color:#33cc33\">Correct</span>"
      ],
      "text/plain": [
       "Correct"
      ]
     },
     "metadata": {},
     "output_type": "display_data"
    }
   ],
   "source": [
    "# Fill in argument to make optimal size and uncomment\n",
    "final_model = DecisionTreeRegressor(max_leaf_nodes=best_tree_size, random_state=1)\n",
    "\n",
    "# Fit the final model and uncomment the next two lines\n",
    "final_model.fit(X, y)\n",
    "\n",
    "# Check your answer\n",
    "step_2.check()\n"
   ]
  },
  {
   "cell_type": "code",
   "execution_count": 6,
   "id": "2f812b21",
   "metadata": {
    "execution": {
     "iopub.execute_input": "2024-06-17T17:55:27.618865Z",
     "iopub.status.busy": "2024-06-17T17:55:27.618466Z",
     "iopub.status.idle": "2024-06-17T17:55:27.622883Z",
     "shell.execute_reply": "2024-06-17T17:55:27.621830Z"
    },
    "papermill": {
     "duration": 0.012237,
     "end_time": "2024-06-17T17:55:27.625162",
     "exception": false,
     "start_time": "2024-06-17T17:55:27.612925",
     "status": "completed"
    },
    "tags": []
   },
   "outputs": [],
   "source": [
    "# step_2.hint()\n",
    "# step_2.solution()"
   ]
  },
  {
   "cell_type": "markdown",
   "id": "2f2c35f7",
   "metadata": {
    "papermill": {
     "duration": 0.003937,
     "end_time": "2024-06-17T17:55:27.633482",
     "exception": false,
     "start_time": "2024-06-17T17:55:27.629545",
     "status": "completed"
    },
    "tags": []
   },
   "source": [
    "You've tuned this model and improved your results. But we are still using Decision Tree models, which are not very sophisticated by modern machine learning standards. In the next step you will learn to use Random Forests to improve your models even more.\n",
    "\n",
    "# Keep Going\n",
    "\n",
    "You are ready for **[Random Forests](https://www.kaggle.com/dansbecker/random-forests).**\n"
   ]
  },
  {
   "cell_type": "markdown",
   "id": "50382378",
   "metadata": {
    "papermill": {
     "duration": 0.003777,
     "end_time": "2024-06-17T17:55:27.641334",
     "exception": false,
     "start_time": "2024-06-17T17:55:27.637557",
     "status": "completed"
    },
    "tags": []
   },
   "source": [
    "---\n",
    "\n",
    "\n",
    "\n",
    "\n",
    "*Have questions or comments? Visit the [course discussion forum](https://www.kaggle.com/learn/intro-to-machine-learning/discussion) to chat with other learners.*"
   ]
  }
 ],
 "metadata": {
  "kaggle": {
   "accelerator": "none",
   "dataSources": [
    {
     "databundleVersionId": 111096,
     "sourceId": 10211,
     "sourceType": "competition"
    },
    {
     "datasetId": 11167,
     "sourceId": 15520,
     "sourceType": "datasetVersion"
    },
    {
     "datasetId": 2709,
     "sourceId": 38454,
     "sourceType": "datasetVersion"
    }
   ],
   "isGpuEnabled": false,
   "isInternetEnabled": false,
   "language": "python",
   "sourceType": "notebook"
  },
  "kernelspec": {
   "display_name": "Python 3",
   "language": "python",
   "name": "python3"
  },
  "language_info": {
   "codemirror_mode": {
    "name": "ipython",
    "version": 3
   },
   "file_extension": ".py",
   "mimetype": "text/x-python",
   "name": "python",
   "nbconvert_exporter": "python",
   "pygments_lexer": "ipython3",
   "version": "3.10.13"
  },
  "papermill": {
   "default_parameters": {},
   "duration": 6.525352,
   "end_time": "2024-06-17T17:55:28.266884",
   "environment_variables": {},
   "exception": null,
   "input_path": "__notebook__.ipynb",
   "output_path": "__notebook__.ipynb",
   "parameters": {},
   "start_time": "2024-06-17T17:55:21.741532",
   "version": "2.5.0"
  }
 },
 "nbformat": 4,
 "nbformat_minor": 5
}
