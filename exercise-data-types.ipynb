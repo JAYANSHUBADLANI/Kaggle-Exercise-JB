{
 "cells": [
  {
   "cell_type": "markdown",
   "id": "4438c842",
   "metadata": {
    "papermill": {
     "duration": 0.009344,
     "end_time": "2024-06-02T05:07:57.245452",
     "exception": false,
     "start_time": "2024-06-02T05:07:57.236108",
     "status": "completed"
    },
    "tags": []
   },
   "source": [
    "**This notebook is an exercise in the [Intro to Programming](https://www.kaggle.com/learn/intro-to-programming) course.  You can reference the tutorial at [this link](https://www.kaggle.com/alexisbcook/data-types).**\n",
    "\n",
    "---\n"
   ]
  },
  {
   "cell_type": "markdown",
   "id": "82bfd2f3",
   "metadata": {
    "papermill": {
     "duration": 0.008786,
     "end_time": "2024-06-02T05:07:57.263018",
     "exception": false,
     "start_time": "2024-06-02T05:07:57.254232",
     "status": "completed"
    },
    "tags": []
   },
   "source": [
    "In the tutorial, you learned about four different data types: floats, integers, strings, and booleans.  In this exercise, you'll experiment with them.\n",
    "\n",
    "# Set up the notebook\n",
    "\n",
    "Run the next code cell without changes to set up the notebook."
   ]
  },
  {
   "cell_type": "code",
   "execution_count": 1,
   "id": "c3b4cddf",
   "metadata": {
    "execution": {
     "iopub.execute_input": "2024-06-02T05:07:57.281998Z",
     "iopub.status.busy": "2024-06-02T05:07:57.281601Z",
     "iopub.status.idle": "2024-06-02T05:07:58.290767Z",
     "shell.execute_reply": "2024-06-02T05:07:58.289282Z"
    },
    "papermill": {
     "duration": 1.021775,
     "end_time": "2024-06-02T05:07:58.293489",
     "exception": false,
     "start_time": "2024-06-02T05:07:57.271714",
     "status": "completed"
    },
    "tags": []
   },
   "outputs": [
    {
     "name": "stdout",
     "output_type": "stream",
     "text": [
      "Setup complete.\n"
     ]
    }
   ],
   "source": [
    "# Set up the exercise\n",
    "from learntools.core import binder\n",
    "binder.bind(globals())\n",
    "from learntools.intro_to_programming.ex3 import *\n",
    "print('Setup complete.')"
   ]
  },
  {
   "cell_type": "markdown",
   "id": "35ddb873",
   "metadata": {
    "papermill": {
     "duration": 0.008301,
     "end_time": "2024-06-02T05:07:58.310541",
     "exception": false,
     "start_time": "2024-06-02T05:07:58.302240",
     "status": "completed"
    },
    "tags": []
   },
   "source": [
    "# Question 1\n",
    "\n",
    "You have seen how to convert a float to an integer with the `int` function.  Try this out yourself by running the code cell below."
   ]
  },
  {
   "cell_type": "code",
   "execution_count": 2,
   "id": "1f55691b",
   "metadata": {
    "execution": {
     "iopub.execute_input": "2024-06-02T05:07:58.330215Z",
     "iopub.status.busy": "2024-06-02T05:07:58.329273Z",
     "iopub.status.idle": "2024-06-02T05:07:58.341721Z",
     "shell.execute_reply": "2024-06-02T05:07:58.340624Z"
    },
    "papermill": {
     "duration": 0.025003,
     "end_time": "2024-06-02T05:07:58.344099",
     "exception": false,
     "start_time": "2024-06-02T05:07:58.319096",
     "status": "completed"
    },
    "tags": []
   },
   "outputs": [
    {
     "name": "stdout",
     "output_type": "stream",
     "text": [
      "1.0\n",
      "<class 'float'>\n",
      "1\n",
      "<class 'int'>\n"
     ]
    },
    {
     "data": {
      "application/javascript": [
       "parent.postMessage({\"jupyterEvent\": \"custom.exercise_interaction\", \"data\": {\"outcomeType\": 1, \"valueTowardsCompletion\": 0.2, \"interactionType\": 1, \"questionType\": 4, \"questionId\": \"1_FloatToInt\", \"learnToolsVersion\": \"0.3.4\", \"failureMessage\": \"\", \"exceptionClass\": \"\", \"trace\": \"\"}}, \"*\")"
      ],
      "text/plain": [
       "<IPython.core.display.Javascript object>"
      ]
     },
     "metadata": {},
     "output_type": "display_data"
    },
    {
     "data": {
      "text/markdown": [
       "<span style=\"color:#33cc33\">Correct:</span> \n",
       "\n",
       "Negative floats are always rounded UP to the closest integer (for instance, both -1.1 and -1.9 are rounded up to -1). Positive floats are always rounded DOWN to the closest integer (for instance, 2.1 and 2.9 are rounded down to 2)."
      ],
      "text/plain": [
       "Correct: \n",
       "\n",
       "Negative floats are always rounded UP to the closest integer (for instance, both -1.1 and -1.9 are rounded up to -1). Positive floats are always rounded DOWN to the closest integer (for instance, 2.1 and 2.9 are rounded down to 2)."
      ]
     },
     "metadata": {},
     "output_type": "display_data"
    }
   ],
   "source": [
    "# Define a float\n",
    "y = 1.\n",
    "print(y)\n",
    "print(type(y))\n",
    "\n",
    "# Convert float to integer with the int function\n",
    "z = int(y)\n",
    "print(z)\n",
    "print(type(z))\n",
    "\n",
    "q1.check()"
   ]
  },
  {
   "cell_type": "markdown",
   "id": "b8130289",
   "metadata": {
    "papermill": {
     "duration": 0.008821,
     "end_time": "2024-06-02T05:07:58.361948",
     "exception": false,
     "start_time": "2024-06-02T05:07:58.353127",
     "status": "completed"
    },
    "tags": []
   },
   "source": [
    "In this case, the float you are using has no numbers after the decimal.  \n",
    "- But what happens when you try to convert a float with a fractional part to an integer?  \n",
    "- How does the outcome of the `int` function change for positive and negative numbers?\n",
    "\n",
    "Use the next code cell to investigate and answer these questions.  Feel free to add or remove any lines of code -- it is your workspace!"
   ]
  },
  {
   "cell_type": "code",
   "execution_count": 3,
   "id": "1c27e390",
   "metadata": {
    "execution": {
     "iopub.execute_input": "2024-06-02T05:07:58.382068Z",
     "iopub.status.busy": "2024-06-02T05:07:58.381427Z",
     "iopub.status.idle": "2024-06-02T05:07:58.385827Z",
     "shell.execute_reply": "2024-06-02T05:07:58.385038Z"
    },
    "papermill": {
     "duration": 0.017007,
     "end_time": "2024-06-02T05:07:58.388004",
     "exception": false,
     "start_time": "2024-06-02T05:07:58.370997",
     "status": "completed"
    },
    "tags": []
   },
   "outputs": [],
   "source": [
    "# Uncomment and run this code to get started!\n",
    "#print(int(1.2321))\n",
    "#print(int(1.747))\n",
    "#print(int(-3.94535))\n",
    "#print(int(-2.19774))"
   ]
  },
  {
   "cell_type": "markdown",
   "id": "290e510d",
   "metadata": {
    "papermill": {
     "duration": 0.008696,
     "end_time": "2024-06-02T05:07:58.405805",
     "exception": false,
     "start_time": "2024-06-02T05:07:58.397109",
     "status": "completed"
    },
    "tags": []
   },
   "source": [
    "Once you have an answer, run the code cell below to see the solution.  Viewing the solution will give you credit for answering the problem."
   ]
  },
  {
   "cell_type": "code",
   "execution_count": 4,
   "id": "2e924490",
   "metadata": {
    "execution": {
     "iopub.execute_input": "2024-06-02T05:07:58.426086Z",
     "iopub.status.busy": "2024-06-02T05:07:58.425432Z",
     "iopub.status.idle": "2024-06-02T05:07:58.436467Z",
     "shell.execute_reply": "2024-06-02T05:07:58.435285Z"
    },
    "papermill": {
     "duration": 0.024071,
     "end_time": "2024-06-02T05:07:58.438848",
     "exception": false,
     "start_time": "2024-06-02T05:07:58.414777",
     "status": "completed"
    },
    "tags": []
   },
   "outputs": [
    {
     "name": "stdout",
     "output_type": "stream",
     "text": [
      "1.0\n",
      "<class 'float'>\n",
      "1\n",
      "<class 'int'>\n"
     ]
    },
    {
     "data": {
      "application/javascript": [
       "parent.postMessage({\"jupyterEvent\": \"custom.exercise_interaction\", \"data\": {\"outcomeType\": 1, \"valueTowardsCompletion\": 0.2, \"interactionType\": 1, \"questionType\": 4, \"questionId\": \"1_FloatToInt\", \"learnToolsVersion\": \"0.3.4\", \"failureMessage\": \"\", \"exceptionClass\": \"\", \"trace\": \"\"}}, \"*\")"
      ],
      "text/plain": [
       "<IPython.core.display.Javascript object>"
      ]
     },
     "metadata": {},
     "output_type": "display_data"
    },
    {
     "data": {
      "text/markdown": [
       "<span style=\"color:#33cc33\">Correct:</span> \n",
       "\n",
       "Negative floats are always rounded UP to the closest integer (for instance, both -1.1 and -1.9 are rounded up to -1). Positive floats are always rounded DOWN to the closest integer (for instance, 2.1 and 2.9 are rounded down to 2)."
      ],
      "text/plain": [
       "Correct: \n",
       "\n",
       "Negative floats are always rounded UP to the closest integer (for instance, both -1.1 and -1.9 are rounded up to -1). Positive floats are always rounded DOWN to the closest integer (for instance, 2.1 and 2.9 are rounded down to 2)."
      ]
     },
     "metadata": {},
     "output_type": "display_data"
    }
   ],
   "source": [
    "# Define a float\n",
    "y = 1.\n",
    "print(y)\n",
    "print(type(y))\n",
    "\n",
    "# Convert float to integer with the int function\n",
    "z = int(y)\n",
    "print(z)\n",
    "print(type(z))\n",
    "\n",
    "q1.check()"
   ]
  },
  {
   "cell_type": "markdown",
   "id": "e20f8d55",
   "metadata": {
    "papermill": {
     "duration": 0.009186,
     "end_time": "2024-06-02T05:07:58.457543",
     "exception": false,
     "start_time": "2024-06-02T05:07:58.448357",
     "status": "completed"
    },
    "tags": []
   },
   "source": [
    "# Question 2\n",
    "\n",
    "In the tutorial, you learned about booleans (which can take a value of `True` or `False`), in addition to integers, floats, and strings.  For this question, your goal is to determine what happens when you multiply a boolean by any of these data types.  Specifically, \n",
    "- What happens when you multiply an integer or float by `True`?  What happens when you multiply them by `False`?  How does the answer change if the numbers are positive or negative?\n",
    "- What happens when you multiply a string by `True`?  By `False`?\n",
    "\n",
    "Use the next code cell for your investigation. "
   ]
  },
  {
   "cell_type": "code",
   "execution_count": 5,
   "id": "4e3532a5",
   "metadata": {
    "execution": {
     "iopub.execute_input": "2024-06-02T05:07:58.478928Z",
     "iopub.status.busy": "2024-06-02T05:07:58.477997Z",
     "iopub.status.idle": "2024-06-02T05:07:58.490118Z",
     "shell.execute_reply": "2024-06-02T05:07:58.489024Z"
    },
    "papermill": {
     "duration": 0.025485,
     "end_time": "2024-06-02T05:07:58.492539",
     "exception": false,
     "start_time": "2024-06-02T05:07:58.467054",
     "status": "completed"
    },
    "tags": []
   },
   "outputs": [
    {
     "name": "stdout",
     "output_type": "stream",
     "text": [
      "3\n",
      "-3.1\n",
      "<class 'str'>\n",
      "0\n"
     ]
    },
    {
     "data": {
      "application/javascript": [
       "parent.postMessage({\"jupyterEvent\": \"custom.exercise_interaction\", \"data\": {\"outcomeType\": 1, \"valueTowardsCompletion\": 0.2, \"interactionType\": 1, \"questionType\": 4, \"questionId\": \"2_MultiplyBooleans\", \"learnToolsVersion\": \"0.3.4\", \"failureMessage\": \"\", \"exceptionClass\": \"\", \"trace\": \"\"}}, \"*\")"
      ],
      "text/plain": [
       "<IPython.core.display.Javascript object>"
      ]
     },
     "metadata": {},
     "output_type": "display_data"
    },
    {
     "data": {
      "text/markdown": [
       "<span style=\"color:#33cc33\">Correct:</span> \n",
       "\n",
       "When you multiple an integer or float by a boolean with value `True`, it just returns that same integer or float (and is equivalent to multiplying by 1).  If you multiply an integer or float by a boolean with value `False`, it always returns 0.  This is true for both positive and negative numbers.  If you multiply a string by a boolean with value `True`, it just returns that same string.  And if you multiply a string by a boolean with value `False`, it returns an empty string (or a string with length zero)."
      ],
      "text/plain": [
       "Correct: \n",
       "\n",
       "When you multiple an integer or float by a boolean with value `True`, it just returns that same integer or float (and is equivalent to multiplying by 1).  If you multiply an integer or float by a boolean with value `False`, it always returns 0.  This is true for both positive and negative numbers.  If you multiply a string by a boolean with value `True`, it just returns that same string.  And if you multiply a string by a boolean with value `False`, it returns an empty string (or a string with length zero)."
      ]
     },
     "metadata": {},
     "output_type": "display_data"
    }
   ],
   "source": [
    "# Uncomment and run this code to get started!\n",
    "print(3 * True)\n",
    "print(-3.1 * True)\n",
    "print(type(\"abc\" * False))\n",
    "print(len(\"abc\" * False))\n",
    "\n",
    "q2.check()"
   ]
  },
  {
   "cell_type": "markdown",
   "id": "e231e0a4",
   "metadata": {
    "papermill": {
     "duration": 0.009588,
     "end_time": "2024-06-02T05:07:58.512139",
     "exception": false,
     "start_time": "2024-06-02T05:07:58.502551",
     "status": "completed"
    },
    "tags": []
   },
   "source": [
    "Once you have an answer, run the code cell below to see the solution.  Viewing the solution will give you credit for answering the problem."
   ]
  },
  {
   "cell_type": "code",
   "execution_count": 6,
   "id": "ae353287",
   "metadata": {
    "execution": {
     "iopub.execute_input": "2024-06-02T05:07:58.534687Z",
     "iopub.status.busy": "2024-06-02T05:07:58.534318Z",
     "iopub.status.idle": "2024-06-02T05:07:58.543863Z",
     "shell.execute_reply": "2024-06-02T05:07:58.542696Z"
    },
    "papermill": {
     "duration": 0.024229,
     "end_time": "2024-06-02T05:07:58.546418",
     "exception": false,
     "start_time": "2024-06-02T05:07:58.522189",
     "status": "completed"
    },
    "tags": []
   },
   "outputs": [
    {
     "data": {
      "application/javascript": [
       "parent.postMessage({\"jupyterEvent\": \"custom.exercise_interaction\", \"data\": {\"outcomeType\": 1, \"valueTowardsCompletion\": 0.2, \"interactionType\": 1, \"questionType\": 4, \"questionId\": \"2_MultiplyBooleans\", \"learnToolsVersion\": \"0.3.4\", \"failureMessage\": \"\", \"exceptionClass\": \"\", \"trace\": \"\"}}, \"*\")"
      ],
      "text/plain": [
       "<IPython.core.display.Javascript object>"
      ]
     },
     "metadata": {},
     "output_type": "display_data"
    },
    {
     "data": {
      "text/markdown": [
       "<span style=\"color:#33cc33\">Correct:</span> \n",
       "\n",
       "When you multiple an integer or float by a boolean with value `True`, it just returns that same integer or float (and is equivalent to multiplying by 1).  If you multiply an integer or float by a boolean with value `False`, it always returns 0.  This is true for both positive and negative numbers.  If you multiply a string by a boolean with value `True`, it just returns that same string.  And if you multiply a string by a boolean with value `False`, it returns an empty string (or a string with length zero)."
      ],
      "text/plain": [
       "Correct: \n",
       "\n",
       "When you multiple an integer or float by a boolean with value `True`, it just returns that same integer or float (and is equivalent to multiplying by 1).  If you multiply an integer or float by a boolean with value `False`, it always returns 0.  This is true for both positive and negative numbers.  If you multiply a string by a boolean with value `True`, it just returns that same string.  And if you multiply a string by a boolean with value `False`, it returns an empty string (or a string with length zero)."
      ]
     },
     "metadata": {},
     "output_type": "display_data"
    }
   ],
   "source": [
    "# Check your answer (Run this code cell to receive credit!)\n",
    "q2.check()"
   ]
  },
  {
   "cell_type": "markdown",
   "id": "ce4c318d",
   "metadata": {
    "papermill": {
     "duration": 0.01098,
     "end_time": "2024-06-02T05:07:58.567725",
     "exception": false,
     "start_time": "2024-06-02T05:07:58.556745",
     "status": "completed"
    },
    "tags": []
   },
   "source": [
    "# Question 3\n",
    "\n",
    "In this question, you will build off your work from the previous exercise to write a function that estimates the value of a house.\n",
    "\n",
    "Use the next code cell to create a function `get_expected_cost` that takes as input three variables:\n",
    "- `beds` - number of bedrooms (data type float)\n",
    "- `baths` - number of bathrooms (data type float)\n",
    "- `has_basement` - whether or not the house has a basement (data type boolean)\n",
    "\n",
    "It should return the expected cost of a house with those characteristics. Assume that:\n",
    "- the expected cost for a house with 0 bedrooms and 0 bathrooms, and no basement is 80000, \n",
    "- each bedroom adds 30000 to the expected cost,\n",
    "- each bathroom adds 10000 to the expected cost, and\n",
    "- a basement adds 40000 to the expected cost.\n",
    "\n",
    "For instance,\n",
    "- a house with 1 bedroom, 1 bathroom, and no basement has an expected cost of 80000 + 30000 + 10000 = 120000.  This value will be calculated with `get_expected_cost(1, 1, False)`.\n",
    "- a house with 2 bedrooms, 1 bathroom, and a basement has an expected cost of 80000 + 2*30000 + 10000 + 40000 = 190000.  This value will be calculated with `get_expected_cost(2, 1, True)`.\n",
    "\n",
    "Remember you can always get a hint by uncommenting `q3.hint()` in the code cell following the next!"
   ]
  },
  {
   "cell_type": "code",
   "execution_count": 7,
   "id": "9c85bc22",
   "metadata": {
    "execution": {
     "iopub.execute_input": "2024-06-02T05:07:58.590082Z",
     "iopub.status.busy": "2024-06-02T05:07:58.589639Z",
     "iopub.status.idle": "2024-06-02T05:07:58.603239Z",
     "shell.execute_reply": "2024-06-02T05:07:58.602067Z"
    },
    "papermill": {
     "duration": 0.027468,
     "end_time": "2024-06-02T05:07:58.605537",
     "exception": false,
     "start_time": "2024-06-02T05:07:58.578069",
     "status": "completed"
    },
    "tags": []
   },
   "outputs": [
    {
     "name": "stdout",
     "output_type": "stream",
     "text": [
      "120000\n",
      "190000\n",
      "230000\n",
      "120000\n",
      "80000\n"
     ]
    },
    {
     "data": {
      "application/javascript": [
       "parent.postMessage({\"jupyterEvent\": \"custom.exercise_interaction\", \"data\": {\"outcomeType\": 1, \"valueTowardsCompletion\": 0.2, \"interactionType\": 1, \"questionType\": 2, \"questionId\": \"3_EstimateHouseValueBool\", \"learnToolsVersion\": \"0.3.4\", \"failureMessage\": \"\", \"exceptionClass\": \"\", \"trace\": \"\"}}, \"*\")"
      ],
      "text/plain": [
       "<IPython.core.display.Javascript object>"
      ]
     },
     "metadata": {},
     "output_type": "display_data"
    },
    {
     "data": {
      "text/markdown": [
       "<span style=\"color:#33cc33\">Correct</span>"
      ],
      "text/plain": [
       "Correct"
      ]
     },
     "metadata": {},
     "output_type": "display_data"
    }
   ],
   "source": [
    "def get_expected_cost(beds, baths, has_basement):\n",
    "    base_cost = 80000\n",
    "    bed_cost = 30000\n",
    "    bath_cost = 10000\n",
    "    basement_cost = 40000\n",
    "    \n",
    "    total_cost = base_cost + (beds * bed_cost) + (baths * bath_cost)\n",
    "    \n",
    "    if has_basement:\n",
    "        total_cost += basement_cost\n",
    "    \n",
    "    return total_cost\n",
    "\n",
    "# Examples\n",
    "print(get_expected_cost(1, 1, False))  # Expected: 120000\n",
    "print(get_expected_cost(2, 1, True))   # Expected: 190000\n",
    "print(get_expected_cost(3, 2, True))   # Expected: 230000\n",
    "print(get_expected_cost(0, 0, True))   # Expected: 120000\n",
    "print(get_expected_cost(0, 0, False))  # Expected: 80000\n",
    "\n",
    "q3.check()"
   ]
  },
  {
   "cell_type": "code",
   "execution_count": 8,
   "id": "5554016c",
   "metadata": {
    "execution": {
     "iopub.execute_input": "2024-06-02T05:07:58.629127Z",
     "iopub.status.busy": "2024-06-02T05:07:58.628695Z",
     "iopub.status.idle": "2024-06-02T05:07:58.633655Z",
     "shell.execute_reply": "2024-06-02T05:07:58.632460Z"
    },
    "papermill": {
     "duration": 0.019637,
     "end_time": "2024-06-02T05:07:58.636017",
     "exception": false,
     "start_time": "2024-06-02T05:07:58.616380",
     "status": "completed"
    },
    "tags": []
   },
   "outputs": [],
   "source": [
    "# Uncomment to see a hint\n",
    "#q3.hint()\n",
    "\n",
    "# Uncomment to view the solution\n",
    "#q3.solution()"
   ]
  },
  {
   "cell_type": "markdown",
   "id": "f7db2736",
   "metadata": {
    "papermill": {
     "duration": 0.010544,
     "end_time": "2024-06-02T05:07:58.657441",
     "exception": false,
     "start_time": "2024-06-02T05:07:58.646897",
     "status": "completed"
    },
    "tags": []
   },
   "source": [
    "# Question 4\n",
    "\n",
    "We'll continue our study of boolean arithmetic.  For this question, your task is to provide a description of what happpens when you add booleans. \n",
    "\n",
    "Use the next code cell for your investigation.  Feel free to add or remove any lines of code - use it as your workspace!"
   ]
  },
  {
   "cell_type": "code",
   "execution_count": 9,
   "id": "61f3abc8",
   "metadata": {
    "execution": {
     "iopub.execute_input": "2024-06-02T05:07:58.680651Z",
     "iopub.status.busy": "2024-06-02T05:07:58.680239Z",
     "iopub.status.idle": "2024-06-02T05:07:58.686859Z",
     "shell.execute_reply": "2024-06-02T05:07:58.685718Z"
    },
    "papermill": {
     "duration": 0.021215,
     "end_time": "2024-06-02T05:07:58.689385",
     "exception": false,
     "start_time": "2024-06-02T05:07:58.668170",
     "status": "completed"
    },
    "tags": []
   },
   "outputs": [
    {
     "name": "stdout",
     "output_type": "stream",
     "text": [
      "0\n",
      "1\n",
      "1\n",
      "2\n",
      "3\n"
     ]
    }
   ],
   "source": [
    "print(False + False)\n",
    "print(True + False)\n",
    "print(False + True)\n",
    "print(True + True)\n",
    "print(False + True + True + True)"
   ]
  },
  {
   "cell_type": "markdown",
   "id": "6238b67f",
   "metadata": {
    "papermill": {
     "duration": 0.010842,
     "end_time": "2024-06-02T05:07:58.711228",
     "exception": false,
     "start_time": "2024-06-02T05:07:58.700386",
     "status": "completed"
    },
    "tags": []
   },
   "source": [
    "Once you have an answer, run the code cell below to see the solution.  Viewing the solution will give you credit for answering the problem."
   ]
  },
  {
   "cell_type": "code",
   "execution_count": 10,
   "id": "3c82aed7",
   "metadata": {
    "execution": {
     "iopub.execute_input": "2024-06-02T05:07:58.735187Z",
     "iopub.status.busy": "2024-06-02T05:07:58.734786Z",
     "iopub.status.idle": "2024-06-02T05:07:58.743328Z",
     "shell.execute_reply": "2024-06-02T05:07:58.742035Z"
    },
    "papermill": {
     "duration": 0.023721,
     "end_time": "2024-06-02T05:07:58.745889",
     "exception": false,
     "start_time": "2024-06-02T05:07:58.722168",
     "status": "completed"
    },
    "tags": []
   },
   "outputs": [
    {
     "data": {
      "application/javascript": [
       "parent.postMessage({\"jupyterEvent\": \"custom.exercise_interaction\", \"data\": {\"outcomeType\": 1, \"valueTowardsCompletion\": 0.2, \"interactionType\": 1, \"questionType\": 4, \"questionId\": \"4_AddingBooleans\", \"learnToolsVersion\": \"0.3.4\", \"failureMessage\": \"\", \"exceptionClass\": \"\", \"trace\": \"\"}}, \"*\")"
      ],
      "text/plain": [
       "<IPython.core.display.Javascript object>"
      ]
     },
     "metadata": {},
     "output_type": "display_data"
    },
    {
     "data": {
      "text/markdown": [
       "<span style=\"color:#33cc33\">Correct:</span> \n",
       "\n",
       "When you add booleans, adding `False` is equivalent to adding 0, and adding `True` is equivalent to adding 1."
      ],
      "text/plain": [
       "Correct: \n",
       "\n",
       "When you add booleans, adding `False` is equivalent to adding 0, and adding `True` is equivalent to adding 1."
      ]
     },
     "metadata": {},
     "output_type": "display_data"
    }
   ],
   "source": [
    "# Check your answer (Run this code cell to receive credit!)\n",
    "q4.check()"
   ]
  },
  {
   "cell_type": "markdown",
   "id": "927a4fdd",
   "metadata": {
    "papermill": {
     "duration": 0.011217,
     "end_time": "2024-06-02T05:07:58.768739",
     "exception": false,
     "start_time": "2024-06-02T05:07:58.757522",
     "status": "completed"
    },
    "tags": []
   },
   "source": [
    "# 🌶️ Question 5\n",
    "\n",
    "You own an online shop where you sell rings with custom engravings.  You offer both gold plated and solid gold rings.\n",
    "- Gold plated rings have a base cost of \\\\$50, and you charge \\\\$7 per engraved unit.  \n",
    "- Solid gold rings have a base cost of \\\\$100, and you charge \\\\$10 per engraved unit.\n",
    "- Spaces and punctuation are counted as engraved units.\n",
    "\n",
    "Write a function `cost_of_project()` that takes two arguments:\n",
    "- `engraving` - a Python string with the text of the engraving\n",
    "- `solid_gold` - a Boolean that indicates whether the ring is solid gold\n",
    "\n",
    "It should return the cost of the project.  This question should be fairly challenging, and you may need a hint."
   ]
  },
  {
   "cell_type": "code",
   "execution_count": 11,
   "id": "2013a850",
   "metadata": {
    "execution": {
     "iopub.execute_input": "2024-06-02T05:07:58.793555Z",
     "iopub.status.busy": "2024-06-02T05:07:58.793144Z",
     "iopub.status.idle": "2024-06-02T05:07:58.805944Z",
     "shell.execute_reply": "2024-06-02T05:07:58.804736Z"
    },
    "papermill": {
     "duration": 0.028054,
     "end_time": "2024-06-02T05:07:58.808238",
     "exception": false,
     "start_time": "2024-06-02T05:07:58.780184",
     "status": "completed"
    },
    "tags": []
   },
   "outputs": [
    {
     "name": "stdout",
     "output_type": "stream",
     "text": [
      "140\n",
      "99\n",
      "330\n",
      "155\n"
     ]
    },
    {
     "data": {
      "application/javascript": [
       "parent.postMessage({\"jupyterEvent\": \"custom.exercise_interaction\", \"data\": {\"outcomeType\": 1, \"valueTowardsCompletion\": 0.2, \"interactionType\": 1, \"questionType\": 2, \"questionId\": \"5_CustomEngravings\", \"learnToolsVersion\": \"0.3.4\", \"failureMessage\": \"\", \"exceptionClass\": \"\", \"trace\": \"\"}}, \"*\")"
      ],
      "text/plain": [
       "<IPython.core.display.Javascript object>"
      ]
     },
     "metadata": {},
     "output_type": "display_data"
    },
    {
     "data": {
      "text/markdown": [
       "<span style=\"color:#33cc33\">Correct</span>"
      ],
      "text/plain": [
       "Correct"
      ]
     },
     "metadata": {},
     "output_type": "display_data"
    }
   ],
   "source": [
    "def cost_of_project(engraving, solid_gold):\n",
    "    if solid_gold:\n",
    "        base_cost = 100\n",
    "        engraving_cost_per_unit = 10\n",
    "    else:\n",
    "        base_cost = 50\n",
    "        engraving_cost_per_unit = 7\n",
    "    \n",
    "    engraved_units = len(engraving)\n",
    "    engraving_cost = engraved_units * engraving_cost_per_unit\n",
    "    \n",
    "    total_cost = base_cost + engraving_cost\n",
    "    return total_cost\n",
    "\n",
    "# Examples\n",
    "print(cost_of_project(\"Love\", True))  # Expected: 140\n",
    "print(cost_of_project(\"Forever\", False))  # Expected: 99\n",
    "print(cost_of_project(\"To infinity and beyond!\", True))  # Expected: 310\n",
    "print(cost_of_project(\"Happy Birthday!\", False))  # Expected: 155\n",
    "\n",
    "q5.check()"
   ]
  },
  {
   "cell_type": "code",
   "execution_count": 12,
   "id": "fe0ef1a0",
   "metadata": {
    "execution": {
     "iopub.execute_input": "2024-06-02T05:07:58.833395Z",
     "iopub.status.busy": "2024-06-02T05:07:58.833000Z",
     "iopub.status.idle": "2024-06-02T05:07:58.837242Z",
     "shell.execute_reply": "2024-06-02T05:07:58.836335Z"
    },
    "papermill": {
     "duration": 0.019566,
     "end_time": "2024-06-02T05:07:58.839498",
     "exception": false,
     "start_time": "2024-06-02T05:07:58.819932",
     "status": "completed"
    },
    "tags": []
   },
   "outputs": [],
   "source": [
    "# Uncomment to see a hint\n",
    "#q5.hint()\n",
    "\n",
    "# Uncomment to view the solution\n",
    "#q5.solution()"
   ]
  },
  {
   "cell_type": "markdown",
   "id": "24995228",
   "metadata": {
    "papermill": {
     "duration": 0.011366,
     "end_time": "2024-06-02T05:07:58.862685",
     "exception": false,
     "start_time": "2024-06-02T05:07:58.851319",
     "status": "completed"
    },
    "tags": []
   },
   "source": [
    "Run the next code cell to calculate the cost of engraving `Charlie+Denver` on a solid gold ring."
   ]
  },
  {
   "cell_type": "code",
   "execution_count": 13,
   "id": "bbd4c2ae",
   "metadata": {
    "execution": {
     "iopub.execute_input": "2024-06-02T05:07:58.888485Z",
     "iopub.status.busy": "2024-06-02T05:07:58.888103Z",
     "iopub.status.idle": "2024-06-02T05:07:58.899146Z",
     "shell.execute_reply": "2024-06-02T05:07:58.897964Z"
    },
    "papermill": {
     "duration": 0.027125,
     "end_time": "2024-06-02T05:07:58.901889",
     "exception": false,
     "start_time": "2024-06-02T05:07:58.874764",
     "status": "completed"
    },
    "tags": []
   },
   "outputs": [
    {
     "data": {
      "application/javascript": [
       "parent.postMessage({\"jupyterEvent\": \"custom.exercise_interaction\", \"data\": {\"outcomeType\": 1, \"valueTowardsCompletion\": 0.2, \"interactionType\": 1, \"questionType\": 2, \"questionId\": \"5_CustomEngravings\", \"learnToolsVersion\": \"0.3.4\", \"failureMessage\": \"\", \"exceptionClass\": \"\", \"trace\": \"\"}}, \"*\")"
      ],
      "text/plain": [
       "<IPython.core.display.Javascript object>"
      ]
     },
     "metadata": {},
     "output_type": "display_data"
    },
    {
     "data": {
      "text/markdown": [
       "<span style=\"color:#33cc33\">Correct</span>"
      ],
      "text/plain": [
       "Correct"
      ]
     },
     "metadata": {},
     "output_type": "display_data"
    }
   ],
   "source": [
    "# Redefine the function and run the calculation in a single block\n",
    "def cost_of_project(engraving, solid_gold):\n",
    "    if solid_gold:\n",
    "        base_cost = 100\n",
    "        engraving_cost_per_unit = 10\n",
    "    else:\n",
    "        base_cost = 50\n",
    "        engraving_cost_per_unit = 7\n",
    "    \n",
    "    engraved_units = len(engraving)\n",
    "    engraving_cost = engraved_units * engraving_cost_per_unit\n",
    "    \n",
    "    total_cost = base_cost + engraving_cost\n",
    "    return total_cost\n",
    "\n",
    "# Calculate the cost of engraving \"Charlie+Denver\" on a solid gold ring\n",
    "engraving_text = \"Charlie+Denver\"\n",
    "is_solid_gold = True\n",
    "\n",
    "cost = cost_of_project(engraving_text, is_solid_gold)\n",
    "cost\n",
    "\n",
    "q5.check()"
   ]
  },
  {
   "cell_type": "markdown",
   "id": "aedf5ff8",
   "metadata": {
    "papermill": {
     "duration": 0.011904,
     "end_time": "2024-06-02T05:07:58.925850",
     "exception": false,
     "start_time": "2024-06-02T05:07:58.913946",
     "status": "completed"
    },
    "tags": []
   },
   "source": [
    "Use the next code cell to calculate the cost of engraving `08/10/2000` on a gold plated ring."
   ]
  },
  {
   "cell_type": "code",
   "execution_count": 14,
   "id": "a7e9e856",
   "metadata": {
    "execution": {
     "iopub.execute_input": "2024-06-02T05:07:58.951878Z",
     "iopub.status.busy": "2024-06-02T05:07:58.951505Z",
     "iopub.status.idle": "2024-06-02T05:07:58.964244Z",
     "shell.execute_reply": "2024-06-02T05:07:58.963060Z"
    },
    "papermill": {
     "duration": 0.029715,
     "end_time": "2024-06-02T05:07:58.967578",
     "exception": false,
     "start_time": "2024-06-02T05:07:58.937863",
     "status": "completed"
    },
    "tags": []
   },
   "outputs": [
    {
     "name": "stdout",
     "output_type": "stream",
     "text": [
      "The cost of engraving '08/10/2000' on a gold plated ring is: $120\n"
     ]
    },
    {
     "data": {
      "application/javascript": [
       "parent.postMessage({\"jupyterEvent\": \"custom.exercise_interaction\", \"data\": {\"outcomeType\": 1, \"valueTowardsCompletion\": 0.2, \"interactionType\": 1, \"questionType\": 2, \"questionId\": \"5_CustomEngravings\", \"learnToolsVersion\": \"0.3.4\", \"failureMessage\": \"\", \"exceptionClass\": \"\", \"trace\": \"\"}}, \"*\")"
      ],
      "text/plain": [
       "<IPython.core.display.Javascript object>"
      ]
     },
     "metadata": {},
     "output_type": "display_data"
    },
    {
     "data": {
      "text/markdown": [
       "<span style=\"color:#33cc33\">Correct</span>"
      ],
      "text/plain": [
       "Correct"
      ]
     },
     "metadata": {},
     "output_type": "display_data"
    }
   ],
   "source": [
    "# Redefine the function and calculate the cost\n",
    "\n",
    "def cost_of_project(engraving, solid_gold):\n",
    "    if solid_gold:\n",
    "        base_cost = 100\n",
    "        engraving_cost_per_unit = 10\n",
    "    else:\n",
    "        base_cost = 50\n",
    "        engraving_cost_per_unit = 7\n",
    "    \n",
    "    engraved_units = len(engraving)\n",
    "    engraving_cost = engraved_units * engraving_cost_per_unit\n",
    "    \n",
    "    total_cost = base_cost + engraving_cost\n",
    "    return total_cost\n",
    "\n",
    "# Calculate the cost of engraving \"08/10/2000\" on a gold plated ring\n",
    "engraving_text = \"08/10/2000\"\n",
    "is_solid_gold = False\n",
    "\n",
    "cost = cost_of_project(engraving_text, is_solid_gold)\n",
    "print(f\"The cost of engraving '08/10/2000' on a gold plated ring is: ${cost}\")\n",
    "\n",
    "q5.check()"
   ]
  },
  {
   "cell_type": "markdown",
   "id": "775e002a",
   "metadata": {
    "papermill": {
     "duration": 0.012292,
     "end_time": "2024-06-02T05:07:58.992521",
     "exception": false,
     "start_time": "2024-06-02T05:07:58.980229",
     "status": "completed"
    },
    "tags": []
   },
   "source": [
    "# Keep going\n",
    "\n",
    "Continue to the next lesson to **[learn about conditions and conditional statements](https://www.kaggle.com/alexisbcook/conditions-and-conditional-statements)**."
   ]
  },
  {
   "cell_type": "markdown",
   "id": "da6a2d50",
   "metadata": {
    "papermill": {
     "duration": 0.01233,
     "end_time": "2024-06-02T05:07:59.017428",
     "exception": false,
     "start_time": "2024-06-02T05:07:59.005098",
     "status": "completed"
    },
    "tags": []
   },
   "source": [
    "---\n",
    "\n",
    "\n",
    "\n",
    "\n",
    "*Have questions or comments? Visit the [course discussion forum](https://www.kaggle.com/learn/intro-to-programming/discussion) to chat with other learners.*"
   ]
  }
 ],
 "metadata": {
  "kaggle": {
   "accelerator": "none",
   "dataSources": [],
   "isGpuEnabled": false,
   "isInternetEnabled": false,
   "language": "python",
   "sourceType": "notebook"
  },
  "kernelspec": {
   "display_name": "Python 3",
   "language": "python",
   "name": "python3"
  },
  "language_info": {
   "codemirror_mode": {
    "name": "ipython",
    "version": 3
   },
   "file_extension": ".py",
   "mimetype": "text/x-python",
   "name": "python",
   "nbconvert_exporter": "python",
   "pygments_lexer": "ipython3",
   "version": "3.10.13"
  },
  "papermill": {
   "default_parameters": {},
   "duration": 8.168231,
   "end_time": "2024-06-02T05:08:02.265912",
   "environment_variables": {},
   "exception": null,
   "input_path": "__notebook__.ipynb",
   "output_path": "__notebook__.ipynb",
   "parameters": {},
   "start_time": "2024-06-02T05:07:54.097681",
   "version": "2.3.3"
  }
 },
 "nbformat": 4,
 "nbformat_minor": 5
}
