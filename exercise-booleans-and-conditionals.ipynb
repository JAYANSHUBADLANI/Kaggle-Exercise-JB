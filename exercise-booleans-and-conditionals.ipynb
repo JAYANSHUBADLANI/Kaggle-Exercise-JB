{
 "cells": [
  {
   "cell_type": "markdown",
   "id": "7a555401",
   "metadata": {
    "papermill": {
     "duration": 0.008853,
     "end_time": "2024-06-02T11:57:45.233237",
     "exception": false,
     "start_time": "2024-06-02T11:57:45.224384",
     "status": "completed"
    },
    "tags": []
   },
   "source": [
    "**This notebook is an exercise in the [Python](https://www.kaggle.com/learn/python) course.  You can reference the tutorial at [this link](https://www.kaggle.com/colinmorris/booleans-and-conditionals).**\n",
    "\n",
    "---\n"
   ]
  },
  {
   "cell_type": "markdown",
   "id": "b9ecbf3f",
   "metadata": {
    "papermill": {
     "duration": 0.007874,
     "end_time": "2024-06-02T11:57:45.249464",
     "exception": false,
     "start_time": "2024-06-02T11:57:45.241590",
     "status": "completed"
    },
    "tags": []
   },
   "source": [
    "In this exercise, you'll put to work what you have learned about booleans and conditionals.\n",
    "\n",
    "To get started, **run the setup code below** before writing your own code (and if you leave this notebook and come back later, don't forget to run the setup code again)."
   ]
  },
  {
   "cell_type": "code",
   "execution_count": 1,
   "id": "3d60bc0a",
   "metadata": {
    "execution": {
     "iopub.execute_input": "2024-06-02T11:57:45.268194Z",
     "iopub.status.busy": "2024-06-02T11:57:45.267680Z",
     "iopub.status.idle": "2024-06-02T11:57:46.223352Z",
     "shell.execute_reply": "2024-06-02T11:57:46.222086Z"
    },
    "papermill": {
     "duration": 0.968024,
     "end_time": "2024-06-02T11:57:46.225852",
     "exception": false,
     "start_time": "2024-06-02T11:57:45.257828",
     "status": "completed"
    },
    "tags": []
   },
   "outputs": [
    {
     "name": "stdout",
     "output_type": "stream",
     "text": [
      "Setup complete.\n"
     ]
    }
   ],
   "source": [
    "from learntools.core import binder; binder.bind(globals())\n",
    "from learntools.python.ex3 import *\n",
    "print('Setup complete.')"
   ]
  },
  {
   "cell_type": "markdown",
   "id": "cc23faa9",
   "metadata": {
    "papermill": {
     "duration": 0.007985,
     "end_time": "2024-06-02T11:57:46.242533",
     "exception": false,
     "start_time": "2024-06-02T11:57:46.234548",
     "status": "completed"
    },
    "tags": []
   },
   "source": [
    "# 1.\n",
    "\n",
    "Many programming languages have [`sign`](https://en.wikipedia.org/wiki/Sign_function) available as a built-in function. Python doesn't, but we can define our own!\n",
    "\n",
    "In the cell below, define a function called `sign` which takes a numerical argument and returns -1 if it's negative, 1 if it's positive, and 0 if it's 0."
   ]
  },
  {
   "cell_type": "code",
   "execution_count": 2,
   "id": "4d28c558",
   "metadata": {
    "execution": {
     "iopub.execute_input": "2024-06-02T11:57:46.261807Z",
     "iopub.status.busy": "2024-06-02T11:57:46.260454Z",
     "iopub.status.idle": "2024-06-02T11:57:46.272665Z",
     "shell.execute_reply": "2024-06-02T11:57:46.271554Z"
    },
    "papermill": {
     "duration": 0.024202,
     "end_time": "2024-06-02T11:57:46.275061",
     "exception": false,
     "start_time": "2024-06-02T11:57:46.250859",
     "status": "completed"
    },
    "tags": []
   },
   "outputs": [
    {
     "data": {
      "application/javascript": [
       "parent.postMessage({\"jupyterEvent\": \"custom.exercise_interaction\", \"data\": {\"outcomeType\": 1, \"valueTowardsCompletion\": 0.2, \"interactionType\": 1, \"questionType\": 2, \"questionId\": \"1_SignFunctionProblem\", \"learnToolsVersion\": \"0.3.4\", \"failureMessage\": \"\", \"exceptionClass\": \"\", \"trace\": \"\"}}, \"*\")"
      ],
      "text/plain": [
       "<IPython.core.display.Javascript object>"
      ]
     },
     "metadata": {},
     "output_type": "display_data"
    },
    {
     "data": {
      "text/markdown": [
       "<span style=\"color:#33cc33\">Correct</span>"
      ],
      "text/plain": [
       "Correct"
      ]
     },
     "metadata": {},
     "output_type": "display_data"
    }
   ],
   "source": [
    "def sign(num):\n",
    "    \"\"\"Return -1 if the number is negative, 1 if it is positive, and 0 if it is 0.\"\"\"\n",
    "    if num < 0:\n",
    "        return -1\n",
    "    elif num > 0:\n",
    "        return 1\n",
    "    else:\n",
    "        return 0\n",
    "\n",
    "# Check your answer\n",
    "q1.check()\n"
   ]
  },
  {
   "cell_type": "code",
   "execution_count": 3,
   "id": "e48d4bd1",
   "metadata": {
    "execution": {
     "iopub.execute_input": "2024-06-02T11:57:46.294160Z",
     "iopub.status.busy": "2024-06-02T11:57:46.293762Z",
     "iopub.status.idle": "2024-06-02T11:57:46.298615Z",
     "shell.execute_reply": "2024-06-02T11:57:46.297508Z"
    },
    "papermill": {
     "duration": 0.0169,
     "end_time": "2024-06-02T11:57:46.300690",
     "exception": false,
     "start_time": "2024-06-02T11:57:46.283790",
     "status": "completed"
    },
    "tags": []
   },
   "outputs": [],
   "source": [
    "#q1.solution()"
   ]
  },
  {
   "cell_type": "markdown",
   "id": "cc74d49b",
   "metadata": {
    "papermill": {
     "duration": 0.008834,
     "end_time": "2024-06-02T11:57:46.318880",
     "exception": false,
     "start_time": "2024-06-02T11:57:46.310046",
     "status": "completed"
    },
    "tags": []
   },
   "source": [
    "# 2.\n",
    "\n",
    "We've decided to add \"logging\" to our `to_smash` function from the previous exercise."
   ]
  },
  {
   "cell_type": "code",
   "execution_count": 4,
   "id": "08fca800",
   "metadata": {
    "execution": {
     "iopub.execute_input": "2024-06-02T11:57:46.337976Z",
     "iopub.status.busy": "2024-06-02T11:57:46.337591Z",
     "iopub.status.idle": "2024-06-02T11:57:46.348646Z",
     "shell.execute_reply": "2024-06-02T11:57:46.347628Z"
    },
    "papermill": {
     "duration": 0.023161,
     "end_time": "2024-06-02T11:57:46.350876",
     "exception": false,
     "start_time": "2024-06-02T11:57:46.327715",
     "status": "completed"
    },
    "tags": []
   },
   "outputs": [
    {
     "name": "stdout",
     "output_type": "stream",
     "text": [
      "Splitting 91 candies\n",
      "Splitting 1 candy\n"
     ]
    },
    {
     "data": {
      "application/javascript": [
       "parent.postMessage({\"jupyterEvent\": \"custom.exercise_interaction\", \"data\": {\"outcomeType\": 1, \"valueTowardsCompletion\": 0.2, \"interactionType\": 1, \"questionType\": 4, \"questionId\": \"2_PluralizationProblem\", \"learnToolsVersion\": \"0.3.4\", \"failureMessage\": \"\", \"exceptionClass\": \"\", \"trace\": \"\"}}, \"*\")"
      ],
      "text/plain": [
       "<IPython.core.display.Javascript object>"
      ]
     },
     "metadata": {},
     "output_type": "display_data"
    },
    {
     "data": {
      "text/markdown": [
       "<span style=\"color:#33cc33\">Correct:</span> \n",
       "\n",
       "A straightforward (and totally fine) solution is to replace the original `print` call with:\n",
       "\n",
       "```python\n",
       "if total_candies == 1:\n",
       "    print(\"Splitting 1 candy\")\n",
       "else:\n",
       "    print(\"Splitting\", total_candies, \"candies\")\n",
       "```\n",
       "\n",
       "Here's a slightly more succinct solution using a conditional expression:\n",
       "\n",
       "```python\n",
       "print(\"Splitting\", total_candies, \"candy\" if total_candies == 1 else \"candies\")\n",
       "```"
      ],
      "text/plain": [
       "Correct: \n",
       "\n",
       "A straightforward (and totally fine) solution is to replace the original `print` call with:\n",
       "\n",
       "```python\n",
       "if total_candies == 1:\n",
       "    print(\"Splitting 1 candy\")\n",
       "else:\n",
       "    print(\"Splitting\", total_candies, \"candies\")\n",
       "```\n",
       "\n",
       "Here's a slightly more succinct solution using a conditional expression:\n",
       "\n",
       "```python\n",
       "print(\"Splitting\", total_candies, \"candy\" if total_candies == 1 else \"candies\")\n",
       "```"
      ]
     },
     "metadata": {},
     "output_type": "display_data"
    }
   ],
   "source": [
    "def to_smash(total_candies):\n",
    "    \"\"\"Return the number of leftover candies that must be smashed after distributing\n",
    "    the given number of candies evenly between 3 friends.\n",
    "    \n",
    "    >>> to_smash(91)\n",
    "    1\n",
    "    \"\"\"\n",
    "    if total_candies == 1:\n",
    "        print(\"Splitting\", total_candies, \"candy\")\n",
    "    else:\n",
    "        print(\"Splitting\", total_candies, \"candies\")\n",
    "    return total_candies % 3\n",
    "\n",
    "# Test the function\n",
    "to_smash(91)\n",
    "to_smash(1)\n",
    "\n",
    "# Check your answer\n",
    "q2.check()\n"
   ]
  },
  {
   "cell_type": "markdown",
   "id": "7449c946",
   "metadata": {
    "papermill": {
     "duration": 0.00862,
     "end_time": "2024-06-02T11:57:46.369286",
     "exception": false,
     "start_time": "2024-06-02T11:57:46.360666",
     "status": "completed"
    },
    "tags": []
   },
   "source": [
    "What happens if we call it with `total_candies = 1`?"
   ]
  },
  {
   "cell_type": "code",
   "execution_count": 5,
   "id": "965f06bf",
   "metadata": {
    "execution": {
     "iopub.execute_input": "2024-06-02T11:57:46.388965Z",
     "iopub.status.busy": "2024-06-02T11:57:46.388591Z",
     "iopub.status.idle": "2024-06-02T11:57:46.396388Z",
     "shell.execute_reply": "2024-06-02T11:57:46.394981Z"
    },
    "papermill": {
     "duration": 0.020854,
     "end_time": "2024-06-02T11:57:46.399098",
     "exception": false,
     "start_time": "2024-06-02T11:57:46.378244",
     "status": "completed"
    },
    "tags": []
   },
   "outputs": [
    {
     "name": "stdout",
     "output_type": "stream",
     "text": [
      "Splitting 1 candy\n"
     ]
    },
    {
     "data": {
      "text/plain": [
       "1"
      ]
     },
     "execution_count": 5,
     "metadata": {},
     "output_type": "execute_result"
    }
   ],
   "source": [
    "to_smash(1)"
   ]
  },
  {
   "cell_type": "markdown",
   "id": "f4c50f28",
   "metadata": {
    "papermill": {
     "duration": 0.009069,
     "end_time": "2024-06-02T11:57:46.417586",
     "exception": false,
     "start_time": "2024-06-02T11:57:46.408517",
     "status": "completed"
    },
    "tags": []
   },
   "source": [
    "That isn't great grammar!\n",
    "\n",
    "Modify the definition in the cell below to correct the grammar of our print statement. (If there's only one candy, we should use the singular \"candy\" instead of the plural \"candies\")"
   ]
  },
  {
   "cell_type": "code",
   "execution_count": 6,
   "id": "aca8f8e5",
   "metadata": {
    "execution": {
     "iopub.execute_input": "2024-06-02T11:57:46.438206Z",
     "iopub.status.busy": "2024-06-02T11:57:46.437484Z",
     "iopub.status.idle": "2024-06-02T11:57:46.448259Z",
     "shell.execute_reply": "2024-06-02T11:57:46.447270Z"
    },
    "papermill": {
     "duration": 0.02365,
     "end_time": "2024-06-02T11:57:46.450600",
     "exception": false,
     "start_time": "2024-06-02T11:57:46.426950",
     "status": "completed"
    },
    "tags": []
   },
   "outputs": [
    {
     "name": "stdout",
     "output_type": "stream",
     "text": [
      "Splitting 91 candies\n",
      "Splitting 1 candy\n"
     ]
    },
    {
     "data": {
      "application/javascript": [
       "parent.postMessage({\"jupyterEvent\": \"custom.exercise_interaction\", \"data\": {\"outcomeType\": 1, \"valueTowardsCompletion\": 0.2, \"interactionType\": 1, \"questionType\": 4, \"questionId\": \"2_PluralizationProblem\", \"learnToolsVersion\": \"0.3.4\", \"failureMessage\": \"\", \"exceptionClass\": \"\", \"trace\": \"\"}}, \"*\")"
      ],
      "text/plain": [
       "<IPython.core.display.Javascript object>"
      ]
     },
     "metadata": {},
     "output_type": "display_data"
    },
    {
     "data": {
      "text/markdown": [
       "<span style=\"color:#33cc33\">Correct:</span> \n",
       "\n",
       "A straightforward (and totally fine) solution is to replace the original `print` call with:\n",
       "\n",
       "```python\n",
       "if total_candies == 1:\n",
       "    print(\"Splitting 1 candy\")\n",
       "else:\n",
       "    print(\"Splitting\", total_candies, \"candies\")\n",
       "```\n",
       "\n",
       "Here's a slightly more succinct solution using a conditional expression:\n",
       "\n",
       "```python\n",
       "print(\"Splitting\", total_candies, \"candy\" if total_candies == 1 else \"candies\")\n",
       "```"
      ],
      "text/plain": [
       "Correct: \n",
       "\n",
       "A straightforward (and totally fine) solution is to replace the original `print` call with:\n",
       "\n",
       "```python\n",
       "if total_candies == 1:\n",
       "    print(\"Splitting 1 candy\")\n",
       "else:\n",
       "    print(\"Splitting\", total_candies, \"candies\")\n",
       "```\n",
       "\n",
       "Here's a slightly more succinct solution using a conditional expression:\n",
       "\n",
       "```python\n",
       "print(\"Splitting\", total_candies, \"candy\" if total_candies == 1 else \"candies\")\n",
       "```"
      ]
     },
     "metadata": {},
     "output_type": "display_data"
    }
   ],
   "source": [
    "def to_smash(total_candies):\n",
    "    \"\"\"Return the number of leftover candies that must be smashed after distributing\n",
    "    the given number of candies evenly between 3 friends.\n",
    "    \n",
    "    >>> to_smash(91)\n",
    "    1\n",
    "    \"\"\"\n",
    "    if total_candies == 1:\n",
    "        print(\"Splitting\", total_candies, \"candy\")\n",
    "    else:\n",
    "        print(\"Splitting\", total_candies, \"candies\")\n",
    "    return total_candies % 3\n",
    "\n",
    "# Test the function\n",
    "to_smash(91)\n",
    "to_smash(1)\n",
    "\n",
    "# Check your answer\n",
    "q2.check()\n"
   ]
  },
  {
   "cell_type": "markdown",
   "id": "4dffafe5",
   "metadata": {
    "papermill": {
     "duration": 0.009123,
     "end_time": "2024-06-02T11:57:46.469292",
     "exception": false,
     "start_time": "2024-06-02T11:57:46.460169",
     "status": "completed"
    },
    "tags": []
   },
   "source": [
    "To get credit for completing this problem, and to see the official answer, run the code cell below."
   ]
  },
  {
   "cell_type": "code",
   "execution_count": 7,
   "id": "d654b0b9",
   "metadata": {
    "execution": {
     "iopub.execute_input": "2024-06-02T11:57:46.490000Z",
     "iopub.status.busy": "2024-06-02T11:57:46.489233Z",
     "iopub.status.idle": "2024-06-02T11:57:46.498582Z",
     "shell.execute_reply": "2024-06-02T11:57:46.497446Z"
    },
    "papermill": {
     "duration": 0.022425,
     "end_time": "2024-06-02T11:57:46.501149",
     "exception": false,
     "start_time": "2024-06-02T11:57:46.478724",
     "status": "completed"
    },
    "tags": []
   },
   "outputs": [
    {
     "data": {
      "application/javascript": [
       "parent.postMessage({\"jupyterEvent\": \"custom.exercise_interaction\", \"data\": {\"interactionType\": 3, \"questionType\": 4, \"questionId\": \"2_PluralizationProblem\", \"learnToolsVersion\": \"0.3.4\", \"valueTowardsCompletion\": 0.0, \"failureMessage\": \"\", \"exceptionClass\": \"\", \"trace\": \"\", \"outcomeType\": 4}}, \"*\")"
      ],
      "text/plain": [
       "<IPython.core.display.Javascript object>"
      ]
     },
     "metadata": {},
     "output_type": "display_data"
    },
    {
     "data": {
      "text/markdown": [
       "<span style=\"color:#33cc99\">Solution:</span> A straightforward (and totally fine) solution is to replace the original `print` call with:\n",
       "\n",
       "```python\n",
       "if total_candies == 1:\n",
       "    print(\"Splitting 1 candy\")\n",
       "else:\n",
       "    print(\"Splitting\", total_candies, \"candies\")\n",
       "```\n",
       "\n",
       "Here's a slightly more succinct solution using a conditional expression:\n",
       "\n",
       "```python\n",
       "print(\"Splitting\", total_candies, \"candy\" if total_candies == 1 else \"candies\")\n",
       "```"
      ],
      "text/plain": [
       "Solution: A straightforward (and totally fine) solution is to replace the original `print` call with:\n",
       "\n",
       "```python\n",
       "if total_candies == 1:\n",
       "    print(\"Splitting 1 candy\")\n",
       "else:\n",
       "    print(\"Splitting\", total_candies, \"candies\")\n",
       "```\n",
       "\n",
       "Here's a slightly more succinct solution using a conditional expression:\n",
       "\n",
       "```python\n",
       "print(\"Splitting\", total_candies, \"candy\" if total_candies == 1 else \"candies\")\n",
       "```"
      ]
     },
     "metadata": {},
     "output_type": "display_data"
    }
   ],
   "source": [
    "# Check your answer (Run this code cell to receive credit!)\n",
    "q2.solution()"
   ]
  },
  {
   "cell_type": "markdown",
   "id": "adb690a7",
   "metadata": {
    "papermill": {
     "duration": 0.00986,
     "end_time": "2024-06-02T11:57:46.521108",
     "exception": false,
     "start_time": "2024-06-02T11:57:46.511248",
     "status": "completed"
    },
    "tags": []
   },
   "source": [
    "# 3. <span title=\"A bit spicy\" style=\"color: darkgreen \">🌶️</span>\n",
    "\n",
    "In the tutorial, we talked about deciding whether we're prepared for the weather. I said that I'm safe from today's weather if...\n",
    "- I have an umbrella...\n",
    "- or if the rain isn't too heavy and I have a hood...\n",
    "- otherwise, I'm still fine unless it's raining *and* it's a workday\n",
    "\n",
    "The function below uses our first attempt at turning this logic into a Python expression. I claimed that there was a bug in that code. Can you find it?\n",
    "\n",
    "To prove that `prepared_for_weather` is buggy, come up with a set of inputs where either:\n",
    "- the function returns `False` (but should have returned `True`), or\n",
    "- the function returned `True` (but should have returned `False`).\n",
    "\n",
    "To get credit for completing this question, your code should return a <font color='#33cc33'>Correct</font> result."
   ]
  },
  {
   "cell_type": "code",
   "execution_count": 8,
   "id": "380c5fc7",
   "metadata": {
    "execution": {
     "iopub.execute_input": "2024-06-02T11:57:46.542806Z",
     "iopub.status.busy": "2024-06-02T11:57:46.542451Z",
     "iopub.status.idle": "2024-06-02T11:57:46.553734Z",
     "shell.execute_reply": "2024-06-02T11:57:46.552657Z"
    },
    "papermill": {
     "duration": 0.024908,
     "end_time": "2024-06-02T11:57:46.556080",
     "exception": false,
     "start_time": "2024-06-02T11:57:46.531172",
     "status": "completed"
    },
    "tags": []
   },
   "outputs": [
    {
     "name": "stdout",
     "output_type": "stream",
     "text": [
      "False\n"
     ]
    },
    {
     "data": {
      "application/javascript": [
       "parent.postMessage({\"jupyterEvent\": \"custom.exercise_interaction\", \"data\": {\"outcomeType\": 1, \"valueTowardsCompletion\": 0.2, \"interactionType\": 1, \"questionType\": 1, \"questionId\": \"3_WeatherDebug\", \"learnToolsVersion\": \"0.3.4\", \"failureMessage\": \"\", \"exceptionClass\": \"\", \"trace\": \"\"}}, \"*\")"
      ],
      "text/plain": [
       "<IPython.core.display.Javascript object>"
      ]
     },
     "metadata": {},
     "output_type": "display_data"
    },
    {
     "data": {
      "text/markdown": [
       "<span style=\"color:#33cc33\">Correct:</span> \n",
       "\n",
       "One example of a failing test case is:\n",
       "\n",
       "```python\n",
       "have_umbrella = False\n",
       "rain_level = 0.0\n",
       "have_hood = False\n",
       "is_workday = False\n",
       "```\n",
       "\n",
       "Clearly we're prepared for the weather in this case. It's not raining. Not only that, it's not a workday, so we don't even need to leave the house! But our function will return False on these inputs.\n",
       "\n",
       "The key problem is that Python implictly parenthesizes the last part as:\n",
       "\n",
       "```python\n",
       "(not (rain_level > 0)) and is_workday\n",
       "```\n",
       "\n",
       "Whereas what we were trying to express would look more like:\n",
       "\n",
       "```python\n",
       "not (rain_level > 0 and is_workday)\n",
       "```\n"
      ],
      "text/plain": [
       "Correct: \n",
       "\n",
       "One example of a failing test case is:\n",
       "\n",
       "```python\n",
       "have_umbrella = False\n",
       "rain_level = 0.0\n",
       "have_hood = False\n",
       "is_workday = False\n",
       "```\n",
       "\n",
       "Clearly we're prepared for the weather in this case. It's not raining. Not only that, it's not a workday, so we don't even need to leave the house! But our function will return False on these inputs.\n",
       "\n",
       "The key problem is that Python implictly parenthesizes the last part as:\n",
       "\n",
       "```python\n",
       "(not (rain_level > 0)) and is_workday\n",
       "```\n",
       "\n",
       "Whereas what we were trying to express would look more like:\n",
       "\n",
       "```python\n",
       "not (rain_level > 0 and is_workday)\n",
       "```"
      ]
     },
     "metadata": {},
     "output_type": "display_data"
    }
   ],
   "source": [
    "def prepared_for_weather(have_umbrella, rain_level, have_hood, is_workday):\n",
    "    return have_umbrella or rain_level < 5 and have_hood or not rain_level > 0 and is_workday\n",
    "\n",
    "# Change the values of these inputs so they represent a case where prepared_for_weather\n",
    "# returns the wrong answer.\n",
    "have_umbrella = False\n",
    "rain_level = 6\n",
    "have_hood = False\n",
    "is_workday = False\n",
    "\n",
    "# Check what the function returns given the current values of the variables above\n",
    "actual = prepared_for_weather(have_umbrella, rain_level, have_hood, is_workday)\n",
    "print(actual)\n",
    "\n",
    "# Check your answer\n",
    "q3.check()\n"
   ]
  },
  {
   "cell_type": "code",
   "execution_count": 9,
   "id": "4a1e5630",
   "metadata": {
    "execution": {
     "iopub.execute_input": "2024-06-02T11:57:46.578107Z",
     "iopub.status.busy": "2024-06-02T11:57:46.577705Z",
     "iopub.status.idle": "2024-06-02T11:57:46.582266Z",
     "shell.execute_reply": "2024-06-02T11:57:46.581333Z"
    },
    "papermill": {
     "duration": 0.01809,
     "end_time": "2024-06-02T11:57:46.584492",
     "exception": false,
     "start_time": "2024-06-02T11:57:46.566402",
     "status": "completed"
    },
    "tags": []
   },
   "outputs": [],
   "source": [
    "#q3.hint()\n",
    "#q3.solution()"
   ]
  },
  {
   "cell_type": "markdown",
   "id": "9cfa2196",
   "metadata": {
    "papermill": {
     "duration": 0.01038,
     "end_time": "2024-06-02T11:57:46.605233",
     "exception": false,
     "start_time": "2024-06-02T11:57:46.594853",
     "status": "completed"
    },
    "tags": []
   },
   "source": [
    "# 4.\n",
    "\n",
    "The function `is_negative` below is implemented correctly - it returns True if the given number is negative and False otherwise.\n",
    "\n",
    "However, it's more verbose than it needs to be. We can actually reduce the number of lines of code in this function by *75%* while keeping the same behaviour. \n",
    "\n",
    "See if you can come up with an equivalent body that uses just **one line** of code, and put it in the function `concise_is_negative`. (HINT: you don't even need Python's ternary syntax)"
   ]
  },
  {
   "cell_type": "code",
   "execution_count": 10,
   "id": "f4974e15",
   "metadata": {
    "execution": {
     "iopub.execute_input": "2024-06-02T11:57:46.627215Z",
     "iopub.status.busy": "2024-06-02T11:57:46.626816Z",
     "iopub.status.idle": "2024-06-02T11:57:46.636470Z",
     "shell.execute_reply": "2024-06-02T11:57:46.635375Z"
    },
    "papermill": {
     "duration": 0.023337,
     "end_time": "2024-06-02T11:57:46.638748",
     "exception": false,
     "start_time": "2024-06-02T11:57:46.615411",
     "status": "completed"
    },
    "tags": []
   },
   "outputs": [
    {
     "data": {
      "application/javascript": [
       "parent.postMessage({\"jupyterEvent\": \"custom.exercise_interaction\", \"data\": {\"outcomeType\": 1, \"valueTowardsCompletion\": 0.2, \"interactionType\": 1, \"questionType\": 2, \"questionId\": \"4_ConciseIsNegative\", \"learnToolsVersion\": \"0.3.4\", \"failureMessage\": \"\", \"exceptionClass\": \"\", \"trace\": \"\"}}, \"*\")"
      ],
      "text/plain": [
       "<IPython.core.display.Javascript object>"
      ]
     },
     "metadata": {},
     "output_type": "display_data"
    },
    {
     "data": {
      "text/markdown": [
       "<span style=\"color:#33cc33\">Correct</span>"
      ],
      "text/plain": [
       "Correct"
      ]
     },
     "metadata": {},
     "output_type": "display_data"
    }
   ],
   "source": [
    "def is_negative(number):\n",
    "    if number < 0:\n",
    "        return True\n",
    "    else:\n",
    "        return False\n",
    "\n",
    "def concise_is_negative(number):\n",
    "    return number < 0\n",
    "\n",
    "# Check your answer\n",
    "q4.check()\n"
   ]
  },
  {
   "cell_type": "code",
   "execution_count": 11,
   "id": "22b320ac",
   "metadata": {
    "execution": {
     "iopub.execute_input": "2024-06-02T11:57:46.663063Z",
     "iopub.status.busy": "2024-06-02T11:57:46.662665Z",
     "iopub.status.idle": "2024-06-02T11:57:46.667382Z",
     "shell.execute_reply": "2024-06-02T11:57:46.666233Z"
    },
    "papermill": {
     "duration": 0.01977,
     "end_time": "2024-06-02T11:57:46.669705",
     "exception": false,
     "start_time": "2024-06-02T11:57:46.649935",
     "status": "completed"
    },
    "tags": []
   },
   "outputs": [],
   "source": [
    "#q4.hint()\n",
    "#q4.solution()"
   ]
  },
  {
   "cell_type": "markdown",
   "id": "8b95de33",
   "metadata": {
    "papermill": {
     "duration": 0.010785,
     "end_time": "2024-06-02T11:57:46.691275",
     "exception": false,
     "start_time": "2024-06-02T11:57:46.680490",
     "status": "completed"
    },
    "tags": []
   },
   "source": [
    "# 5a.\n",
    "\n",
    "The boolean variables `ketchup`, `mustard` and `onion` represent whether a customer wants a particular topping on their hot dog. We want to implement a number of boolean functions that correspond to some yes-or-no questions about the customer's order. For example:"
   ]
  },
  {
   "cell_type": "code",
   "execution_count": 12,
   "id": "3113271c",
   "metadata": {
    "execution": {
     "iopub.execute_input": "2024-06-02T11:57:46.715043Z",
     "iopub.status.busy": "2024-06-02T11:57:46.714603Z",
     "iopub.status.idle": "2024-06-02T11:57:46.720124Z",
     "shell.execute_reply": "2024-06-02T11:57:46.718981Z"
    },
    "papermill": {
     "duration": 0.019968,
     "end_time": "2024-06-02T11:57:46.722564",
     "exception": false,
     "start_time": "2024-06-02T11:57:46.702596",
     "status": "completed"
    },
    "tags": []
   },
   "outputs": [],
   "source": [
    "def onionless(ketchup, mustard, onion):\n",
    "    \"\"\"Return whether the customer doesn't want onions.\n",
    "    \"\"\"\n",
    "    return not onion"
   ]
  },
  {
   "cell_type": "code",
   "execution_count": 13,
   "id": "4dacddc7",
   "metadata": {
    "execution": {
     "iopub.execute_input": "2024-06-02T11:57:46.746285Z",
     "iopub.status.busy": "2024-06-02T11:57:46.745838Z",
     "iopub.status.idle": "2024-06-02T11:57:46.755586Z",
     "shell.execute_reply": "2024-06-02T11:57:46.754452Z"
    },
    "papermill": {
     "duration": 0.024014,
     "end_time": "2024-06-02T11:57:46.757933",
     "exception": false,
     "start_time": "2024-06-02T11:57:46.733919",
     "status": "completed"
    },
    "tags": []
   },
   "outputs": [
    {
     "data": {
      "application/javascript": [
       "parent.postMessage({\"jupyterEvent\": \"custom.exercise_interaction\", \"data\": {\"outcomeType\": 1, \"valueTowardsCompletion\": 0.2, \"interactionType\": 1, \"questionType\": 2, \"questionId\": \"5.1_AllToppings\", \"learnToolsVersion\": \"0.3.4\", \"failureMessage\": \"\", \"exceptionClass\": \"\", \"trace\": \"\"}}, \"*\")"
      ],
      "text/plain": [
       "<IPython.core.display.Javascript object>"
      ]
     },
     "metadata": {},
     "output_type": "display_data"
    },
    {
     "data": {
      "text/markdown": [
       "<span style=\"color:#33cc33\">Correct</span>"
      ],
      "text/plain": [
       "Correct"
      ]
     },
     "metadata": {},
     "output_type": "display_data"
    }
   ],
   "source": [
    "def wants_all_toppings(ketchup, mustard, onion):\n",
    "    \"\"\"Return whether the customer wants \"the works\" (all 3 toppings)\n",
    "    \"\"\"\n",
    "    return ketchup and mustard and onion\n",
    "\n",
    "# Check your answer\n",
    "q5.a.check()"
   ]
  },
  {
   "cell_type": "code",
   "execution_count": 14,
   "id": "1cbc6579",
   "metadata": {
    "execution": {
     "iopub.execute_input": "2024-06-02T11:57:46.782797Z",
     "iopub.status.busy": "2024-06-02T11:57:46.781725Z",
     "iopub.status.idle": "2024-06-02T11:57:46.786777Z",
     "shell.execute_reply": "2024-06-02T11:57:46.785453Z"
    },
    "papermill": {
     "duration": 0.020036,
     "end_time": "2024-06-02T11:57:46.789090",
     "exception": false,
     "start_time": "2024-06-02T11:57:46.769054",
     "status": "completed"
    },
    "tags": []
   },
   "outputs": [],
   "source": [
    "#q5.a.hint()\n",
    "#q5.a.solution()"
   ]
  },
  {
   "cell_type": "markdown",
   "id": "394c7d88",
   "metadata": {
    "papermill": {
     "duration": 0.01056,
     "end_time": "2024-06-02T11:57:46.810928",
     "exception": false,
     "start_time": "2024-06-02T11:57:46.800368",
     "status": "completed"
    },
    "tags": []
   },
   "source": [
    "# 5b.\n",
    "\n",
    "For the next function, fill in the body to match the English description in the docstring. "
   ]
  },
  {
   "cell_type": "code",
   "execution_count": 15,
   "id": "fe283e91",
   "metadata": {
    "execution": {
     "iopub.execute_input": "2024-06-02T11:57:46.834557Z",
     "iopub.status.busy": "2024-06-02T11:57:46.834155Z",
     "iopub.status.idle": "2024-06-02T11:57:46.843485Z",
     "shell.execute_reply": "2024-06-02T11:57:46.842348Z"
    },
    "papermill": {
     "duration": 0.02396,
     "end_time": "2024-06-02T11:57:46.845886",
     "exception": false,
     "start_time": "2024-06-02T11:57:46.821926",
     "status": "completed"
    },
    "tags": []
   },
   "outputs": [
    {
     "data": {
      "application/javascript": [
       "parent.postMessage({\"jupyterEvent\": \"custom.exercise_interaction\", \"data\": {\"outcomeType\": 1, \"valueTowardsCompletion\": 0.2, \"interactionType\": 1, \"questionType\": 2, \"questionId\": \"5.2_PlainDog\", \"learnToolsVersion\": \"0.3.4\", \"failureMessage\": \"\", \"exceptionClass\": \"\", \"trace\": \"\"}}, \"*\")"
      ],
      "text/plain": [
       "<IPython.core.display.Javascript object>"
      ]
     },
     "metadata": {},
     "output_type": "display_data"
    },
    {
     "data": {
      "text/markdown": [
       "<span style=\"color:#33cc33\">Correct:</span> \n",
       "\n",
       "One solution looks like:\n",
       "```python\n",
       "return not ketchup and not mustard and not onion\n",
       "```\n",
       "\n",
       "We can also [\"factor out\" the nots](https://en.wikipedia.org/wiki/De_Morgan%27s_laws) to get:\n",
       "\n",
       "```python\n",
       "return not (ketchup or mustard or onion)\n",
       "```"
      ],
      "text/plain": [
       "Correct: \n",
       "\n",
       "One solution looks like:\n",
       "```python\n",
       "return not ketchup and not mustard and not onion\n",
       "```\n",
       "\n",
       "We can also [\"factor out\" the nots](https://en.wikipedia.org/wiki/De_Morgan%27s_laws) to get:\n",
       "\n",
       "```python\n",
       "return not (ketchup or mustard or onion)\n",
       "```"
      ]
     },
     "metadata": {},
     "output_type": "display_data"
    }
   ],
   "source": [
    "def wants_plain_hotdog(ketchup, mustard, onion):\n",
    "    \"\"\"Return whether the customer wants a plain hot dog with no toppings.\n",
    "    \"\"\"\n",
    "    return not (ketchup or mustard or onion)\n",
    "\n",
    "# Check your answer\n",
    "q5.b.check()"
   ]
  },
  {
   "cell_type": "code",
   "execution_count": 16,
   "id": "ff8e0c6a",
   "metadata": {
    "execution": {
     "iopub.execute_input": "2024-06-02T11:57:46.871165Z",
     "iopub.status.busy": "2024-06-02T11:57:46.870341Z",
     "iopub.status.idle": "2024-06-02T11:57:46.875024Z",
     "shell.execute_reply": "2024-06-02T11:57:46.873814Z"
    },
    "papermill": {
     "duration": 0.019715,
     "end_time": "2024-06-02T11:57:46.877433",
     "exception": false,
     "start_time": "2024-06-02T11:57:46.857718",
     "status": "completed"
    },
    "tags": []
   },
   "outputs": [],
   "source": [
    "#q5.b.hint()\n",
    "#q5.b.solution()"
   ]
  },
  {
   "cell_type": "markdown",
   "id": "ffdf19ed",
   "metadata": {
    "papermill": {
     "duration": 0.011363,
     "end_time": "2024-06-02T11:57:46.900227",
     "exception": false,
     "start_time": "2024-06-02T11:57:46.888864",
     "status": "completed"
    },
    "tags": []
   },
   "source": [
    "# 5c.\n",
    "\n",
    "You know what to do: for the next function, fill in the body to match the English description in the docstring."
   ]
  },
  {
   "cell_type": "code",
   "execution_count": 17,
   "id": "5df99a1a",
   "metadata": {
    "execution": {
     "iopub.execute_input": "2024-06-02T11:57:46.924767Z",
     "iopub.status.busy": "2024-06-02T11:57:46.923614Z",
     "iopub.status.idle": "2024-06-02T11:57:46.935929Z",
     "shell.execute_reply": "2024-06-02T11:57:46.934748Z"
    },
    "papermill": {
     "duration": 0.027002,
     "end_time": "2024-06-02T11:57:46.938370",
     "exception": false,
     "start_time": "2024-06-02T11:57:46.911368",
     "status": "completed"
    },
    "tags": []
   },
   "outputs": [
    {
     "data": {
      "application/javascript": [
       "parent.postMessage({\"jupyterEvent\": \"custom.exercise_interaction\", \"data\": {\"outcomeType\": 1, \"valueTowardsCompletion\": 0.2, \"interactionType\": 1, \"questionType\": 2, \"questionId\": \"5.3_OneSauce\", \"learnToolsVersion\": \"0.3.4\", \"failureMessage\": \"\", \"exceptionClass\": \"\", \"trace\": \"\"}}, \"*\")"
      ],
      "text/plain": [
       "<IPython.core.display.Javascript object>"
      ]
     },
     "metadata": {},
     "output_type": "display_data"
    },
    {
     "data": {
      "text/markdown": [
       "<span style=\"color:#33cc33\">Correct</span>"
      ],
      "text/plain": [
       "Correct"
      ]
     },
     "metadata": {},
     "output_type": "display_data"
    }
   ],
   "source": [
    "def exactly_one_sauce(ketchup, mustard, onion):\n",
    "    \"\"\"Return whether the customer wants either ketchup or mustard, but not both.\n",
    "    (You may be familiar with this operation under the name \"exclusive or\")\n",
    "    \"\"\"\n",
    "    return (ketchup and not mustard) or (not ketchup and mustard)\n",
    "\n",
    "# Check your answer\n",
    "q5.c.check()"
   ]
  },
  {
   "cell_type": "code",
   "execution_count": 18,
   "id": "ba2c4391",
   "metadata": {
    "execution": {
     "iopub.execute_input": "2024-06-02T11:57:46.963822Z",
     "iopub.status.busy": "2024-06-02T11:57:46.962726Z",
     "iopub.status.idle": "2024-06-02T11:57:46.967279Z",
     "shell.execute_reply": "2024-06-02T11:57:46.966280Z"
    },
    "papermill": {
     "duration": 0.019616,
     "end_time": "2024-06-02T11:57:46.969528",
     "exception": false,
     "start_time": "2024-06-02T11:57:46.949912",
     "status": "completed"
    },
    "tags": []
   },
   "outputs": [],
   "source": [
    "#q5.c.hint()\n",
    "#q5.c.solution()"
   ]
  },
  {
   "cell_type": "markdown",
   "id": "bda98ed5",
   "metadata": {
    "papermill": {
     "duration": 0.011101,
     "end_time": "2024-06-02T11:57:46.991983",
     "exception": false,
     "start_time": "2024-06-02T11:57:46.980882",
     "status": "completed"
    },
    "tags": []
   },
   "source": [
    "# 6. <span title=\"A bit spicy\" style=\"color: darkgreen \">🌶️</span>\n",
    "\n",
    "We’ve seen that calling `bool()` on an integer returns `False` if it’s equal to 0 and `True` otherwise. What happens if we call `int()` on a bool? Try it out in the notebook cell below.\n",
    "\n",
    "Can you take advantage of this to write a succinct function that corresponds to the English sentence \"does the customer want exactly one topping?\"?"
   ]
  },
  {
   "cell_type": "code",
   "execution_count": 19,
   "id": "d477d79c",
   "metadata": {
    "execution": {
     "iopub.execute_input": "2024-06-02T11:57:47.016618Z",
     "iopub.status.busy": "2024-06-02T11:57:47.016139Z",
     "iopub.status.idle": "2024-06-02T11:57:47.025852Z",
     "shell.execute_reply": "2024-06-02T11:57:47.024802Z"
    },
    "papermill": {
     "duration": 0.024664,
     "end_time": "2024-06-02T11:57:47.028009",
     "exception": false,
     "start_time": "2024-06-02T11:57:47.003345",
     "status": "completed"
    },
    "tags": []
   },
   "outputs": [
    {
     "data": {
      "application/javascript": [
       "parent.postMessage({\"jupyterEvent\": \"custom.exercise_interaction\", \"data\": {\"outcomeType\": 1, \"valueTowardsCompletion\": 0.2, \"interactionType\": 1, \"questionType\": 2, \"questionId\": \"6_OneTopping\", \"learnToolsVersion\": \"0.3.4\", \"failureMessage\": \"\", \"exceptionClass\": \"\", \"trace\": \"\"}}, \"*\")"
      ],
      "text/plain": [
       "<IPython.core.display.Javascript object>"
      ]
     },
     "metadata": {},
     "output_type": "display_data"
    },
    {
     "data": {
      "text/markdown": [
       "<span style=\"color:#33cc33\">Correct:</span> \n",
       "\n",
       "This condition would be pretty complicated to express using just `and`, `or` and `not`, but using boolean-to-integer conversion gives us this short solution:\n",
       "```python\n",
       "return (int(ketchup) + int(mustard) + int(onion)) == 1\n",
       "```\n",
       "\n",
       "Fun fact: we don't technically need to call `int` on the arguments. Just by doing addition with booleans, Python implicitly does the integer conversion. So we could also write...\n",
       "\n",
       "```python\n",
       "return (ketchup + mustard + onion) == 1\n",
       "```"
      ],
      "text/plain": [
       "Correct: \n",
       "\n",
       "This condition would be pretty complicated to express using just `and`, `or` and `not`, but using boolean-to-integer conversion gives us this short solution:\n",
       "```python\n",
       "return (int(ketchup) + int(mustard) + int(onion)) == 1\n",
       "```\n",
       "\n",
       "Fun fact: we don't technically need to call `int` on the arguments. Just by doing addition with booleans, Python implicitly does the integer conversion. So we could also write...\n",
       "\n",
       "```python\n",
       "return (ketchup + mustard + onion) == 1\n",
       "```"
      ]
     },
     "metadata": {},
     "output_type": "display_data"
    }
   ],
   "source": [
    "def exactly_one_topping(ketchup, mustard, onion):\n",
    "    \"\"\"Return whether the customer wants exactly one of the three available toppings\n",
    "    on their hot dog.\n",
    "    \"\"\"\n",
    "    return (int(ketchup) + int(mustard) + int(onion)) == 1\n",
    "\n",
    "# Check your answer\n",
    "q6.check()"
   ]
  },
  {
   "cell_type": "code",
   "execution_count": 20,
   "id": "da9ac985",
   "metadata": {
    "execution": {
     "iopub.execute_input": "2024-06-02T11:57:47.054113Z",
     "iopub.status.busy": "2024-06-02T11:57:47.052830Z",
     "iopub.status.idle": "2024-06-02T11:57:47.057819Z",
     "shell.execute_reply": "2024-06-02T11:57:47.056741Z"
    },
    "papermill": {
     "duration": 0.020456,
     "end_time": "2024-06-02T11:57:47.060125",
     "exception": false,
     "start_time": "2024-06-02T11:57:47.039669",
     "status": "completed"
    },
    "tags": []
   },
   "outputs": [],
   "source": [
    "#q6.hint()\n",
    "#q6.solution()"
   ]
  },
  {
   "cell_type": "markdown",
   "id": "5e89074f",
   "metadata": {
    "papermill": {
     "duration": 0.011501,
     "end_time": "2024-06-02T11:57:47.083460",
     "exception": false,
     "start_time": "2024-06-02T11:57:47.071959",
     "status": "completed"
    },
    "tags": []
   },
   "source": [
    "# 7. <span title=\"A bit spicy\" style=\"color: darkgreen \">🌶️</span> (Optional)\n",
    "\n",
    "In this problem we'll be working with a simplified version of [blackjack](https://en.wikipedia.org/wiki/Blackjack) (aka twenty-one). In this version there is one player (who you'll control) and a dealer. Play proceeds as follows:\n",
    "\n",
    "- The player is dealt two face-up cards. The dealer is dealt one face-up card.\n",
    "- The player may ask to be dealt another card ('hit') as many times as they wish. If the sum of their cards exceeds 21, they lose the round immediately.\n",
    "- The dealer then deals additional cards to himself until either:\n",
    "    - the sum of the dealer's cards exceeds 21, in which case the player wins the round\n",
    "    - the sum of the dealer's cards is greater than or equal to 17. If the player's total is greater than the dealer's, the player wins. Otherwise, the dealer wins (even in case of a tie).\n",
    "    \n",
    "When calculating the sum of cards, Jack, Queen, and King count for 10. Aces can count as 1 or 11 (when referring to a player's \"total\" above, we mean the largest total that can be made without exceeding 21. So e.g. A+8 = 19, A+8+8 = 17)\n",
    "\n",
    "For this problem, you'll write a function representing the player's decision-making strategy in this game. We've provided a very unintelligent implementation below:"
   ]
  },
  {
   "cell_type": "code",
   "execution_count": 21,
   "id": "14de2f95",
   "metadata": {
    "execution": {
     "iopub.execute_input": "2024-06-02T11:57:47.171549Z",
     "iopub.status.busy": "2024-06-02T11:57:47.171141Z",
     "iopub.status.idle": "2024-06-02T11:57:47.178389Z",
     "shell.execute_reply": "2024-06-02T11:57:47.177231Z"
    },
    "papermill": {
     "duration": 0.02377,
     "end_time": "2024-06-02T11:57:47.180812",
     "exception": false,
     "start_time": "2024-06-02T11:57:47.157042",
     "status": "completed"
    },
    "tags": []
   },
   "outputs": [
    {
     "name": "stdout",
     "output_type": "stream",
     "text": [
      "True\n",
      "False\n"
     ]
    }
   ],
   "source": [
    "def should_hit(dealer_total, player_total, player_low_aces, player_high_aces):\n",
    "    \"\"\"Return True if the player should hit (request another card) given the current game\n",
    "    state, or False if the player should stay.\n",
    "    When calculating a hand's total value, we count aces as \"high\" (with value 11) if doing so\n",
    "    doesn't bring the total above 21, otherwise we count them as low (with value 1). \n",
    "    For example, if the player's hand is {A, A, A, 7}, we will count it as 11 + 1 + 1 + 7,\n",
    "    and therefore set player_total=20, player_low_aces=2, player_high_aces=1.\n",
    "    \"\"\"\n",
    "    # Player should hit if total is less than 17\n",
    "    if player_total < 17:\n",
    "        return True\n",
    "    # If player_total is 17 or more, the player should stay\n",
    "    else:\n",
    "        return False\n",
    "\n",
    "# Example usage:\n",
    "print(should_hit(10, 16, 1, 1))  # True, since player_total < 17\n",
    "print(should_hit(10, 18, 1, 0))  # False, since player_total >= 17\n",
    "\n",
    "# You can test with other values to check the logic\n"
   ]
  },
  {
   "cell_type": "markdown",
   "id": "2d4fa2cf",
   "metadata": {
    "papermill": {
     "duration": 0.012354,
     "end_time": "2024-06-02T11:57:47.205190",
     "exception": false,
     "start_time": "2024-06-02T11:57:47.192836",
     "status": "completed"
    },
    "tags": []
   },
   "source": [
    "This very conservative agent *always* sticks with the hand of two cards that they're dealt.\n",
    "\n",
    "We'll be simulating games between your player agent and our own dealer agent by calling your function.\n",
    "\n",
    "Try running the function below to see an example of a simulated game:"
   ]
  },
  {
   "cell_type": "code",
   "execution_count": 22,
   "id": "f57280b4",
   "metadata": {
    "execution": {
     "iopub.execute_input": "2024-06-02T11:57:47.230750Z",
     "iopub.status.busy": "2024-06-02T11:57:47.230370Z",
     "iopub.status.idle": "2024-06-02T11:57:47.236188Z",
     "shell.execute_reply": "2024-06-02T11:57:47.235042Z"
    },
    "papermill": {
     "duration": 0.021522,
     "end_time": "2024-06-02T11:57:47.238721",
     "exception": false,
     "start_time": "2024-06-02T11:57:47.217199",
     "status": "completed"
    },
    "tags": []
   },
   "outputs": [
    {
     "name": "stdout",
     "output_type": "stream",
     "text": [
      "Player starts with Q and 3 (total = 13)\n",
      "Dealer starts with A\n",
      "\n",
      "__Player's turn__\n",
      "Player hits and receives J. (total = 23)\n",
      "Player busts! Dealer wins.\n"
     ]
    }
   ],
   "source": [
    "q7.simulate_one_game()"
   ]
  },
  {
   "cell_type": "markdown",
   "id": "f37a76a6",
   "metadata": {
    "papermill": {
     "duration": 0.011976,
     "end_time": "2024-06-02T11:57:47.262900",
     "exception": false,
     "start_time": "2024-06-02T11:57:47.250924",
     "status": "completed"
    },
    "tags": []
   },
   "source": [
    "The real test of your agent's mettle is their average win rate over many games. Try calling the function below to simulate 50000 games of blackjack (it may take a couple seconds):"
   ]
  },
  {
   "cell_type": "code",
   "execution_count": 23,
   "id": "d914ff70",
   "metadata": {
    "execution": {
     "iopub.execute_input": "2024-06-02T11:57:47.288876Z",
     "iopub.status.busy": "2024-06-02T11:57:47.288489Z",
     "iopub.status.idle": "2024-06-02T11:57:48.804233Z",
     "shell.execute_reply": "2024-06-02T11:57:48.802732Z"
    },
    "papermill": {
     "duration": 1.531926,
     "end_time": "2024-06-02T11:57:48.807095",
     "exception": false,
     "start_time": "2024-06-02T11:57:47.275169",
     "status": "completed"
    },
    "tags": []
   },
   "outputs": [
    {
     "name": "stdout",
     "output_type": "stream",
     "text": [
      "Player won 20244 out of 50000 games (win rate = 40.5%)\n"
     ]
    }
   ],
   "source": [
    "q7.simulate(n_games=50000)"
   ]
  },
  {
   "cell_type": "markdown",
   "id": "12eb26e1",
   "metadata": {
    "papermill": {
     "duration": 0.011868,
     "end_time": "2024-06-02T11:57:48.832653",
     "exception": false,
     "start_time": "2024-06-02T11:57:48.820785",
     "status": "completed"
    },
    "tags": []
   },
   "source": [
    "Our dumb agent that completely ignores the game state still manages to win shockingly often!\n",
    "\n",
    "Try adding some more smarts to the `should_hit` function and see how it affects the results."
   ]
  },
  {
   "cell_type": "code",
   "execution_count": 24,
   "id": "1ece8f4d",
   "metadata": {
    "execution": {
     "iopub.execute_input": "2024-06-02T11:57:48.859467Z",
     "iopub.status.busy": "2024-06-02T11:57:48.858509Z",
     "iopub.status.idle": "2024-06-02T11:57:50.308210Z",
     "shell.execute_reply": "2024-06-02T11:57:50.306869Z"
    },
    "papermill": {
     "duration": 1.465719,
     "end_time": "2024-06-02T11:57:50.310623",
     "exception": false,
     "start_time": "2024-06-02T11:57:48.844904",
     "status": "completed"
    },
    "tags": []
   },
   "outputs": [
    {
     "name": "stdout",
     "output_type": "stream",
     "text": [
      "Player won 19152 out of 50000 games (win rate = 38.3%)\n"
     ]
    }
   ],
   "source": [
    "def should_hit(dealer_total, player_total, player_low_aces, player_high_aces):\n",
    "    \"\"\"Return True if the player should hit (request another card) given the current game\n",
    "    state, or False if the player should stay.\n",
    "    When calculating a hand's total value, we count aces as \"high\" (with value 11) if doing so\n",
    "    doesn't bring the total above 21, otherwise we count them as low (with value 1). \n",
    "    For example, if the player's hand is {A, A, A, 7}, we will count it as 11 + 1 + 1 + 7,\n",
    "    and therefore set player_total=20, player_low_aces=2, player_high_aces=1.\n",
    "    \"\"\"\n",
    "    return False\n",
    "\n",
    "q7.simulate(n_games=50000)"
   ]
  },
  {
   "cell_type": "markdown",
   "id": "252546f4",
   "metadata": {
    "papermill": {
     "duration": 0.013927,
     "end_time": "2024-06-02T11:57:50.338466",
     "exception": false,
     "start_time": "2024-06-02T11:57:50.324539",
     "status": "completed"
    },
    "tags": []
   },
   "source": [
    "# Keep Going\n",
    "\n",
    "Learn about **[lists and tuples](https://www.kaggle.com/colinmorris/lists)** to handle multiple items of data in a systematic way."
   ]
  },
  {
   "cell_type": "markdown",
   "id": "c5a2a16b",
   "metadata": {
    "papermill": {
     "duration": 0.012153,
     "end_time": "2024-06-02T11:57:50.362858",
     "exception": false,
     "start_time": "2024-06-02T11:57:50.350705",
     "status": "completed"
    },
    "tags": []
   },
   "source": [
    "---\n",
    "\n",
    "\n",
    "\n",
    "\n",
    "*Have questions or comments? Visit the [course discussion forum](https://www.kaggle.com/learn/python/discussion) to chat with other learners.*"
   ]
  }
 ],
 "metadata": {
  "kaggle": {
   "accelerator": "none",
   "dataSources": [],
   "isGpuEnabled": false,
   "isInternetEnabled": false,
   "language": "python",
   "sourceType": "notebook"
  },
  "kernelspec": {
   "display_name": "Python 3",
   "language": "python",
   "name": "python3"
  },
  "language_info": {
   "codemirror_mode": {
    "name": "ipython",
    "version": 3
   },
   "file_extension": ".py",
   "mimetype": "text/x-python",
   "name": "python",
   "nbconvert_exporter": "python",
   "pygments_lexer": "ipython3",
   "version": "3.10.13"
  },
  "learntools_metadata": {
   "lesson_index": 2,
   "type": "exercise"
  },
  "papermill": {
   "default_parameters": {},
   "duration": 9.009532,
   "end_time": "2024-06-02T11:57:50.896903",
   "environment_variables": {},
   "exception": null,
   "input_path": "__notebook__.ipynb",
   "output_path": "__notebook__.ipynb",
   "parameters": {},
   "start_time": "2024-06-02T11:57:41.887371",
   "version": "2.5.0"
  }
 },
 "nbformat": 4,
 "nbformat_minor": 5
}
